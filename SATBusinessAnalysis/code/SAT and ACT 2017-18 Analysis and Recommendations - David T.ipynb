{
 "cells": [
  {
   "cell_type": "markdown",
   "metadata": {},
   "source": [
    "# SAT and ACT 2017-18 Analysis and Recommendations"
   ]
  },
  {
   "cell_type": "markdown",
   "metadata": {},
   "source": [
    "analysis by David Trichter"
   ]
  },
  {
   "cell_type": "markdown",
   "metadata": {},
   "source": [
    "\n",
    "## Problem Statement"
   ]
  },
  {
   "cell_type": "markdown",
   "metadata": {},
   "source": [
    "The SAT has positioned itself to compete as both the best entrance exam for both colleges to measure student potential, and for students to prepare for the rigors of an undergraduate college education.  To best serve that vision, College Board must find ways to strategically use it's budget to expand beyond the current test taking base.\n",
    "\n",
    "In order to do so, we will strategically conduct an exploratory data analysis of participation and score results from recent SAT and competitor (the ACT) exams in order to determine an optimized strategy to improve performance."
   ]
  },
  {
   "cell_type": "markdown",
   "metadata": {},
   "source": [
    "## Executive Summary\n",
    "\n",
    "### Contents:\n",
    "- [2017 Data Import & Cleaning](#Data-Import-and-Cleaning)\n",
    "- [2018 Data Import and Cleaning](#2018-Data-Import-and-Cleaning)\n",
    "- [Exploratory Data Analysis](#Exploratory-Data-Analysis)\n",
    "- [Data Visualization](#Visualize-the-data)\n",
    "- [Descriptive and Inferential Statistics](#Descriptive-and-Inferential-Statistics)\n",
    "- [Outside Research](#Outside-Research)\n",
    "- [Conclusions and Recommendations](#Conclusions-and-Recommendations)"
   ]
  },
  {
   "cell_type": "code",
   "execution_count": 1,
   "metadata": {},
   "outputs": [],
   "source": [
    "#Imports:\n",
    "import pandas as pd\n",
    "import numpy as np\n",
    "import matplotlib.pyplot as plt\n",
    "import seaborn as sns"
   ]
  },
  {
   "cell_type": "markdown",
   "metadata": {},
   "source": [
    "## 2017 Data Import and Cleaning"
   ]
  },
  {
   "cell_type": "markdown",
   "metadata": {},
   "source": [
    "#### 1. Read In SAT & ACT  Data"
   ]
  },
  {
   "cell_type": "code",
   "execution_count": 2,
   "metadata": {},
   "outputs": [
    {
     "name": "stdout",
     "output_type": "stream",
     "text": [
      "/Users/davidtrichter/Desktop/DSI/Submissions/Projects/project_1/code\r\n"
     ]
    }
   ],
   "source": [
    "#Code:\n",
    "!pwd\n",
    "sat = pd.read_csv('../data/sat_2017.csv')\n",
    "act = pd.read_csv('../data/act_2017.csv')"
   ]
  },
  {
   "cell_type": "markdown",
   "metadata": {},
   "source": [
    "#### Data Description\n",
    "The data provided illustrates participation rates, and average scores across subject sections for the SAT and ACT exams, as well as composite averages by state. "
   ]
  },
  {
   "cell_type": "code",
   "execution_count": 3,
   "metadata": {},
   "outputs": [
    {
     "data": {
      "text/html": [
       "<div>\n",
       "<style scoped>\n",
       "    .dataframe tbody tr th:only-of-type {\n",
       "        vertical-align: middle;\n",
       "    }\n",
       "\n",
       "    .dataframe tbody tr th {\n",
       "        vertical-align: top;\n",
       "    }\n",
       "\n",
       "    .dataframe thead th {\n",
       "        text-align: right;\n",
       "    }\n",
       "</style>\n",
       "<table border=\"1\" class=\"dataframe\">\n",
       "  <thead>\n",
       "    <tr style=\"text-align: right;\">\n",
       "      <th></th>\n",
       "      <th>State</th>\n",
       "      <th>Participation</th>\n",
       "      <th>Evidence-Based Reading and Writing</th>\n",
       "      <th>Math</th>\n",
       "      <th>Total</th>\n",
       "    </tr>\n",
       "  </thead>\n",
       "  <tbody>\n",
       "    <tr>\n",
       "      <th>0</th>\n",
       "      <td>Alabama</td>\n",
       "      <td>5%</td>\n",
       "      <td>593</td>\n",
       "      <td>572</td>\n",
       "      <td>1165</td>\n",
       "    </tr>\n",
       "    <tr>\n",
       "      <th>1</th>\n",
       "      <td>Alaska</td>\n",
       "      <td>38%</td>\n",
       "      <td>547</td>\n",
       "      <td>533</td>\n",
       "      <td>1080</td>\n",
       "    </tr>\n",
       "    <tr>\n",
       "      <th>2</th>\n",
       "      <td>Arizona</td>\n",
       "      <td>30%</td>\n",
       "      <td>563</td>\n",
       "      <td>553</td>\n",
       "      <td>1116</td>\n",
       "    </tr>\n",
       "    <tr>\n",
       "      <th>3</th>\n",
       "      <td>Arkansas</td>\n",
       "      <td>3%</td>\n",
       "      <td>614</td>\n",
       "      <td>594</td>\n",
       "      <td>1208</td>\n",
       "    </tr>\n",
       "    <tr>\n",
       "      <th>4</th>\n",
       "      <td>California</td>\n",
       "      <td>53%</td>\n",
       "      <td>531</td>\n",
       "      <td>524</td>\n",
       "      <td>1055</td>\n",
       "    </tr>\n",
       "    <tr>\n",
       "      <th>5</th>\n",
       "      <td>Colorado</td>\n",
       "      <td>11%</td>\n",
       "      <td>606</td>\n",
       "      <td>595</td>\n",
       "      <td>1201</td>\n",
       "    </tr>\n",
       "    <tr>\n",
       "      <th>6</th>\n",
       "      <td>Connecticut</td>\n",
       "      <td>100%</td>\n",
       "      <td>530</td>\n",
       "      <td>512</td>\n",
       "      <td>1041</td>\n",
       "    </tr>\n",
       "    <tr>\n",
       "      <th>7</th>\n",
       "      <td>Delaware</td>\n",
       "      <td>100%</td>\n",
       "      <td>503</td>\n",
       "      <td>492</td>\n",
       "      <td>996</td>\n",
       "    </tr>\n",
       "    <tr>\n",
       "      <th>8</th>\n",
       "      <td>District of Columbia</td>\n",
       "      <td>100%</td>\n",
       "      <td>482</td>\n",
       "      <td>468</td>\n",
       "      <td>950</td>\n",
       "    </tr>\n",
       "    <tr>\n",
       "      <th>9</th>\n",
       "      <td>Florida</td>\n",
       "      <td>83%</td>\n",
       "      <td>520</td>\n",
       "      <td>497</td>\n",
       "      <td>1017</td>\n",
       "    </tr>\n",
       "  </tbody>\n",
       "</table>\n",
       "</div>"
      ],
      "text/plain": [
       "                  State Participation  Evidence-Based Reading and Writing  \\\n",
       "0               Alabama            5%                                 593   \n",
       "1                Alaska           38%                                 547   \n",
       "2               Arizona           30%                                 563   \n",
       "3              Arkansas            3%                                 614   \n",
       "4            California           53%                                 531   \n",
       "5              Colorado           11%                                 606   \n",
       "6           Connecticut          100%                                 530   \n",
       "7              Delaware          100%                                 503   \n",
       "8  District of Columbia          100%                                 482   \n",
       "9               Florida           83%                                 520   \n",
       "\n",
       "   Math  Total  \n",
       "0   572   1165  \n",
       "1   533   1080  \n",
       "2   553   1116  \n",
       "3   594   1208  \n",
       "4   524   1055  \n",
       "5   595   1201  \n",
       "6   512   1041  \n",
       "7   492    996  \n",
       "8   468    950  \n",
       "9   497   1017  "
      ]
     },
     "execution_count": 3,
     "metadata": {},
     "output_type": "execute_result"
    }
   ],
   "source": [
    "sat.head(10)"
   ]
  },
  {
   "cell_type": "code",
   "execution_count": 4,
   "metadata": {},
   "outputs": [
    {
     "data": {
      "text/html": [
       "<div>\n",
       "<style scoped>\n",
       "    .dataframe tbody tr th:only-of-type {\n",
       "        vertical-align: middle;\n",
       "    }\n",
       "\n",
       "    .dataframe tbody tr th {\n",
       "        vertical-align: top;\n",
       "    }\n",
       "\n",
       "    .dataframe thead th {\n",
       "        text-align: right;\n",
       "    }\n",
       "</style>\n",
       "<table border=\"1\" class=\"dataframe\">\n",
       "  <thead>\n",
       "    <tr style=\"text-align: right;\">\n",
       "      <th></th>\n",
       "      <th>State</th>\n",
       "      <th>Participation</th>\n",
       "      <th>English</th>\n",
       "      <th>Math</th>\n",
       "      <th>Reading</th>\n",
       "      <th>Science</th>\n",
       "      <th>Composite</th>\n",
       "    </tr>\n",
       "  </thead>\n",
       "  <tbody>\n",
       "    <tr>\n",
       "      <th>0</th>\n",
       "      <td>National</td>\n",
       "      <td>60%</td>\n",
       "      <td>20.3</td>\n",
       "      <td>20.7</td>\n",
       "      <td>21.4</td>\n",
       "      <td>21.0</td>\n",
       "      <td>21.0</td>\n",
       "    </tr>\n",
       "    <tr>\n",
       "      <th>1</th>\n",
       "      <td>Alabama</td>\n",
       "      <td>100%</td>\n",
       "      <td>18.9</td>\n",
       "      <td>18.4</td>\n",
       "      <td>19.7</td>\n",
       "      <td>19.4</td>\n",
       "      <td>19.2</td>\n",
       "    </tr>\n",
       "    <tr>\n",
       "      <th>2</th>\n",
       "      <td>Alaska</td>\n",
       "      <td>65%</td>\n",
       "      <td>18.7</td>\n",
       "      <td>19.8</td>\n",
       "      <td>20.4</td>\n",
       "      <td>19.9</td>\n",
       "      <td>19.8</td>\n",
       "    </tr>\n",
       "    <tr>\n",
       "      <th>3</th>\n",
       "      <td>Arizona</td>\n",
       "      <td>62%</td>\n",
       "      <td>18.6</td>\n",
       "      <td>19.8</td>\n",
       "      <td>20.1</td>\n",
       "      <td>19.8</td>\n",
       "      <td>19.7</td>\n",
       "    </tr>\n",
       "    <tr>\n",
       "      <th>4</th>\n",
       "      <td>Arkansas</td>\n",
       "      <td>100%</td>\n",
       "      <td>18.9</td>\n",
       "      <td>19.0</td>\n",
       "      <td>19.7</td>\n",
       "      <td>19.5</td>\n",
       "      <td>19.4</td>\n",
       "    </tr>\n",
       "    <tr>\n",
       "      <th>5</th>\n",
       "      <td>California</td>\n",
       "      <td>31%</td>\n",
       "      <td>22.5</td>\n",
       "      <td>22.7</td>\n",
       "      <td>23.1</td>\n",
       "      <td>22.2</td>\n",
       "      <td>22.8</td>\n",
       "    </tr>\n",
       "    <tr>\n",
       "      <th>6</th>\n",
       "      <td>Colorado</td>\n",
       "      <td>100%</td>\n",
       "      <td>20.1</td>\n",
       "      <td>20.3</td>\n",
       "      <td>21.2</td>\n",
       "      <td>20.9</td>\n",
       "      <td>20.8</td>\n",
       "    </tr>\n",
       "    <tr>\n",
       "      <th>7</th>\n",
       "      <td>Connecticut</td>\n",
       "      <td>31%</td>\n",
       "      <td>25.5</td>\n",
       "      <td>24.6</td>\n",
       "      <td>25.6</td>\n",
       "      <td>24.6</td>\n",
       "      <td>25.2</td>\n",
       "    </tr>\n",
       "    <tr>\n",
       "      <th>8</th>\n",
       "      <td>Delaware</td>\n",
       "      <td>18%</td>\n",
       "      <td>24.1</td>\n",
       "      <td>23.4</td>\n",
       "      <td>24.8</td>\n",
       "      <td>23.6</td>\n",
       "      <td>24.1</td>\n",
       "    </tr>\n",
       "    <tr>\n",
       "      <th>9</th>\n",
       "      <td>District of Columbia</td>\n",
       "      <td>32%</td>\n",
       "      <td>24.4</td>\n",
       "      <td>23.5</td>\n",
       "      <td>24.9</td>\n",
       "      <td>23.5</td>\n",
       "      <td>24.2</td>\n",
       "    </tr>\n",
       "  </tbody>\n",
       "</table>\n",
       "</div>"
      ],
      "text/plain": [
       "                  State Participation  English  Math  Reading  Science  \\\n",
       "0              National           60%     20.3  20.7     21.4     21.0   \n",
       "1               Alabama          100%     18.9  18.4     19.7     19.4   \n",
       "2                Alaska           65%     18.7  19.8     20.4     19.9   \n",
       "3               Arizona           62%     18.6  19.8     20.1     19.8   \n",
       "4              Arkansas          100%     18.9  19.0     19.7     19.5   \n",
       "5            California           31%     22.5  22.7     23.1     22.2   \n",
       "6              Colorado          100%     20.1  20.3     21.2     20.9   \n",
       "7           Connecticut           31%     25.5  24.6     25.6     24.6   \n",
       "8              Delaware           18%     24.1  23.4     24.8     23.6   \n",
       "9  District of Columbia           32%     24.4  23.5     24.9     23.5   \n",
       "\n",
       "  Composite  \n",
       "0      21.0  \n",
       "1      19.2  \n",
       "2      19.8  \n",
       "3      19.7  \n",
       "4      19.4  \n",
       "5      22.8  \n",
       "6      20.8  \n",
       "7      25.2  \n",
       "8      24.1  \n",
       "9      24.2  "
      ]
     },
     "execution_count": 4,
     "metadata": {},
     "output_type": "execute_result"
    }
   ],
   "source": [
    "act.head(10)"
   ]
  },
  {
   "cell_type": "markdown",
   "metadata": {},
   "source": [
    "#### Data Observations"
   ]
  },
  {
   "cell_type": "markdown",
   "metadata": {},
   "source": [
    "There are a few noticeable errors.  The main one is the absence of a national SAT average.  Wyoming's composite ACT score has an 'x' in it.  Maryland's SAT math score and ACT science score are impossible based on the scoring system.  If I had the access, I would also want to double check the participation rates for some of the states, but they may be accurate!\n",
    "\n",
    "SAT minimum scores are 200 per section.  Total minimum score is 400.\n",
    "ACT minimum scores are 1 on each section, with a composite average of each of the four sections.\n",
    "\n",
    "The main issue for comparison will be that the SAT sections are added together, and the ACT sections are averaged together"
   ]
  },
  {
   "cell_type": "markdown",
   "metadata": {},
   "source": [
    "#### Data Cleaning"
   ]
  },
  {
   "cell_type": "code",
   "execution_count": 5,
   "metadata": {},
   "outputs": [
    {
     "data": {
      "text/plain": [
       "52"
      ]
     },
     "execution_count": 5,
     "metadata": {},
     "output_type": "execute_result"
    }
   ],
   "source": [
    "sat['Math'].min()   #Find the location of the impossibly low SAT 'Math' value"
   ]
  },
  {
   "cell_type": "code",
   "execution_count": 6,
   "metadata": {},
   "outputs": [
    {
     "data": {
      "text/html": [
       "<div>\n",
       "<style scoped>\n",
       "    .dataframe tbody tr th:only-of-type {\n",
       "        vertical-align: middle;\n",
       "    }\n",
       "\n",
       "    .dataframe tbody tr th {\n",
       "        vertical-align: top;\n",
       "    }\n",
       "\n",
       "    .dataframe thead th {\n",
       "        text-align: right;\n",
       "    }\n",
       "</style>\n",
       "<table border=\"1\" class=\"dataframe\">\n",
       "  <thead>\n",
       "    <tr style=\"text-align: right;\">\n",
       "      <th></th>\n",
       "      <th>State</th>\n",
       "      <th>Participation</th>\n",
       "      <th>Evidence-Based Reading and Writing</th>\n",
       "      <th>Math</th>\n",
       "      <th>Total</th>\n",
       "    </tr>\n",
       "  </thead>\n",
       "  <tbody>\n",
       "    <tr>\n",
       "      <th>20</th>\n",
       "      <td>Maryland</td>\n",
       "      <td>69%</td>\n",
       "      <td>536</td>\n",
       "      <td>52</td>\n",
       "      <td>1060</td>\n",
       "    </tr>\n",
       "  </tbody>\n",
       "</table>\n",
       "</div>"
      ],
      "text/plain": [
       "       State Participation  Evidence-Based Reading and Writing  Math  Total\n",
       "20  Maryland           69%                                 536    52   1060"
      ]
     },
     "execution_count": 6,
     "metadata": {},
     "output_type": "execute_result"
    }
   ],
   "source": [
    "sat.loc[sat['Math'] == sat['Math'].min()]"
   ]
  },
  {
   "cell_type": "code",
   "execution_count": 7,
   "metadata": {},
   "outputs": [],
   "source": [
    "sat.at[20, 'Math'] = 524  #Change Maryland SAT 'Math' value from 52 to 524"
   ]
  },
  {
   "cell_type": "code",
   "execution_count": 8,
   "metadata": {},
   "outputs": [
    {
     "data": {
      "text/plain": [
       "2.3"
      ]
     },
     "execution_count": 8,
     "metadata": {},
     "output_type": "execute_result"
    }
   ],
   "source": [
    "act['Science'].min()  "
   ]
  },
  {
   "cell_type": "code",
   "execution_count": 9,
   "metadata": {},
   "outputs": [
    {
     "data": {
      "text/html": [
       "<div>\n",
       "<style scoped>\n",
       "    .dataframe tbody tr th:only-of-type {\n",
       "        vertical-align: middle;\n",
       "    }\n",
       "\n",
       "    .dataframe tbody tr th {\n",
       "        vertical-align: top;\n",
       "    }\n",
       "\n",
       "    .dataframe thead th {\n",
       "        text-align: right;\n",
       "    }\n",
       "</style>\n",
       "<table border=\"1\" class=\"dataframe\">\n",
       "  <thead>\n",
       "    <tr style=\"text-align: right;\">\n",
       "      <th></th>\n",
       "      <th>State</th>\n",
       "      <th>Participation</th>\n",
       "      <th>English</th>\n",
       "      <th>Math</th>\n",
       "      <th>Reading</th>\n",
       "      <th>Science</th>\n",
       "      <th>Composite</th>\n",
       "    </tr>\n",
       "  </thead>\n",
       "  <tbody>\n",
       "    <tr>\n",
       "      <th>21</th>\n",
       "      <td>Maryland</td>\n",
       "      <td>28%</td>\n",
       "      <td>23.3</td>\n",
       "      <td>23.1</td>\n",
       "      <td>24.2</td>\n",
       "      <td>2.3</td>\n",
       "      <td>23.6</td>\n",
       "    </tr>\n",
       "  </tbody>\n",
       "</table>\n",
       "</div>"
      ],
      "text/plain": [
       "       State Participation  English  Math  Reading  Science Composite\n",
       "21  Maryland           28%     23.3  23.1     24.2      2.3      23.6"
      ]
     },
     "execution_count": 9,
     "metadata": {},
     "output_type": "execute_result"
    }
   ],
   "source": [
    "act.loc[act['Science'] == act['Science'].min()] #Find the location of the impossibly low ACT 'Science' value"
   ]
  },
  {
   "cell_type": "code",
   "execution_count": 10,
   "metadata": {},
   "outputs": [],
   "source": [
    "act.at[21,'Science'] = 23.2  #Change Maryland 'Science' value from 2.3 to 23.2"
   ]
  },
  {
   "cell_type": "code",
   "execution_count": null,
   "metadata": {},
   "outputs": [],
   "source": []
  },
  {
   "cell_type": "markdown",
   "metadata": {},
   "source": [
    "#### 5. What are your data types? \n",
    "Display the data types of each feature. "
   ]
  },
  {
   "cell_type": "code",
   "execution_count": 11,
   "metadata": {},
   "outputs": [
    {
     "data": {
      "text/plain": [
       "State             object\n",
       "Participation     object\n",
       "English          float64\n",
       "Math             float64\n",
       "Reading          float64\n",
       "Science          float64\n",
       "Composite         object\n",
       "dtype: object"
      ]
     },
     "execution_count": 11,
     "metadata": {},
     "output_type": "execute_result"
    }
   ],
   "source": [
    "#code\n",
    "act.dtypes"
   ]
  },
  {
   "cell_type": "code",
   "execution_count": 12,
   "metadata": {
    "scrolled": true
   },
   "outputs": [
    {
     "data": {
      "text/plain": [
       "State                                 object\n",
       "Participation                         object\n",
       "Evidence-Based Reading and Writing     int64\n",
       "Math                                   int64\n",
       "Total                                  int64\n",
       "dtype: object"
      ]
     },
     "execution_count": 12,
     "metadata": {},
     "output_type": "execute_result"
    }
   ],
   "source": [
    "sat.dtypes"
   ]
  },
  {
   "cell_type": "markdown",
   "metadata": {},
   "source": [
    "What did you learn?\n",
    "- Do any of them seem odd?  \n",
    "- Which ones are not as they should be?  "
   ]
  },
  {
   "cell_type": "markdown",
   "metadata": {},
   "source": [
    "Answer:  Participation rates for both exams and the composite score for the ACT are objects, but should be int64."
   ]
  },
  {
   "cell_type": "markdown",
   "metadata": {},
   "source": [
    "#### 6. Fix Incorrect Data Types\n",
    "Based on what you discovered above, use appropriate methods to re-type incorrectly typed data.\n",
    "- Define a function that will allow you to convert participation rates to an appropriate numeric type. Use `map` or `apply` to change these columns in each dataframe."
   ]
  },
  {
   "cell_type": "code",
   "execution_count": 13,
   "metadata": {},
   "outputs": [
    {
     "data": {
      "text/plain": [
       "State             object\n",
       "Participation     object\n",
       "English          float64\n",
       "Math             float64\n",
       "Reading          float64\n",
       "Science          float64\n",
       "Composite         object\n",
       "dtype: object"
      ]
     },
     "execution_count": 13,
     "metadata": {},
     "output_type": "execute_result"
    }
   ],
   "source": [
    "act.dtypes"
   ]
  },
  {
   "cell_type": "code",
   "execution_count": 14,
   "metadata": {},
   "outputs": [],
   "source": [
    "#Convert 2017 SAT 'Participation' to a float\n",
    "\n",
    "sat['Participation'] = sat['Participation'].str.replace('%','')\n",
    "sat['Participation'] = sat['Participation'].astype(float)"
   ]
  },
  {
   "cell_type": "code",
   "execution_count": 15,
   "metadata": {},
   "outputs": [],
   "source": [
    "act['Composite'] = act['Composite'].str.replace('x','')  #error message thrown to find the 'x' in a value (wink, wink)"
   ]
  },
  {
   "cell_type": "code",
   "execution_count": 16,
   "metadata": {
    "scrolled": true
   },
   "outputs": [],
   "source": [
    "#Convert 2017 ACT 'Participation' to a float\n",
    "act['Participation'] = act['Participation'].str.replace('%','')\n",
    "act[['Participation', 'Composite']] = act[['Participation', 'Composite']].astype(float)"
   ]
  },
  {
   "cell_type": "markdown",
   "metadata": {},
   "source": [
    "- Fix any individual values preventing other columns from being the appropriate type."
   ]
  },
  {
   "cell_type": "markdown",
   "metadata": {},
   "source": [
    "- Finish your data modifications by making sure the columns are now typed appropriately."
   ]
  },
  {
   "cell_type": "markdown",
   "metadata": {},
   "source": [
    "- Display the data types again to confirm they are correct."
   ]
  },
  {
   "cell_type": "code",
   "execution_count": 17,
   "metadata": {},
   "outputs": [
    {
     "data": {
      "text/plain": [
       "State                                  object\n",
       "Participation                         float64\n",
       "Evidence-Based Reading and Writing      int64\n",
       "Math                                    int64\n",
       "Total                                   int64\n",
       "dtype: object"
      ]
     },
     "execution_count": 17,
     "metadata": {},
     "output_type": "execute_result"
    }
   ],
   "source": [
    "#code\n",
    "sat.dtypes"
   ]
  },
  {
   "cell_type": "code",
   "execution_count": 18,
   "metadata": {},
   "outputs": [
    {
     "data": {
      "text/plain": [
       "State             object\n",
       "Participation    float64\n",
       "English          float64\n",
       "Math             float64\n",
       "Reading          float64\n",
       "Science          float64\n",
       "Composite        float64\n",
       "dtype: object"
      ]
     },
     "execution_count": 18,
     "metadata": {},
     "output_type": "execute_result"
    }
   ],
   "source": [
    "act.dtypes"
   ]
  },
  {
   "cell_type": "markdown",
   "metadata": {},
   "source": [
    "#### 7. Rename Columns\n",
    "Change the names of the columns to more expressive names so that you can tell the difference the SAT columns and the ACT columns. Your solution should map all column names being changed at once (no repeated singular name-changes). **We will be combining these data with some of the data from 2018, and so you should name columns in an appropriate way**.\n",
    "\n",
    "**Guidelines**:\n",
    "- Column names should be all lowercase (you will thank yourself when you start pushing data to SQL later in the course)\n",
    "- Column names should not contain spaces (underscores will suffice--this allows for using the `df.column_name` method to access columns in addition to `df['column_name']`.\n",
    "- Column names should be unique and informative (the only feature that we actually share between dataframes is the state)."
   ]
  },
  {
   "cell_type": "code",
   "execution_count": 19,
   "metadata": {
    "scrolled": true
   },
   "outputs": [
    {
     "data": {
      "text/html": [
       "<div>\n",
       "<style scoped>\n",
       "    .dataframe tbody tr th:only-of-type {\n",
       "        vertical-align: middle;\n",
       "    }\n",
       "\n",
       "    .dataframe tbody tr th {\n",
       "        vertical-align: top;\n",
       "    }\n",
       "\n",
       "    .dataframe thead th {\n",
       "        text-align: right;\n",
       "    }\n",
       "</style>\n",
       "<table border=\"1\" class=\"dataframe\">\n",
       "  <thead>\n",
       "    <tr style=\"text-align: right;\">\n",
       "      <th></th>\n",
       "      <th>State</th>\n",
       "      <th>Participation</th>\n",
       "      <th>English</th>\n",
       "      <th>Math</th>\n",
       "      <th>Reading</th>\n",
       "      <th>Science</th>\n",
       "      <th>Composite</th>\n",
       "    </tr>\n",
       "  </thead>\n",
       "  <tbody>\n",
       "    <tr>\n",
       "      <th>0</th>\n",
       "      <td>National</td>\n",
       "      <td>60.0</td>\n",
       "      <td>20.3</td>\n",
       "      <td>20.7</td>\n",
       "      <td>21.4</td>\n",
       "      <td>21.0</td>\n",
       "      <td>21.0</td>\n",
       "    </tr>\n",
       "  </tbody>\n",
       "</table>\n",
       "</div>"
      ],
      "text/plain": [
       "      State  Participation  English  Math  Reading  Science  Composite\n",
       "0  National           60.0     20.3  20.7     21.4     21.0       21.0"
      ]
     },
     "execution_count": 19,
     "metadata": {},
     "output_type": "execute_result"
    }
   ],
   "source": [
    "act.head(1)"
   ]
  },
  {
   "cell_type": "code",
   "execution_count": 20,
   "metadata": {},
   "outputs": [
    {
     "data": {
      "text/plain": [
       "Index(['State', 'Participation', 'Evidence-Based Reading and Writing', 'Math',\n",
       "       'Total'],\n",
       "      dtype='object')"
      ]
     },
     "execution_count": 20,
     "metadata": {},
     "output_type": "execute_result"
    }
   ],
   "source": [
    "sat.columns"
   ]
  },
  {
   "cell_type": "code",
   "execution_count": 21,
   "metadata": {},
   "outputs": [],
   "source": [
    "#to streamline lower case and snake case SAT and ACT columns\n",
    "def column_renamer(df):\n",
    "    df.columns = df.columns.str.lower()\n",
    "    df.columns = df.columns.str.replace(\" \",\"_\")\n",
    "\n",
    "#     for i in df.columns:\n",
    "#         if 'composite' in df.columns:\n",
    "#             df.columns = [i + '_act']\n",
    "#         elif 'total' in df.columns:\n",
    "#             df.columns = [i + '_sat']\n",
    "#         else:\n",
    "#             pass\n",
    "\n",
    "    \n",
    "    \n",
    "    "
   ]
  },
  {
   "cell_type": "code",
   "execution_count": 22,
   "metadata": {},
   "outputs": [],
   "source": [
    "column_renamer(act)"
   ]
  },
  {
   "cell_type": "code",
   "execution_count": 23,
   "metadata": {},
   "outputs": [
    {
     "data": {
      "text/plain": [
       "Index(['state', 'participation', 'english', 'math', 'reading', 'science',\n",
       "       'composite'],\n",
       "      dtype='object')"
      ]
     },
     "execution_count": 23,
     "metadata": {},
     "output_type": "execute_result"
    }
   ],
   "source": [
    "act.columns"
   ]
  },
  {
   "cell_type": "code",
   "execution_count": 24,
   "metadata": {},
   "outputs": [],
   "source": [
    "act.rename(columns={'state' : 'state',\n",
    "                    'participation' : '2017_act_participation', \n",
    "                    'english' : '2017_act_english',\n",
    "                    'math' : '2017_act_math', \n",
    "                    'reading' : '2017_act_reading', \n",
    "                    'science' : '2017_act_science',\n",
    "                    'composite' : '2017_act_composite'},\n",
    "                    inplace = True)"
   ]
  },
  {
   "cell_type": "code",
   "execution_count": 25,
   "metadata": {},
   "outputs": [
    {
     "data": {
      "text/plain": [
       "Index(['state', '2017_act_participation', '2017_act_english', '2017_act_math',\n",
       "       '2017_act_reading', '2017_act_science', '2017_act_composite'],\n",
       "      dtype='object')"
      ]
     },
     "execution_count": 25,
     "metadata": {},
     "output_type": "execute_result"
    }
   ],
   "source": [
    "act.columns"
   ]
  },
  {
   "cell_type": "code",
   "execution_count": 26,
   "metadata": {},
   "outputs": [],
   "source": [
    "column_renamer(sat)"
   ]
  },
  {
   "cell_type": "code",
   "execution_count": 27,
   "metadata": {},
   "outputs": [
    {
     "data": {
      "text/plain": [
       "Index(['state', 'participation', 'evidence-based_reading_and_writing', 'math',\n",
       "       'total'],\n",
       "      dtype='object')"
      ]
     },
     "execution_count": 27,
     "metadata": {},
     "output_type": "execute_result"
    }
   ],
   "source": [
    "sat.columns"
   ]
  },
  {
   "cell_type": "code",
   "execution_count": 28,
   "metadata": {},
   "outputs": [],
   "source": [
    "sat.rename(columns={'state' : 'state',\n",
    "                    'participation' : '2017_sat_participation', \n",
    "                    'evidence-based_reading_and_writing' : '2017_sat_erw', \n",
    "                    'math' : '2017_sat_math',\n",
    "                    'total' : '2017_sat_total'},\n",
    "                    inplace = True)"
   ]
  },
  {
   "cell_type": "markdown",
   "metadata": {},
   "source": [
    "#### 8. Create a data dictionary\n",
    "\n",
    "Now that we've fixed our data, and given it appropriate names, let's create a [data dictionary](http://library.ucmerced.edu/node/10249). \n",
    "\n",
    "A data dictionary provides a quick overview of features/variables/columns, alongside data types and descriptions. The more descriptive you can be, the more useful this document is.\n"
   ]
  },
  {
   "cell_type": "markdown",
   "metadata": {},
   "source": [
    "|Feature|Type|Dataset|Description|\n",
    "|---|---|---|---|\n",
    "|**state**|object|2017-18 ACT/SAT Exams|This is an example| \n",
    "|**2017_sat_participation**|float64|2017-18 ACT/Sat Exams| The SAT participation rate in the state in 2017.\n",
    "|**2017_sat_erw**|int64|2017-18 ACT/Sat Exams|The state's 2017 SAT Evidence-Based Reading & Writing mean section score.\n",
    "|**2017_sat_math**|int64|2017-18 ACT/Sat Exams|The state's 2017 SAT Math mean section score.\n",
    "|**2017_sat_total**|int64|2017-18 ACT/Sat Exams|The state's mean 2017 SAT Total Score.   \n",
    "|**2017_act_participation**|float64|2017-18 ACT/Sat Exams|The ACT participation rate in the state in 2017.\n",
    "|**2017_act_english**|float64|2017-18 ACT/Sat Exams|The state's 2017 ACT English mean section score.\n",
    "|**2017_act_math**|float64|2017-18 ACT/Sat Exams|The state's 2017 ACT Math mean section score.\n",
    "|**2017_act_reading**|float64|2017-18 ACT/Sat Exams|The state's 2017 ACT Reading mean section score.\n",
    "|**2017_act_science**|float64|2017-18 ACT/Sat Exams|The state's 2017 ACT Science mean section score.\n",
    "|**2017_act_composite**|float64|2017-18 ACT/Sat Exams|The state's mean 2017 ACT Composite score. The 4 section scores, averaged.\n",
    "|**2018_sat_participation**|float64|2017-18 ACT/Sat Exams| The SAT participation rate in the state in 2018.\n",
    "|**2018_sat_erw**|int64|2017-18 ACT/Sat Exams|The state's 2018 SAT Evidence-Based Reading & Writing mean section score.\n",
    "|**2018_sat_math**|int64|2017-18 ACT/Sat Exams|The state's 2018 SAT Math mean section score.\n",
    "|**2018_sat_total**|int64|2017-18 ACT/Sat Exams|The state's mean 2018 SAT Total Score.   \n",
    "|**2018_act_participation**|float64|2017-18 ACT/Sat Exams|The ACT participation rate in the state in 2018.\n",
    "|**2018_act_english**|float64|2017-18 ACT/Sat Exams|The state's 2018 ACT English mean section score.\n",
    "|**2018_act_math**|float64|2017-18 ACT/Sat Exams|The state's 2018 ACT Math mean section score.\n",
    "|**2018_act_reading**|float64|2017-18 ACT/Sat Exams|The state's 2018 ACT Reading mean section score.\n",
    "|**2018_act_science**|float64|2017-18 ACT/Sat Exams|The state's 2018 ACT Science mean section score.\n",
    "|**2018_act_composite**|float64|2017-18 ACT/Sat Exams|The state's mean 2018 ACT Composite score. The 4 section scores, averaged.\n",
    "\n"
   ]
  },
  {
   "cell_type": "markdown",
   "metadata": {},
   "source": [
    "#### 9. Drop unnecessary rows\n",
    "\n",
    "One of our dataframes contains an extra row. Identify and remove this from the dataframe."
   ]
  },
  {
   "cell_type": "code",
   "execution_count": 29,
   "metadata": {
    "scrolled": true
   },
   "outputs": [],
   "source": [
    "act.drop([0], inplace=True)  #Drop the national row (first row)"
   ]
  },
  {
   "cell_type": "markdown",
   "metadata": {},
   "source": [
    "#### 10. Merge Dataframes\n",
    "\n",
    "Join the 2017 ACT and SAT dataframes using the state in each dataframe as the key. Assign this to a new variable."
   ]
  },
  {
   "cell_type": "code",
   "execution_count": 30,
   "metadata": {},
   "outputs": [],
   "source": [
    "#Merge the 2017 SAT and ACT test scores using the 'state' column as an index\n",
    "test_scores_2017 = pd.merge(sat, act, on=\"state\")"
   ]
  },
  {
   "cell_type": "code",
   "execution_count": 31,
   "metadata": {},
   "outputs": [
    {
     "data": {
      "text/html": [
       "<div>\n",
       "<style scoped>\n",
       "    .dataframe tbody tr th:only-of-type {\n",
       "        vertical-align: middle;\n",
       "    }\n",
       "\n",
       "    .dataframe tbody tr th {\n",
       "        vertical-align: top;\n",
       "    }\n",
       "\n",
       "    .dataframe thead th {\n",
       "        text-align: right;\n",
       "    }\n",
       "</style>\n",
       "<table border=\"1\" class=\"dataframe\">\n",
       "  <thead>\n",
       "    <tr style=\"text-align: right;\">\n",
       "      <th></th>\n",
       "      <th>state</th>\n",
       "      <th>2017_sat_participation</th>\n",
       "      <th>2017_sat_erw</th>\n",
       "      <th>2017_sat_math</th>\n",
       "      <th>2017_sat_total</th>\n",
       "      <th>2017_act_participation</th>\n",
       "      <th>2017_act_english</th>\n",
       "      <th>2017_act_math</th>\n",
       "      <th>2017_act_reading</th>\n",
       "      <th>2017_act_science</th>\n",
       "      <th>2017_act_composite</th>\n",
       "    </tr>\n",
       "  </thead>\n",
       "  <tbody>\n",
       "    <tr>\n",
       "      <th>0</th>\n",
       "      <td>Alabama</td>\n",
       "      <td>5.0</td>\n",
       "      <td>593</td>\n",
       "      <td>572</td>\n",
       "      <td>1165</td>\n",
       "      <td>100.0</td>\n",
       "      <td>18.9</td>\n",
       "      <td>18.4</td>\n",
       "      <td>19.7</td>\n",
       "      <td>19.4</td>\n",
       "      <td>19.2</td>\n",
       "    </tr>\n",
       "    <tr>\n",
       "      <th>1</th>\n",
       "      <td>Alaska</td>\n",
       "      <td>38.0</td>\n",
       "      <td>547</td>\n",
       "      <td>533</td>\n",
       "      <td>1080</td>\n",
       "      <td>65.0</td>\n",
       "      <td>18.7</td>\n",
       "      <td>19.8</td>\n",
       "      <td>20.4</td>\n",
       "      <td>19.9</td>\n",
       "      <td>19.8</td>\n",
       "    </tr>\n",
       "    <tr>\n",
       "      <th>2</th>\n",
       "      <td>Arizona</td>\n",
       "      <td>30.0</td>\n",
       "      <td>563</td>\n",
       "      <td>553</td>\n",
       "      <td>1116</td>\n",
       "      <td>62.0</td>\n",
       "      <td>18.6</td>\n",
       "      <td>19.8</td>\n",
       "      <td>20.1</td>\n",
       "      <td>19.8</td>\n",
       "      <td>19.7</td>\n",
       "    </tr>\n",
       "  </tbody>\n",
       "</table>\n",
       "</div>"
      ],
      "text/plain": [
       "     state  2017_sat_participation  2017_sat_erw  2017_sat_math  \\\n",
       "0  Alabama                     5.0           593            572   \n",
       "1   Alaska                    38.0           547            533   \n",
       "2  Arizona                    30.0           563            553   \n",
       "\n",
       "   2017_sat_total  2017_act_participation  2017_act_english  2017_act_math  \\\n",
       "0            1165                   100.0              18.9           18.4   \n",
       "1            1080                    65.0              18.7           19.8   \n",
       "2            1116                    62.0              18.6           19.8   \n",
       "\n",
       "   2017_act_reading  2017_act_science  2017_act_composite  \n",
       "0              19.7              19.4                19.2  \n",
       "1              20.4              19.9                19.8  \n",
       "2              20.1              19.8                19.7  "
      ]
     },
     "execution_count": 31,
     "metadata": {},
     "output_type": "execute_result"
    }
   ],
   "source": [
    "test_scores_2017.head(3)"
   ]
  },
  {
   "cell_type": "markdown",
   "metadata": {},
   "source": [
    "#### 11. Save your cleaned, merged dataframe\n",
    "\n",
    "Use a relative path to save out your data as `combined_2017.csv`."
   ]
  },
  {
   "cell_type": "code",
   "execution_count": 32,
   "metadata": {},
   "outputs": [],
   "source": [
    "#save the combined 2017 test scores to file\n",
    "test_scores_2017.to_csv('../data/test_scores_2017')"
   ]
  },
  {
   "cell_type": "markdown",
   "metadata": {},
   "source": [
    "## 2018 Data Import and Cleaning"
   ]
  },
  {
   "cell_type": "markdown",
   "metadata": {},
   "source": [
    "Links to the 2018 ACT and SAT data are provided in the README. These data live in PDFs, and so you'll get to enjoy practicing some *manual* data collection. Save these data as a CSV in your `data` directory, and import, explore, and clean these data in the same way you did above. **Make sure you comment on your steps so it is clear *why* you are doing each process**."
   ]
  },
  {
   "cell_type": "code",
   "execution_count": 33,
   "metadata": {},
   "outputs": [],
   "source": [
    "sat_2018 = pd.read_csv('../data/sat_2018.csv', header = None, \n",
    "                       names = ['state', '2018_sat_participation', '2018_sat_erw', '2018_sat_math', '2018_sat_total'])"
   ]
  },
  {
   "cell_type": "code",
   "execution_count": 34,
   "metadata": {},
   "outputs": [
    {
     "data": {
      "text/html": [
       "<div>\n",
       "<style scoped>\n",
       "    .dataframe tbody tr th:only-of-type {\n",
       "        vertical-align: middle;\n",
       "    }\n",
       "\n",
       "    .dataframe tbody tr th {\n",
       "        vertical-align: top;\n",
       "    }\n",
       "\n",
       "    .dataframe thead th {\n",
       "        text-align: right;\n",
       "    }\n",
       "</style>\n",
       "<table border=\"1\" class=\"dataframe\">\n",
       "  <thead>\n",
       "    <tr style=\"text-align: right;\">\n",
       "      <th></th>\n",
       "      <th>state</th>\n",
       "      <th>2018_sat_participation</th>\n",
       "      <th>2018_sat_erw</th>\n",
       "      <th>2018_sat_math</th>\n",
       "      <th>2018_sat_total</th>\n",
       "    </tr>\n",
       "  </thead>\n",
       "  <tbody>\n",
       "    <tr>\n",
       "      <th>0</th>\n",
       "      <td>Alabama</td>\n",
       "      <td>6%</td>\n",
       "      <td>595</td>\n",
       "      <td>571</td>\n",
       "      <td>1166</td>\n",
       "    </tr>\n",
       "    <tr>\n",
       "      <th>1</th>\n",
       "      <td>Alaska</td>\n",
       "      <td>43%</td>\n",
       "      <td>562</td>\n",
       "      <td>544</td>\n",
       "      <td>1106</td>\n",
       "    </tr>\n",
       "    <tr>\n",
       "      <th>2</th>\n",
       "      <td>Arizona</td>\n",
       "      <td>29%</td>\n",
       "      <td>577</td>\n",
       "      <td>572</td>\n",
       "      <td>1149</td>\n",
       "    </tr>\n",
       "    <tr>\n",
       "      <th>3</th>\n",
       "      <td>Arkansas</td>\n",
       "      <td>5%</td>\n",
       "      <td>592</td>\n",
       "      <td>576</td>\n",
       "      <td>1169</td>\n",
       "    </tr>\n",
       "    <tr>\n",
       "      <th>4</th>\n",
       "      <td>California</td>\n",
       "      <td>60%</td>\n",
       "      <td>540</td>\n",
       "      <td>536</td>\n",
       "      <td>1076</td>\n",
       "    </tr>\n",
       "  </tbody>\n",
       "</table>\n",
       "</div>"
      ],
      "text/plain": [
       "        state 2018_sat_participation  2018_sat_erw  2018_sat_math  \\\n",
       "0     Alabama                     6%           595            571   \n",
       "1      Alaska                    43%           562            544   \n",
       "2     Arizona                    29%           577            572   \n",
       "3    Arkansas                     5%           592            576   \n",
       "4  California                    60%           540            536   \n",
       "\n",
       "   2018_sat_total  \n",
       "0            1166  \n",
       "1            1106  \n",
       "2            1149  \n",
       "3            1169  \n",
       "4            1076  "
      ]
     },
     "execution_count": 34,
     "metadata": {},
     "output_type": "execute_result"
    }
   ],
   "source": [
    "sat_2018.head()"
   ]
  },
  {
   "cell_type": "code",
   "execution_count": 35,
   "metadata": {},
   "outputs": [],
   "source": [
    "act_2018 = pd.read_csv('../data/act_2018.csv', sep = '\\t', header = None,\n",
    "                      names = ['state', '2018_act_participation', '2018_act_english', '2018_act_math',\n",
    "       '2018_act_reading', '2018_act_science', '2018_act_composite'])"
   ]
  },
  {
   "cell_type": "code",
   "execution_count": 36,
   "metadata": {},
   "outputs": [],
   "source": [
    "act_2018['2018_act_participation'] = act_2018['2018_act_participation'].replace('Not given', np.nan)\n",
    "act_2018['2018_act_participation'] = act_2018['2018_act_participation'].astype(float)"
   ]
  },
  {
   "cell_type": "code",
   "execution_count": 37,
   "metadata": {},
   "outputs": [
    {
     "data": {
      "text/plain": [
       "dtype('float64')"
      ]
     },
     "execution_count": 37,
     "metadata": {},
     "output_type": "execute_result"
    }
   ],
   "source": [
    "act_2018['2018_act_participation'].dtype"
   ]
  },
  {
   "cell_type": "code",
   "execution_count": 38,
   "metadata": {},
   "outputs": [],
   "source": [
    "#Convert 2018 SAT 'Participation' to a float\n",
    "\n",
    "sat_2018['2018_sat_participation'] = sat_2018['2018_sat_participation'].str.replace('%','')\n",
    "sat_2018['2018_sat_participation'] = sat_2018['2018_sat_participation'].astype(float)"
   ]
  },
  {
   "cell_type": "code",
   "execution_count": 39,
   "metadata": {},
   "outputs": [
    {
     "data": {
      "text/html": [
       "<div>\n",
       "<style scoped>\n",
       "    .dataframe tbody tr th:only-of-type {\n",
       "        vertical-align: middle;\n",
       "    }\n",
       "\n",
       "    .dataframe tbody tr th {\n",
       "        vertical-align: top;\n",
       "    }\n",
       "\n",
       "    .dataframe thead th {\n",
       "        text-align: right;\n",
       "    }\n",
       "</style>\n",
       "<table border=\"1\" class=\"dataframe\">\n",
       "  <thead>\n",
       "    <tr style=\"text-align: right;\">\n",
       "      <th></th>\n",
       "      <th>state</th>\n",
       "      <th>2018_sat_participation</th>\n",
       "      <th>2018_sat_erw</th>\n",
       "      <th>2018_sat_math</th>\n",
       "      <th>2018_sat_total</th>\n",
       "    </tr>\n",
       "  </thead>\n",
       "  <tbody>\n",
       "    <tr>\n",
       "      <th>0</th>\n",
       "      <td>Alabama</td>\n",
       "      <td>6.0</td>\n",
       "      <td>595</td>\n",
       "      <td>571</td>\n",
       "      <td>1166</td>\n",
       "    </tr>\n",
       "    <tr>\n",
       "      <th>1</th>\n",
       "      <td>Alaska</td>\n",
       "      <td>43.0</td>\n",
       "      <td>562</td>\n",
       "      <td>544</td>\n",
       "      <td>1106</td>\n",
       "    </tr>\n",
       "    <tr>\n",
       "      <th>2</th>\n",
       "      <td>Arizona</td>\n",
       "      <td>29.0</td>\n",
       "      <td>577</td>\n",
       "      <td>572</td>\n",
       "      <td>1149</td>\n",
       "    </tr>\n",
       "    <tr>\n",
       "      <th>3</th>\n",
       "      <td>Arkansas</td>\n",
       "      <td>5.0</td>\n",
       "      <td>592</td>\n",
       "      <td>576</td>\n",
       "      <td>1169</td>\n",
       "    </tr>\n",
       "    <tr>\n",
       "      <th>4</th>\n",
       "      <td>California</td>\n",
       "      <td>60.0</td>\n",
       "      <td>540</td>\n",
       "      <td>536</td>\n",
       "      <td>1076</td>\n",
       "    </tr>\n",
       "  </tbody>\n",
       "</table>\n",
       "</div>"
      ],
      "text/plain": [
       "        state  2018_sat_participation  2018_sat_erw  2018_sat_math  \\\n",
       "0     Alabama                     6.0           595            571   \n",
       "1      Alaska                    43.0           562            544   \n",
       "2     Arizona                    29.0           577            572   \n",
       "3    Arkansas                     5.0           592            576   \n",
       "4  California                    60.0           540            536   \n",
       "\n",
       "   2018_sat_total  \n",
       "0            1166  \n",
       "1            1106  \n",
       "2            1149  \n",
       "3            1169  \n",
       "4            1076  "
      ]
     },
     "execution_count": 39,
     "metadata": {},
     "output_type": "execute_result"
    }
   ],
   "source": [
    "sat_2018.head()"
   ]
  },
  {
   "cell_type": "markdown",
   "metadata": {},
   "source": [
    "#### Combine your 2017 and 2018 data into a single dataframe\n",
    "Joining on state names should work, assuming you formatted all your state names identically. Make sure none of your columns (other than state) have identical names. Do yourself a favor and decide if you're encoding participation rates as floats or integers and standardize this across your datasets.\n",
    "\n",
    "Save the contents of this merged dataframe as `final.csv`.\n",
    "\n",
    "**Use this combined dataframe for the remainder of the project**."
   ]
  },
  {
   "cell_type": "code",
   "execution_count": 40,
   "metadata": {},
   "outputs": [],
   "source": [
    "#Merge the 2017 SAT and ACT test scores using the 'state' column as an index\n",
    "test_scores_2018 = pd.merge(sat_2018, act_2018, on=\"state\")"
   ]
  },
  {
   "cell_type": "code",
   "execution_count": 41,
   "metadata": {},
   "outputs": [],
   "source": [
    "#Merge the 2017 and 2018 SAT and ACT test scores using the 'state' column as an index\n",
    "final_test_scores = pd.merge(test_scores_2017, test_scores_2018, on=\"state\")"
   ]
  },
  {
   "cell_type": "code",
   "execution_count": 42,
   "metadata": {},
   "outputs": [
    {
     "data": {
      "text/html": [
       "<div>\n",
       "<style scoped>\n",
       "    .dataframe tbody tr th:only-of-type {\n",
       "        vertical-align: middle;\n",
       "    }\n",
       "\n",
       "    .dataframe tbody tr th {\n",
       "        vertical-align: top;\n",
       "    }\n",
       "\n",
       "    .dataframe thead th {\n",
       "        text-align: right;\n",
       "    }\n",
       "</style>\n",
       "<table border=\"1\" class=\"dataframe\">\n",
       "  <thead>\n",
       "    <tr style=\"text-align: right;\">\n",
       "      <th></th>\n",
       "      <th>state</th>\n",
       "      <th>2017_sat_participation</th>\n",
       "      <th>2017_sat_erw</th>\n",
       "      <th>2017_sat_math</th>\n",
       "      <th>2017_sat_total</th>\n",
       "      <th>2017_act_participation</th>\n",
       "      <th>2017_act_english</th>\n",
       "      <th>2017_act_math</th>\n",
       "      <th>2017_act_reading</th>\n",
       "      <th>2017_act_science</th>\n",
       "      <th>...</th>\n",
       "      <th>2018_sat_participation</th>\n",
       "      <th>2018_sat_erw</th>\n",
       "      <th>2018_sat_math</th>\n",
       "      <th>2018_sat_total</th>\n",
       "      <th>2018_act_participation</th>\n",
       "      <th>2018_act_english</th>\n",
       "      <th>2018_act_math</th>\n",
       "      <th>2018_act_reading</th>\n",
       "      <th>2018_act_science</th>\n",
       "      <th>2018_act_composite</th>\n",
       "    </tr>\n",
       "  </thead>\n",
       "  <tbody>\n",
       "    <tr>\n",
       "      <th>0</th>\n",
       "      <td>Alabama</td>\n",
       "      <td>5.0</td>\n",
       "      <td>593</td>\n",
       "      <td>572</td>\n",
       "      <td>1165</td>\n",
       "      <td>100.0</td>\n",
       "      <td>18.9</td>\n",
       "      <td>18.4</td>\n",
       "      <td>19.7</td>\n",
       "      <td>19.4</td>\n",
       "      <td>...</td>\n",
       "      <td>6.0</td>\n",
       "      <td>595</td>\n",
       "      <td>571</td>\n",
       "      <td>1166</td>\n",
       "      <td>100.0</td>\n",
       "      <td>19.1</td>\n",
       "      <td>18.9</td>\n",
       "      <td>18.3</td>\n",
       "      <td>19.6</td>\n",
       "      <td>19.0</td>\n",
       "    </tr>\n",
       "    <tr>\n",
       "      <th>1</th>\n",
       "      <td>Alaska</td>\n",
       "      <td>38.0</td>\n",
       "      <td>547</td>\n",
       "      <td>533</td>\n",
       "      <td>1080</td>\n",
       "      <td>65.0</td>\n",
       "      <td>18.7</td>\n",
       "      <td>19.8</td>\n",
       "      <td>20.4</td>\n",
       "      <td>19.9</td>\n",
       "      <td>...</td>\n",
       "      <td>43.0</td>\n",
       "      <td>562</td>\n",
       "      <td>544</td>\n",
       "      <td>1106</td>\n",
       "      <td>33.0</td>\n",
       "      <td>20.8</td>\n",
       "      <td>19.8</td>\n",
       "      <td>20.6</td>\n",
       "      <td>21.6</td>\n",
       "      <td>20.7</td>\n",
       "    </tr>\n",
       "    <tr>\n",
       "      <th>2</th>\n",
       "      <td>Arizona</td>\n",
       "      <td>30.0</td>\n",
       "      <td>563</td>\n",
       "      <td>553</td>\n",
       "      <td>1116</td>\n",
       "      <td>62.0</td>\n",
       "      <td>18.6</td>\n",
       "      <td>19.8</td>\n",
       "      <td>20.1</td>\n",
       "      <td>19.8</td>\n",
       "      <td>...</td>\n",
       "      <td>29.0</td>\n",
       "      <td>577</td>\n",
       "      <td>572</td>\n",
       "      <td>1149</td>\n",
       "      <td>66.0</td>\n",
       "      <td>19.2</td>\n",
       "      <td>18.2</td>\n",
       "      <td>19.4</td>\n",
       "      <td>19.5</td>\n",
       "      <td>19.2</td>\n",
       "    </tr>\n",
       "    <tr>\n",
       "      <th>3</th>\n",
       "      <td>Arkansas</td>\n",
       "      <td>3.0</td>\n",
       "      <td>614</td>\n",
       "      <td>594</td>\n",
       "      <td>1208</td>\n",
       "      <td>100.0</td>\n",
       "      <td>18.9</td>\n",
       "      <td>19.0</td>\n",
       "      <td>19.7</td>\n",
       "      <td>19.5</td>\n",
       "      <td>...</td>\n",
       "      <td>5.0</td>\n",
       "      <td>592</td>\n",
       "      <td>576</td>\n",
       "      <td>1169</td>\n",
       "      <td>100.0</td>\n",
       "      <td>19.4</td>\n",
       "      <td>19.1</td>\n",
       "      <td>18.9</td>\n",
       "      <td>19.7</td>\n",
       "      <td>19.4</td>\n",
       "    </tr>\n",
       "    <tr>\n",
       "      <th>4</th>\n",
       "      <td>California</td>\n",
       "      <td>53.0</td>\n",
       "      <td>531</td>\n",
       "      <td>524</td>\n",
       "      <td>1055</td>\n",
       "      <td>31.0</td>\n",
       "      <td>22.5</td>\n",
       "      <td>22.7</td>\n",
       "      <td>23.1</td>\n",
       "      <td>22.2</td>\n",
       "      <td>...</td>\n",
       "      <td>60.0</td>\n",
       "      <td>540</td>\n",
       "      <td>536</td>\n",
       "      <td>1076</td>\n",
       "      <td>27.0</td>\n",
       "      <td>22.7</td>\n",
       "      <td>22.5</td>\n",
       "      <td>22.5</td>\n",
       "      <td>23.0</td>\n",
       "      <td>22.1</td>\n",
       "    </tr>\n",
       "  </tbody>\n",
       "</table>\n",
       "<p>5 rows × 21 columns</p>\n",
       "</div>"
      ],
      "text/plain": [
       "        state  2017_sat_participation  2017_sat_erw  2017_sat_math  \\\n",
       "0     Alabama                     5.0           593            572   \n",
       "1      Alaska                    38.0           547            533   \n",
       "2     Arizona                    30.0           563            553   \n",
       "3    Arkansas                     3.0           614            594   \n",
       "4  California                    53.0           531            524   \n",
       "\n",
       "   2017_sat_total  2017_act_participation  2017_act_english  2017_act_math  \\\n",
       "0            1165                   100.0              18.9           18.4   \n",
       "1            1080                    65.0              18.7           19.8   \n",
       "2            1116                    62.0              18.6           19.8   \n",
       "3            1208                   100.0              18.9           19.0   \n",
       "4            1055                    31.0              22.5           22.7   \n",
       "\n",
       "   2017_act_reading  2017_act_science  ...  2018_sat_participation  \\\n",
       "0              19.7              19.4  ...                     6.0   \n",
       "1              20.4              19.9  ...                    43.0   \n",
       "2              20.1              19.8  ...                    29.0   \n",
       "3              19.7              19.5  ...                     5.0   \n",
       "4              23.1              22.2  ...                    60.0   \n",
       "\n",
       "   2018_sat_erw  2018_sat_math  2018_sat_total  2018_act_participation  \\\n",
       "0           595            571            1166                   100.0   \n",
       "1           562            544            1106                    33.0   \n",
       "2           577            572            1149                    66.0   \n",
       "3           592            576            1169                   100.0   \n",
       "4           540            536            1076                    27.0   \n",
       "\n",
       "   2018_act_english  2018_act_math  2018_act_reading  2018_act_science  \\\n",
       "0              19.1           18.9              18.3              19.6   \n",
       "1              20.8           19.8              20.6              21.6   \n",
       "2              19.2           18.2              19.4              19.5   \n",
       "3              19.4           19.1              18.9              19.7   \n",
       "4              22.7           22.5              22.5              23.0   \n",
       "\n",
       "   2018_act_composite  \n",
       "0                19.0  \n",
       "1                20.7  \n",
       "2                19.2  \n",
       "3                19.4  \n",
       "4                22.1  \n",
       "\n",
       "[5 rows x 21 columns]"
      ]
     },
     "execution_count": 42,
     "metadata": {},
     "output_type": "execute_result"
    }
   ],
   "source": [
    "final_test_scores.head()"
   ]
  },
  {
   "cell_type": "code",
   "execution_count": 43,
   "metadata": {},
   "outputs": [],
   "source": [
    "#save the combined 2017 test scores to file\n",
    "final_test_scores.to_csv('../data/final_test_scores')"
   ]
  },
  {
   "cell_type": "markdown",
   "metadata": {},
   "source": [
    "## Exploratory Data Analysis\n",
    "\n",
    "\n",
    "### Summary Statistics\n",
    "Transpose the output of pandas `describe` method to create a quick overview of each numeric feature."
   ]
  },
  {
   "cell_type": "code",
   "execution_count": 44,
   "metadata": {},
   "outputs": [
    {
     "data": {
      "text/html": [
       "<div>\n",
       "<style scoped>\n",
       "    .dataframe tbody tr th:only-of-type {\n",
       "        vertical-align: middle;\n",
       "    }\n",
       "\n",
       "    .dataframe tbody tr th {\n",
       "        vertical-align: top;\n",
       "    }\n",
       "\n",
       "    .dataframe thead th {\n",
       "        text-align: right;\n",
       "    }\n",
       "</style>\n",
       "<table border=\"1\" class=\"dataframe\">\n",
       "  <thead>\n",
       "    <tr style=\"text-align: right;\">\n",
       "      <th></th>\n",
       "      <th>count</th>\n",
       "      <th>mean</th>\n",
       "      <th>std</th>\n",
       "      <th>min</th>\n",
       "      <th>25%</th>\n",
       "      <th>50%</th>\n",
       "      <th>75%</th>\n",
       "      <th>max</th>\n",
       "    </tr>\n",
       "  </thead>\n",
       "  <tbody>\n",
       "    <tr>\n",
       "      <th>2017_sat_participation</th>\n",
       "      <td>51.0</td>\n",
       "      <td>39.803922</td>\n",
       "      <td>35.276632</td>\n",
       "      <td>2.0</td>\n",
       "      <td>4.00</td>\n",
       "      <td>38.0</td>\n",
       "      <td>66.00</td>\n",
       "      <td>100.0</td>\n",
       "    </tr>\n",
       "    <tr>\n",
       "      <th>2017_sat_erw</th>\n",
       "      <td>51.0</td>\n",
       "      <td>569.117647</td>\n",
       "      <td>45.666901</td>\n",
       "      <td>482.0</td>\n",
       "      <td>533.50</td>\n",
       "      <td>559.0</td>\n",
       "      <td>613.00</td>\n",
       "      <td>644.0</td>\n",
       "    </tr>\n",
       "    <tr>\n",
       "      <th>2017_sat_math</th>\n",
       "      <td>51.0</td>\n",
       "      <td>556.882353</td>\n",
       "      <td>47.121395</td>\n",
       "      <td>468.0</td>\n",
       "      <td>523.50</td>\n",
       "      <td>548.0</td>\n",
       "      <td>599.00</td>\n",
       "      <td>651.0</td>\n",
       "    </tr>\n",
       "    <tr>\n",
       "      <th>2017_sat_total</th>\n",
       "      <td>51.0</td>\n",
       "      <td>1126.098039</td>\n",
       "      <td>92.494812</td>\n",
       "      <td>950.0</td>\n",
       "      <td>1055.50</td>\n",
       "      <td>1107.0</td>\n",
       "      <td>1212.00</td>\n",
       "      <td>1295.0</td>\n",
       "    </tr>\n",
       "    <tr>\n",
       "      <th>2017_act_participation</th>\n",
       "      <td>51.0</td>\n",
       "      <td>65.254902</td>\n",
       "      <td>32.140842</td>\n",
       "      <td>8.0</td>\n",
       "      <td>31.00</td>\n",
       "      <td>69.0</td>\n",
       "      <td>100.00</td>\n",
       "      <td>100.0</td>\n",
       "    </tr>\n",
       "    <tr>\n",
       "      <th>2017_act_english</th>\n",
       "      <td>51.0</td>\n",
       "      <td>20.931373</td>\n",
       "      <td>2.353677</td>\n",
       "      <td>16.3</td>\n",
       "      <td>19.00</td>\n",
       "      <td>20.7</td>\n",
       "      <td>23.30</td>\n",
       "      <td>25.5</td>\n",
       "    </tr>\n",
       "    <tr>\n",
       "      <th>2017_act_math</th>\n",
       "      <td>51.0</td>\n",
       "      <td>21.182353</td>\n",
       "      <td>1.981989</td>\n",
       "      <td>18.0</td>\n",
       "      <td>19.40</td>\n",
       "      <td>20.9</td>\n",
       "      <td>23.10</td>\n",
       "      <td>25.3</td>\n",
       "    </tr>\n",
       "    <tr>\n",
       "      <th>2017_act_reading</th>\n",
       "      <td>51.0</td>\n",
       "      <td>22.013725</td>\n",
       "      <td>2.067271</td>\n",
       "      <td>18.1</td>\n",
       "      <td>20.45</td>\n",
       "      <td>21.8</td>\n",
       "      <td>24.15</td>\n",
       "      <td>26.0</td>\n",
       "    </tr>\n",
       "    <tr>\n",
       "      <th>2017_act_science</th>\n",
       "      <td>51.0</td>\n",
       "      <td>21.450980</td>\n",
       "      <td>1.739353</td>\n",
       "      <td>18.2</td>\n",
       "      <td>19.95</td>\n",
       "      <td>21.3</td>\n",
       "      <td>23.20</td>\n",
       "      <td>24.9</td>\n",
       "    </tr>\n",
       "    <tr>\n",
       "      <th>2017_act_composite</th>\n",
       "      <td>51.0</td>\n",
       "      <td>21.519608</td>\n",
       "      <td>2.020695</td>\n",
       "      <td>17.8</td>\n",
       "      <td>19.80</td>\n",
       "      <td>21.4</td>\n",
       "      <td>23.60</td>\n",
       "      <td>25.5</td>\n",
       "    </tr>\n",
       "    <tr>\n",
       "      <th>2018_sat_participation</th>\n",
       "      <td>51.0</td>\n",
       "      <td>45.745098</td>\n",
       "      <td>37.314256</td>\n",
       "      <td>2.0</td>\n",
       "      <td>4.50</td>\n",
       "      <td>52.0</td>\n",
       "      <td>77.50</td>\n",
       "      <td>100.0</td>\n",
       "    </tr>\n",
       "    <tr>\n",
       "      <th>2018_sat_erw</th>\n",
       "      <td>51.0</td>\n",
       "      <td>563.686275</td>\n",
       "      <td>47.502627</td>\n",
       "      <td>480.0</td>\n",
       "      <td>534.50</td>\n",
       "      <td>552.0</td>\n",
       "      <td>610.50</td>\n",
       "      <td>643.0</td>\n",
       "    </tr>\n",
       "    <tr>\n",
       "      <th>2018_sat_math</th>\n",
       "      <td>51.0</td>\n",
       "      <td>556.235294</td>\n",
       "      <td>47.772623</td>\n",
       "      <td>480.0</td>\n",
       "      <td>522.50</td>\n",
       "      <td>544.0</td>\n",
       "      <td>593.50</td>\n",
       "      <td>655.0</td>\n",
       "    </tr>\n",
       "    <tr>\n",
       "      <th>2018_sat_total</th>\n",
       "      <td>51.0</td>\n",
       "      <td>1120.019608</td>\n",
       "      <td>94.155083</td>\n",
       "      <td>977.0</td>\n",
       "      <td>1057.50</td>\n",
       "      <td>1098.0</td>\n",
       "      <td>1204.00</td>\n",
       "      <td>1298.0</td>\n",
       "    </tr>\n",
       "    <tr>\n",
       "      <th>2018_act_participation</th>\n",
       "      <td>47.0</td>\n",
       "      <td>60.085106</td>\n",
       "      <td>33.561643</td>\n",
       "      <td>7.0</td>\n",
       "      <td>28.50</td>\n",
       "      <td>65.0</td>\n",
       "      <td>100.00</td>\n",
       "      <td>100.0</td>\n",
       "    </tr>\n",
       "    <tr>\n",
       "      <th>2018_act_english</th>\n",
       "      <td>51.0</td>\n",
       "      <td>21.486275</td>\n",
       "      <td>2.106278</td>\n",
       "      <td>17.7</td>\n",
       "      <td>19.95</td>\n",
       "      <td>21.3</td>\n",
       "      <td>23.55</td>\n",
       "      <td>25.6</td>\n",
       "    </tr>\n",
       "    <tr>\n",
       "      <th>2018_act_math</th>\n",
       "      <td>51.0</td>\n",
       "      <td>20.988235</td>\n",
       "      <td>2.446356</td>\n",
       "      <td>16.6</td>\n",
       "      <td>19.10</td>\n",
       "      <td>20.2</td>\n",
       "      <td>23.70</td>\n",
       "      <td>26.0</td>\n",
       "    </tr>\n",
       "    <tr>\n",
       "      <th>2018_act_reading</th>\n",
       "      <td>51.0</td>\n",
       "      <td>21.125490</td>\n",
       "      <td>2.035765</td>\n",
       "      <td>17.8</td>\n",
       "      <td>19.40</td>\n",
       "      <td>20.7</td>\n",
       "      <td>23.15</td>\n",
       "      <td>25.2</td>\n",
       "    </tr>\n",
       "    <tr>\n",
       "      <th>2018_act_science</th>\n",
       "      <td>51.0</td>\n",
       "      <td>22.015686</td>\n",
       "      <td>2.167245</td>\n",
       "      <td>18.0</td>\n",
       "      <td>20.45</td>\n",
       "      <td>21.6</td>\n",
       "      <td>24.10</td>\n",
       "      <td>26.1</td>\n",
       "    </tr>\n",
       "    <tr>\n",
       "      <th>2018_act_composite</th>\n",
       "      <td>51.0</td>\n",
       "      <td>21.345098</td>\n",
       "      <td>1.870114</td>\n",
       "      <td>17.9</td>\n",
       "      <td>19.85</td>\n",
       "      <td>21.1</td>\n",
       "      <td>23.05</td>\n",
       "      <td>24.9</td>\n",
       "    </tr>\n",
       "  </tbody>\n",
       "</table>\n",
       "</div>"
      ],
      "text/plain": [
       "                        count         mean        std    min      25%     50%  \\\n",
       "2017_sat_participation   51.0    39.803922  35.276632    2.0     4.00    38.0   \n",
       "2017_sat_erw             51.0   569.117647  45.666901  482.0   533.50   559.0   \n",
       "2017_sat_math            51.0   556.882353  47.121395  468.0   523.50   548.0   \n",
       "2017_sat_total           51.0  1126.098039  92.494812  950.0  1055.50  1107.0   \n",
       "2017_act_participation   51.0    65.254902  32.140842    8.0    31.00    69.0   \n",
       "2017_act_english         51.0    20.931373   2.353677   16.3    19.00    20.7   \n",
       "2017_act_math            51.0    21.182353   1.981989   18.0    19.40    20.9   \n",
       "2017_act_reading         51.0    22.013725   2.067271   18.1    20.45    21.8   \n",
       "2017_act_science         51.0    21.450980   1.739353   18.2    19.95    21.3   \n",
       "2017_act_composite       51.0    21.519608   2.020695   17.8    19.80    21.4   \n",
       "2018_sat_participation   51.0    45.745098  37.314256    2.0     4.50    52.0   \n",
       "2018_sat_erw             51.0   563.686275  47.502627  480.0   534.50   552.0   \n",
       "2018_sat_math            51.0   556.235294  47.772623  480.0   522.50   544.0   \n",
       "2018_sat_total           51.0  1120.019608  94.155083  977.0  1057.50  1098.0   \n",
       "2018_act_participation   47.0    60.085106  33.561643    7.0    28.50    65.0   \n",
       "2018_act_english         51.0    21.486275   2.106278   17.7    19.95    21.3   \n",
       "2018_act_math            51.0    20.988235   2.446356   16.6    19.10    20.2   \n",
       "2018_act_reading         51.0    21.125490   2.035765   17.8    19.40    20.7   \n",
       "2018_act_science         51.0    22.015686   2.167245   18.0    20.45    21.6   \n",
       "2018_act_composite       51.0    21.345098   1.870114   17.9    19.85    21.1   \n",
       "\n",
       "                            75%     max  \n",
       "2017_sat_participation    66.00   100.0  \n",
       "2017_sat_erw             613.00   644.0  \n",
       "2017_sat_math            599.00   651.0  \n",
       "2017_sat_total          1212.00  1295.0  \n",
       "2017_act_participation   100.00   100.0  \n",
       "2017_act_english          23.30    25.5  \n",
       "2017_act_math             23.10    25.3  \n",
       "2017_act_reading          24.15    26.0  \n",
       "2017_act_science          23.20    24.9  \n",
       "2017_act_composite        23.60    25.5  \n",
       "2018_sat_participation    77.50   100.0  \n",
       "2018_sat_erw             610.50   643.0  \n",
       "2018_sat_math            593.50   655.0  \n",
       "2018_sat_total          1204.00  1298.0  \n",
       "2018_act_participation   100.00   100.0  \n",
       "2018_act_english          23.55    25.6  \n",
       "2018_act_math             23.70    26.0  \n",
       "2018_act_reading          23.15    25.2  \n",
       "2018_act_science          24.10    26.1  \n",
       "2018_act_composite        23.05    24.9  "
      ]
     },
     "execution_count": 44,
     "metadata": {},
     "output_type": "execute_result"
    }
   ],
   "source": [
    "final_test_scores.describe().transpose()"
   ]
  },
  {
   "cell_type": "markdown",
   "metadata": {},
   "source": [
    "#### Manually calculate standard deviation\n",
    "\n",
    "$$\\sigma = \\sqrt{\\frac{1}{n}\\sum_{i=1}^n(x_i - \\mu)^2}$$\n",
    "\n",
    "- Write a function to calculate standard deviation using the formula above"
   ]
  },
  {
   "cell_type": "code",
   "execution_count": 45,
   "metadata": {},
   "outputs": [
    {
     "name": "stdout",
     "output_type": "stream",
     "text": [
      "45.21697020437867\n"
     ]
    }
   ],
   "source": [
    "#Standard Deviation Formula\n",
    "import math\n",
    "stdev = 0\n",
    "\n",
    "for i in final_test_scores['2017_sat_erw']:\n",
    "    stdev += ( ((i - final_test_scores['2017_sat_erw'].mean()) **2) / len(final_test_scores['2017_sat_erw']))\n",
    "stdev = math.sqrt(stdev)\n",
    "\n",
    "print(stdev)"
   ]
  },
  {
   "cell_type": "code",
   "execution_count": 46,
   "metadata": {},
   "outputs": [
    {
     "data": {
      "text/plain": [
       "45.21697020437866"
      ]
     },
     "execution_count": 46,
     "metadata": {},
     "output_type": "execute_result"
    }
   ],
   "source": [
    "np.std(final_test_scores['2017_sat_erw'])"
   ]
  },
  {
   "cell_type": "code",
   "execution_count": 47,
   "metadata": {},
   "outputs": [],
   "source": [
    "#Standard Deviation Formula Function\n",
    "def stdev_hand(df, column):\n",
    "    import math\n",
    "    stdev = 0\n",
    "\n",
    "    for i in df[column]:\n",
    "        stdev += ( ((i - df[column].mean()) **2) / len(df[column]))\n",
    "    stdev = math.sqrt(stdev)\n",
    "\n",
    "    return stdev"
   ]
  },
  {
   "cell_type": "code",
   "execution_count": 48,
   "metadata": {},
   "outputs": [
    {
     "data": {
      "text/plain": [
       "45.21697020437867"
      ]
     },
     "execution_count": 48,
     "metadata": {},
     "output_type": "execute_result"
    }
   ],
   "source": [
    "#stdev_hand example\n",
    "\n",
    "stdev_hand(final_test_scores,'2017_sat_erw')"
   ]
  },
  {
   "cell_type": "markdown",
   "metadata": {},
   "source": [
    "- Use a **dictionary comprehension** to apply your standard deviation function to each numeric column in the dataframe.  **No loops**  \n",
    "- Assign the output to variable `sd` as a dictionary where: \n",
    "    - Each column name is now a key \n",
    "    - That standard deviation of the column is the value \n",
    "     \n",
    "*Example Output :* `{'ACT_Math': 120, 'ACT_Reading': 120, ...}`"
   ]
  },
  {
   "cell_type": "code",
   "execution_count": 49,
   "metadata": {},
   "outputs": [],
   "source": [
    "#Create a subset dataframe of numeric columns\n",
    "\n",
    "numeric_columns = final_test_scores.keys().drop('state')"
   ]
  },
  {
   "cell_type": "code",
   "execution_count": 50,
   "metadata": {},
   "outputs": [
    {
     "data": {
      "text/plain": [
       "Index(['2017_sat_participation', '2017_sat_erw', '2017_sat_math',\n",
       "       '2017_sat_total', '2017_act_participation', '2017_act_english',\n",
       "       '2017_act_math', '2017_act_reading', '2017_act_science',\n",
       "       '2017_act_composite', '2018_sat_participation', '2018_sat_erw',\n",
       "       '2018_sat_math', '2018_sat_total', '2018_act_participation',\n",
       "       '2018_act_english', '2018_act_math', '2018_act_reading',\n",
       "       '2018_act_science', '2018_act_composite'],\n",
       "      dtype='object')"
      ]
     },
     "execution_count": 50,
     "metadata": {},
     "output_type": "execute_result"
    }
   ],
   "source": [
    "#Listed numeric columns\n",
    "\n",
    "numeric_columns"
   ]
  },
  {
   "cell_type": "code",
   "execution_count": 51,
   "metadata": {},
   "outputs": [],
   "source": [
    "#Create a dictionary variable of column names and standard deviation across the category.\n",
    "\n",
    "sd = {col: stdev_hand(final_test_scores, col) for col in numeric_columns}"
   ]
  },
  {
   "cell_type": "code",
   "execution_count": 52,
   "metadata": {},
   "outputs": [
    {
     "data": {
      "text/plain": [
       "{'2017_sat_participation': 34.929070766645076,\n",
       " '2017_sat_erw': 45.21697020437867,\n",
       " '2017_sat_math': 46.65713364485504,\n",
       " '2017_sat_total': 91.58351056778743,\n",
       " '2017_act_participation': 31.824175751231795,\n",
       " '2017_act_english': 2.3304876369363363,\n",
       " '2017_act_math': 1.9624620273436781,\n",
       " '2017_act_reading': 2.0469029314842646,\n",
       " '2017_act_science': 1.722216145144367,\n",
       " '2017_act_composite': 2.0007860815819893,\n",
       " '2018_sat_participation': 36.94661922353941,\n",
       " '2018_sat_erw': 47.03460978357608,\n",
       " '2018_sat_math': 47.30194550378352,\n",
       " '2018_sat_total': 93.22742384464433,\n",
       " '2018_act_participation': nan,\n",
       " '2018_act_english': 2.0855261815801143,\n",
       " '2018_act_math': 2.42225361432028,\n",
       " '2018_act_reading': 2.015707255555718,\n",
       " '2018_act_science': 2.145891884510421,\n",
       " '2018_act_composite': 1.8516885484833543}"
      ]
     },
     "execution_count": 52,
     "metadata": {},
     "output_type": "execute_result"
    }
   ],
   "source": [
    "#Listed\n",
    "sd"
   ]
  },
  {
   "cell_type": "markdown",
   "metadata": {},
   "source": [
    "Do your manually calculated standard deviations match up with the output from pandas `describe`? What about numpy's `std` method?"
   ]
  },
  {
   "cell_type": "markdown",
   "metadata": {},
   "source": [
    "**Answer:** They are close, but the numbers after the decimal place are off.  Numpy's std method and my manually calculated method are exactly the same.  "
   ]
  },
  {
   "cell_type": "markdown",
   "metadata": {},
   "source": [
    "#### Investigate trends in the data\n",
    "Using sorting and/or masking (along with the `.head` method to not print our entire dataframe), consider the following questions:\n",
    "\n",
    "- Which states have the highest and lowest participation rates for the:\n",
    "    - 2017 SAT? \n",
    "    - 2018 SAT? \n",
    "    - 2017 ACT? \n",
    "    - 2018 ACT? \n",
    "     \n",
    "- Which states have the highest and lowest mean total/composite scores for the:\n",
    "    - 2017 SAT?  \n",
    "    - 2018 SAT? \n",
    "    - 2017 ACT?\n",
    "    - 2018 ACT?  \n",
    "- Do any states with 100% participation on a given test have a rate change year-to-year?\n",
    "- Do any states show have >50% participation on *both* tests either year?  **Florida, Georgia, Hawaii, South Carolina**\n",
    "\n",
    "Based on what you've just observed, have you identified any states that you're especially interested in? **Make a note of these and state *why* you think they're interesting**.\n",
    "\n",
    "**You should comment on your findings at each step in a markdown cell below your code block**. Make sure you include at least one example of sorting your dataframe by a column, and one example of using boolean filtering (i.e., masking) to select a subset of the dataframe."
   ]
  },
  {
   "cell_type": "code",
   "execution_count": 53,
   "metadata": {},
   "outputs": [
    {
     "data": {
      "text/html": [
       "<div>\n",
       "<style scoped>\n",
       "    .dataframe tbody tr th:only-of-type {\n",
       "        vertical-align: middle;\n",
       "    }\n",
       "\n",
       "    .dataframe tbody tr th {\n",
       "        vertical-align: top;\n",
       "    }\n",
       "\n",
       "    .dataframe thead th {\n",
       "        text-align: right;\n",
       "    }\n",
       "</style>\n",
       "<table border=\"1\" class=\"dataframe\">\n",
       "  <thead>\n",
       "    <tr style=\"text-align: right;\">\n",
       "      <th></th>\n",
       "      <th>state</th>\n",
       "      <th>2017_sat_participation</th>\n",
       "    </tr>\n",
       "  </thead>\n",
       "  <tbody>\n",
       "    <tr>\n",
       "      <th>15</th>\n",
       "      <td>Iowa</td>\n",
       "      <td>2.0</td>\n",
       "    </tr>\n",
       "    <tr>\n",
       "      <th>24</th>\n",
       "      <td>Mississippi</td>\n",
       "      <td>2.0</td>\n",
       "    </tr>\n",
       "    <tr>\n",
       "      <th>34</th>\n",
       "      <td>North Dakota</td>\n",
       "      <td>2.0</td>\n",
       "    </tr>\n",
       "    <tr>\n",
       "      <th>3</th>\n",
       "      <td>Arkansas</td>\n",
       "      <td>3.0</td>\n",
       "    </tr>\n",
       "    <tr>\n",
       "      <th>23</th>\n",
       "      <td>Minnesota</td>\n",
       "      <td>3.0</td>\n",
       "    </tr>\n",
       "  </tbody>\n",
       "</table>\n",
       "</div>"
      ],
      "text/plain": [
       "           state  2017_sat_participation\n",
       "15          Iowa                     2.0\n",
       "24   Mississippi                     2.0\n",
       "34  North Dakota                     2.0\n",
       "3       Arkansas                     3.0\n",
       "23     Minnesota                     3.0"
      ]
     },
     "execution_count": 53,
     "metadata": {},
     "output_type": "execute_result"
    }
   ],
   "source": [
    "#Lowest 2017 SAT Participation \n",
    "final_test_scores[['state','2017_sat_participation']].sort_values(by = ['2017_sat_participation','state'], ascending = [True,True]).head(5)\n",
    "\n"
   ]
  },
  {
   "cell_type": "markdown",
   "metadata": {},
   "source": [
    "<u>**The Lowest 2017 SAT Participation Rates in %:**</u>\n",
    "\n",
    "Iowa\t2.0,\n",
    "Mississippi\t2.0,\n",
    "North Dakota\t2.0,\n",
    "Arkansas\t3.0,\n",
    "Minnesota\t3.0"
   ]
  },
  {
   "cell_type": "code",
   "execution_count": 54,
   "metadata": {
    "scrolled": true
   },
   "outputs": [
    {
     "data": {
      "text/html": [
       "<div>\n",
       "<style scoped>\n",
       "    .dataframe tbody tr th:only-of-type {\n",
       "        vertical-align: middle;\n",
       "    }\n",
       "\n",
       "    .dataframe tbody tr th {\n",
       "        vertical-align: top;\n",
       "    }\n",
       "\n",
       "    .dataframe thead th {\n",
       "        text-align: right;\n",
       "    }\n",
       "</style>\n",
       "<table border=\"1\" class=\"dataframe\">\n",
       "  <thead>\n",
       "    <tr style=\"text-align: right;\">\n",
       "      <th></th>\n",
       "      <th>state</th>\n",
       "      <th>2017_sat_participation</th>\n",
       "    </tr>\n",
       "  </thead>\n",
       "  <tbody>\n",
       "    <tr>\n",
       "      <th>6</th>\n",
       "      <td>Connecticut</td>\n",
       "      <td>100.0</td>\n",
       "    </tr>\n",
       "    <tr>\n",
       "      <th>7</th>\n",
       "      <td>Delaware</td>\n",
       "      <td>100.0</td>\n",
       "    </tr>\n",
       "    <tr>\n",
       "      <th>8</th>\n",
       "      <td>District of Columbia</td>\n",
       "      <td>100.0</td>\n",
       "    </tr>\n",
       "    <tr>\n",
       "      <th>22</th>\n",
       "      <td>Michigan</td>\n",
       "      <td>100.0</td>\n",
       "    </tr>\n",
       "    <tr>\n",
       "      <th>29</th>\n",
       "      <td>New Hampshire</td>\n",
       "      <td>96.0</td>\n",
       "    </tr>\n",
       "  </tbody>\n",
       "</table>\n",
       "</div>"
      ],
      "text/plain": [
       "                   state  2017_sat_participation\n",
       "6            Connecticut                   100.0\n",
       "7               Delaware                   100.0\n",
       "8   District of Columbia                   100.0\n",
       "22              Michigan                   100.0\n",
       "29         New Hampshire                    96.0"
      ]
     },
     "execution_count": 54,
     "metadata": {},
     "output_type": "execute_result"
    }
   ],
   "source": [
    "#Highest 2017 SAT Participation \n",
    "final_test_scores[['state','2017_sat_participation']].sort_values(by = ['2017_sat_participation','state'], ascending = [False,True]).head(5)\n"
   ]
  },
  {
   "cell_type": "markdown",
   "metadata": {},
   "source": [
    "<u>**The Highest 2017 SAT Participation Rates in %:**</u>\n",
    "\n",
    "Connecticut\t100.0,\n",
    "Delaware\t100.0,\n",
    "District of Columbia\t100.0,\n",
    "Michigan\t100.0,\n",
    "New Hampshire\t96.0"
   ]
  },
  {
   "cell_type": "code",
   "execution_count": 55,
   "metadata": {
    "scrolled": true
   },
   "outputs": [
    {
     "data": {
      "text/html": [
       "<div>\n",
       "<style scoped>\n",
       "    .dataframe tbody tr th:only-of-type {\n",
       "        vertical-align: middle;\n",
       "    }\n",
       "\n",
       "    .dataframe tbody tr th {\n",
       "        vertical-align: top;\n",
       "    }\n",
       "\n",
       "    .dataframe thead th {\n",
       "        text-align: right;\n",
       "    }\n",
       "</style>\n",
       "<table border=\"1\" class=\"dataframe\">\n",
       "  <thead>\n",
       "    <tr style=\"text-align: right;\">\n",
       "      <th></th>\n",
       "      <th>state</th>\n",
       "      <th>2017_act_participation</th>\n",
       "    </tr>\n",
       "  </thead>\n",
       "  <tbody>\n",
       "    <tr>\n",
       "      <th>19</th>\n",
       "      <td>Maine</td>\n",
       "      <td>8.0</td>\n",
       "    </tr>\n",
       "    <tr>\n",
       "      <th>7</th>\n",
       "      <td>Delaware</td>\n",
       "      <td>18.0</td>\n",
       "    </tr>\n",
       "    <tr>\n",
       "      <th>29</th>\n",
       "      <td>New Hampshire</td>\n",
       "      <td>18.0</td>\n",
       "    </tr>\n",
       "    <tr>\n",
       "      <th>39</th>\n",
       "      <td>Rhode Island</td>\n",
       "      <td>21.0</td>\n",
       "    </tr>\n",
       "    <tr>\n",
       "      <th>38</th>\n",
       "      <td>Pennsylvania</td>\n",
       "      <td>23.0</td>\n",
       "    </tr>\n",
       "  </tbody>\n",
       "</table>\n",
       "</div>"
      ],
      "text/plain": [
       "            state  2017_act_participation\n",
       "19          Maine                     8.0\n",
       "7        Delaware                    18.0\n",
       "29  New Hampshire                    18.0\n",
       "39   Rhode Island                    21.0\n",
       "38   Pennsylvania                    23.0"
      ]
     },
     "execution_count": 55,
     "metadata": {},
     "output_type": "execute_result"
    }
   ],
   "source": [
    "#Lowest 2017 ACT Participation \n",
    "final_test_scores[['state','2017_act_participation']].sort_values(by = ['2017_act_participation','state'], ascending = [True,True]).head(5)\n"
   ]
  },
  {
   "cell_type": "markdown",
   "metadata": {},
   "source": [
    "<u>**The Lowest 2017 ACT Participation Rates in %:**</u>\n",
    "\n",
    "Maine\t8.0,\n",
    "Delaware\t18.0,\n",
    "New Hampshire\t18.0,\n",
    "Rhode Island\t21.0,\n",
    "Pennsylvania\t23.0"
   ]
  },
  {
   "cell_type": "code",
   "execution_count": 56,
   "metadata": {
    "scrolled": true
   },
   "outputs": [
    {
     "data": {
      "text/html": [
       "<div>\n",
       "<style scoped>\n",
       "    .dataframe tbody tr th:only-of-type {\n",
       "        vertical-align: middle;\n",
       "    }\n",
       "\n",
       "    .dataframe tbody tr th {\n",
       "        vertical-align: top;\n",
       "    }\n",
       "\n",
       "    .dataframe thead th {\n",
       "        text-align: right;\n",
       "    }\n",
       "</style>\n",
       "<table border=\"1\" class=\"dataframe\">\n",
       "  <thead>\n",
       "    <tr style=\"text-align: right;\">\n",
       "      <th></th>\n",
       "      <th>state</th>\n",
       "      <th>2017_act_participation</th>\n",
       "    </tr>\n",
       "  </thead>\n",
       "  <tbody>\n",
       "    <tr>\n",
       "      <th>0</th>\n",
       "      <td>Alabama</td>\n",
       "      <td>100.0</td>\n",
       "    </tr>\n",
       "    <tr>\n",
       "      <th>3</th>\n",
       "      <td>Arkansas</td>\n",
       "      <td>100.0</td>\n",
       "    </tr>\n",
       "    <tr>\n",
       "      <th>5</th>\n",
       "      <td>Colorado</td>\n",
       "      <td>100.0</td>\n",
       "    </tr>\n",
       "    <tr>\n",
       "      <th>17</th>\n",
       "      <td>Kentucky</td>\n",
       "      <td>100.0</td>\n",
       "    </tr>\n",
       "    <tr>\n",
       "      <th>18</th>\n",
       "      <td>Louisiana</td>\n",
       "      <td>100.0</td>\n",
       "    </tr>\n",
       "    <tr>\n",
       "      <th>23</th>\n",
       "      <td>Minnesota</td>\n",
       "      <td>100.0</td>\n",
       "    </tr>\n",
       "    <tr>\n",
       "      <th>24</th>\n",
       "      <td>Mississippi</td>\n",
       "      <td>100.0</td>\n",
       "    </tr>\n",
       "    <tr>\n",
       "      <th>25</th>\n",
       "      <td>Missouri</td>\n",
       "      <td>100.0</td>\n",
       "    </tr>\n",
       "    <tr>\n",
       "      <th>26</th>\n",
       "      <td>Montana</td>\n",
       "      <td>100.0</td>\n",
       "    </tr>\n",
       "    <tr>\n",
       "      <th>28</th>\n",
       "      <td>Nevada</td>\n",
       "      <td>100.0</td>\n",
       "    </tr>\n",
       "    <tr>\n",
       "      <th>33</th>\n",
       "      <td>North Carolina</td>\n",
       "      <td>100.0</td>\n",
       "    </tr>\n",
       "    <tr>\n",
       "      <th>36</th>\n",
       "      <td>Oklahoma</td>\n",
       "      <td>100.0</td>\n",
       "    </tr>\n",
       "    <tr>\n",
       "      <th>40</th>\n",
       "      <td>South Carolina</td>\n",
       "      <td>100.0</td>\n",
       "    </tr>\n",
       "    <tr>\n",
       "      <th>42</th>\n",
       "      <td>Tennessee</td>\n",
       "      <td>100.0</td>\n",
       "    </tr>\n",
       "    <tr>\n",
       "      <th>44</th>\n",
       "      <td>Utah</td>\n",
       "      <td>100.0</td>\n",
       "    </tr>\n",
       "    <tr>\n",
       "      <th>49</th>\n",
       "      <td>Wisconsin</td>\n",
       "      <td>100.0</td>\n",
       "    </tr>\n",
       "    <tr>\n",
       "      <th>50</th>\n",
       "      <td>Wyoming</td>\n",
       "      <td>100.0</td>\n",
       "    </tr>\n",
       "    <tr>\n",
       "      <th>34</th>\n",
       "      <td>North Dakota</td>\n",
       "      <td>98.0</td>\n",
       "    </tr>\n",
       "    <tr>\n",
       "      <th>13</th>\n",
       "      <td>Illinois</td>\n",
       "      <td>93.0</td>\n",
       "    </tr>\n",
       "    <tr>\n",
       "      <th>11</th>\n",
       "      <td>Hawaii</td>\n",
       "      <td>90.0</td>\n",
       "    </tr>\n",
       "  </tbody>\n",
       "</table>\n",
       "</div>"
      ],
      "text/plain": [
       "             state  2017_act_participation\n",
       "0          Alabama                   100.0\n",
       "3         Arkansas                   100.0\n",
       "5         Colorado                   100.0\n",
       "17        Kentucky                   100.0\n",
       "18       Louisiana                   100.0\n",
       "23       Minnesota                   100.0\n",
       "24     Mississippi                   100.0\n",
       "25        Missouri                   100.0\n",
       "26         Montana                   100.0\n",
       "28          Nevada                   100.0\n",
       "33  North Carolina                   100.0\n",
       "36        Oklahoma                   100.0\n",
       "40  South Carolina                   100.0\n",
       "42       Tennessee                   100.0\n",
       "44            Utah                   100.0\n",
       "49       Wisconsin                   100.0\n",
       "50         Wyoming                   100.0\n",
       "34    North Dakota                    98.0\n",
       "13        Illinois                    93.0\n",
       "11          Hawaii                    90.0"
      ]
     },
     "execution_count": 56,
     "metadata": {},
     "output_type": "execute_result"
    }
   ],
   "source": [
    "#Highest 2017 ACT Participation \n",
    "final_test_scores[['state','2017_act_participation']].sort_values(by = ['2017_act_participation','state'], ascending = [False,True]).head(20)\n"
   ]
  },
  {
   "cell_type": "markdown",
   "metadata": {},
   "source": [
    "<u>**The Highest 2017 ACT Participation Rates in %:**</u>\n",
    "\n",
    "Alabama\t100.0,\n",
    "Arkansas\t100.0,\n",
    "Colorado\t100.0,\n",
    "Kentucky\t100.0,\n",
    "Louisiana\t100.0,\n",
    "Minnesota\t100.0,\n",
    "Mississippi\t100.0,\n",
    "Missouri\t100.0,\n",
    "Montana\t100.0,\n",
    "Nevada\t100.0,\n",
    "North Carolina\t100.0,\n",
    "Oklahoma\t100.0,\n",
    "South Carolina\t100.0,\n",
    "Tennessee\t100.0,\n",
    "Utah\t100.0,\n",
    "Wisconsin\t100.0,\n",
    "Wyoming\t100.0,\n",
    "North Dakota\t98.0\n",
    "Illinois\t93.0\n",
    "Hawaii\t90.0.  A total of 17 states at 100% participation Plus North Dakota at 98% to make 18 at \"full\" participation"
   ]
  },
  {
   "cell_type": "code",
   "execution_count": 57,
   "metadata": {},
   "outputs": [
    {
     "data": {
      "text/html": [
       "<div>\n",
       "<style scoped>\n",
       "    .dataframe tbody tr th:only-of-type {\n",
       "        vertical-align: middle;\n",
       "    }\n",
       "\n",
       "    .dataframe tbody tr th {\n",
       "        vertical-align: top;\n",
       "    }\n",
       "\n",
       "    .dataframe thead th {\n",
       "        text-align: right;\n",
       "    }\n",
       "</style>\n",
       "<table border=\"1\" class=\"dataframe\">\n",
       "  <thead>\n",
       "    <tr style=\"text-align: right;\">\n",
       "      <th></th>\n",
       "      <th>state</th>\n",
       "      <th>2018_sat_participation</th>\n",
       "    </tr>\n",
       "  </thead>\n",
       "  <tbody>\n",
       "    <tr>\n",
       "      <th>34</th>\n",
       "      <td>North Dakota</td>\n",
       "      <td>2.0</td>\n",
       "    </tr>\n",
       "    <tr>\n",
       "      <th>15</th>\n",
       "      <td>Iowa</td>\n",
       "      <td>3.0</td>\n",
       "    </tr>\n",
       "    <tr>\n",
       "      <th>24</th>\n",
       "      <td>Mississippi</td>\n",
       "      <td>3.0</td>\n",
       "    </tr>\n",
       "    <tr>\n",
       "      <th>27</th>\n",
       "      <td>Nebraska</td>\n",
       "      <td>3.0</td>\n",
       "    </tr>\n",
       "    <tr>\n",
       "      <th>41</th>\n",
       "      <td>South Dakota</td>\n",
       "      <td>3.0</td>\n",
       "    </tr>\n",
       "    <tr>\n",
       "      <th>49</th>\n",
       "      <td>Wisconsin</td>\n",
       "      <td>3.0</td>\n",
       "    </tr>\n",
       "    <tr>\n",
       "      <th>50</th>\n",
       "      <td>Wyoming</td>\n",
       "      <td>3.0</td>\n",
       "    </tr>\n",
       "    <tr>\n",
       "      <th>16</th>\n",
       "      <td>Kansas</td>\n",
       "      <td>4.0</td>\n",
       "    </tr>\n",
       "    <tr>\n",
       "      <th>17</th>\n",
       "      <td>Kentucky</td>\n",
       "      <td>4.0</td>\n",
       "    </tr>\n",
       "    <tr>\n",
       "      <th>18</th>\n",
       "      <td>Louisiana</td>\n",
       "      <td>4.0</td>\n",
       "    </tr>\n",
       "    <tr>\n",
       "      <th>23</th>\n",
       "      <td>Minnesota</td>\n",
       "      <td>4.0</td>\n",
       "    </tr>\n",
       "    <tr>\n",
       "      <th>25</th>\n",
       "      <td>Missouri</td>\n",
       "      <td>4.0</td>\n",
       "    </tr>\n",
       "    <tr>\n",
       "      <th>44</th>\n",
       "      <td>Utah</td>\n",
       "      <td>4.0</td>\n",
       "    </tr>\n",
       "    <tr>\n",
       "      <th>3</th>\n",
       "      <td>Arkansas</td>\n",
       "      <td>5.0</td>\n",
       "    </tr>\n",
       "    <tr>\n",
       "      <th>0</th>\n",
       "      <td>Alabama</td>\n",
       "      <td>6.0</td>\n",
       "    </tr>\n",
       "  </tbody>\n",
       "</table>\n",
       "</div>"
      ],
      "text/plain": [
       "           state  2018_sat_participation\n",
       "34  North Dakota                     2.0\n",
       "15          Iowa                     3.0\n",
       "24   Mississippi                     3.0\n",
       "27      Nebraska                     3.0\n",
       "41  South Dakota                     3.0\n",
       "49     Wisconsin                     3.0\n",
       "50       Wyoming                     3.0\n",
       "16        Kansas                     4.0\n",
       "17      Kentucky                     4.0\n",
       "18     Louisiana                     4.0\n",
       "23     Minnesota                     4.0\n",
       "25      Missouri                     4.0\n",
       "44          Utah                     4.0\n",
       "3       Arkansas                     5.0\n",
       "0        Alabama                     6.0"
      ]
     },
     "execution_count": 57,
     "metadata": {},
     "output_type": "execute_result"
    }
   ],
   "source": [
    "#Lowest 2018 SAT Participation \n",
    "final_test_scores[['state','2018_sat_participation']].sort_values(by = ['2018_sat_participation','state'], ascending = [True,True]).head(15)\n"
   ]
  },
  {
   "cell_type": "markdown",
   "metadata": {},
   "source": [
    "<u>**The Lowest 2018 SAT Participation Rates in % (Under 5%):**</u>\n",
    "\n",
    "North Dakota\t2.0,\n",
    "Iowa\t3.0,\n",
    "Mississippi\t3.0,\n",
    "Nebraska\t3.0,\n",
    "South Dakota\t3.0,\n",
    "Wisconsin\t3.0,\n",
    "Wyoming\t3.0,\n",
    "Kansas\t4.0,\n",
    "Kentucky\t4.0,\n",
    "Louisiana\t4.0,\n",
    "Minnesota\t4.0,\n",
    "Missouri\t4.0,\n",
    "Utah\t4.0 "
   ]
  },
  {
   "cell_type": "code",
   "execution_count": 58,
   "metadata": {},
   "outputs": [
    {
     "data": {
      "text/html": [
       "<div>\n",
       "<style scoped>\n",
       "    .dataframe tbody tr th:only-of-type {\n",
       "        vertical-align: middle;\n",
       "    }\n",
       "\n",
       "    .dataframe tbody tr th {\n",
       "        vertical-align: top;\n",
       "    }\n",
       "\n",
       "    .dataframe thead th {\n",
       "        text-align: right;\n",
       "    }\n",
       "</style>\n",
       "<table border=\"1\" class=\"dataframe\">\n",
       "  <thead>\n",
       "    <tr style=\"text-align: right;\">\n",
       "      <th></th>\n",
       "      <th>state</th>\n",
       "      <th>2018_sat_participation</th>\n",
       "    </tr>\n",
       "  </thead>\n",
       "  <tbody>\n",
       "    <tr>\n",
       "      <th>5</th>\n",
       "      <td>Colorado</td>\n",
       "      <td>100.0</td>\n",
       "    </tr>\n",
       "    <tr>\n",
       "      <th>6</th>\n",
       "      <td>Connecticut</td>\n",
       "      <td>100.0</td>\n",
       "    </tr>\n",
       "    <tr>\n",
       "      <th>7</th>\n",
       "      <td>Delaware</td>\n",
       "      <td>100.0</td>\n",
       "    </tr>\n",
       "    <tr>\n",
       "      <th>12</th>\n",
       "      <td>Idaho</td>\n",
       "      <td>100.0</td>\n",
       "    </tr>\n",
       "    <tr>\n",
       "      <th>22</th>\n",
       "      <td>Michigan</td>\n",
       "      <td>100.0</td>\n",
       "    </tr>\n",
       "    <tr>\n",
       "      <th>13</th>\n",
       "      <td>Illinois</td>\n",
       "      <td>99.0</td>\n",
       "    </tr>\n",
       "    <tr>\n",
       "      <th>19</th>\n",
       "      <td>Maine</td>\n",
       "      <td>99.0</td>\n",
       "    </tr>\n",
       "    <tr>\n",
       "      <th>39</th>\n",
       "      <td>Rhode Island</td>\n",
       "      <td>97.0</td>\n",
       "    </tr>\n",
       "    <tr>\n",
       "      <th>29</th>\n",
       "      <td>New Hampshire</td>\n",
       "      <td>96.0</td>\n",
       "    </tr>\n",
       "    <tr>\n",
       "      <th>8</th>\n",
       "      <td>District of Columbia</td>\n",
       "      <td>92.0</td>\n",
       "    </tr>\n",
       "  </tbody>\n",
       "</table>\n",
       "</div>"
      ],
      "text/plain": [
       "                   state  2018_sat_participation\n",
       "5               Colorado                   100.0\n",
       "6            Connecticut                   100.0\n",
       "7               Delaware                   100.0\n",
       "12                 Idaho                   100.0\n",
       "22              Michigan                   100.0\n",
       "13              Illinois                    99.0\n",
       "19                 Maine                    99.0\n",
       "39          Rhode Island                    97.0\n",
       "29         New Hampshire                    96.0\n",
       "8   District of Columbia                    92.0"
      ]
     },
     "execution_count": 58,
     "metadata": {},
     "output_type": "execute_result"
    }
   ],
   "source": [
    "#Highest 2018 SAT Participation \n",
    "final_test_scores[['state','2018_sat_participation']].sort_values(by = ['2018_sat_participation','state'], ascending = [False,True]).head(10)\n"
   ]
  },
  {
   "cell_type": "markdown",
   "metadata": {},
   "source": [
    "<u>**The Highest 2018 SAT Participation Rates in %:**</u>\n",
    "\n",
    "Colorado\t100.0,\n",
    "Connecticut\t100.0,\n",
    "Delaware\t100.0,\n",
    "Idaho\t100.0,\n",
    "Michigan\t100.0,\n",
    "Illinois\t99.0,\n",
    "Maine\t99.0"
   ]
  },
  {
   "cell_type": "code",
   "execution_count": 59,
   "metadata": {
    "scrolled": false
   },
   "outputs": [
    {
     "data": {
      "text/html": [
       "<div>\n",
       "<style scoped>\n",
       "    .dataframe tbody tr th:only-of-type {\n",
       "        vertical-align: middle;\n",
       "    }\n",
       "\n",
       "    .dataframe tbody tr th {\n",
       "        vertical-align: top;\n",
       "    }\n",
       "\n",
       "    .dataframe thead th {\n",
       "        text-align: right;\n",
       "    }\n",
       "</style>\n",
       "<table border=\"1\" class=\"dataframe\">\n",
       "  <thead>\n",
       "    <tr style=\"text-align: right;\">\n",
       "      <th></th>\n",
       "      <th>state</th>\n",
       "      <th>2018_act_participation</th>\n",
       "    </tr>\n",
       "  </thead>\n",
       "  <tbody>\n",
       "    <tr>\n",
       "      <th>19</th>\n",
       "      <td>Maine</td>\n",
       "      <td>7.0</td>\n",
       "    </tr>\n",
       "    <tr>\n",
       "      <th>39</th>\n",
       "      <td>Rhode Island</td>\n",
       "      <td>15.0</td>\n",
       "    </tr>\n",
       "    <tr>\n",
       "      <th>29</th>\n",
       "      <td>New Hampshire</td>\n",
       "      <td>16.0</td>\n",
       "    </tr>\n",
       "    <tr>\n",
       "      <th>7</th>\n",
       "      <td>Delaware</td>\n",
       "      <td>17.0</td>\n",
       "    </tr>\n",
       "    <tr>\n",
       "      <th>22</th>\n",
       "      <td>Michigan</td>\n",
       "      <td>22.0</td>\n",
       "    </tr>\n",
       "  </tbody>\n",
       "</table>\n",
       "</div>"
      ],
      "text/plain": [
       "            state  2018_act_participation\n",
       "19          Maine                     7.0\n",
       "39   Rhode Island                    15.0\n",
       "29  New Hampshire                    16.0\n",
       "7        Delaware                    17.0\n",
       "22       Michigan                    22.0"
      ]
     },
     "execution_count": 59,
     "metadata": {},
     "output_type": "execute_result"
    }
   ],
   "source": [
    "#Lowest 2018 ACT Participation \n",
    "final_test_scores[['state','2018_act_participation']].sort_values(by = ['2018_act_participation','state'], ascending = [True,True]).head(5)"
   ]
  },
  {
   "cell_type": "markdown",
   "metadata": {},
   "source": [
    "<u>**Lowest 2018 ACT Participation Rate:**</u>  Maine (7%), Rholde Island (15%), New Hampshire (16%), Delaware (17%), Michigan (22%)"
   ]
  },
  {
   "cell_type": "code",
   "execution_count": 60,
   "metadata": {
    "scrolled": true
   },
   "outputs": [
    {
     "data": {
      "text/html": [
       "<div>\n",
       "<style scoped>\n",
       "    .dataframe tbody tr th:only-of-type {\n",
       "        vertical-align: middle;\n",
       "    }\n",
       "\n",
       "    .dataframe tbody tr th {\n",
       "        vertical-align: top;\n",
       "    }\n",
       "\n",
       "    .dataframe thead th {\n",
       "        text-align: right;\n",
       "    }\n",
       "</style>\n",
       "<table border=\"1\" class=\"dataframe\">\n",
       "  <thead>\n",
       "    <tr style=\"text-align: right;\">\n",
       "      <th></th>\n",
       "      <th>state</th>\n",
       "      <th>2018_act_participation</th>\n",
       "    </tr>\n",
       "  </thead>\n",
       "  <tbody>\n",
       "    <tr>\n",
       "      <th>0</th>\n",
       "      <td>Alabama</td>\n",
       "      <td>100.0</td>\n",
       "    </tr>\n",
       "    <tr>\n",
       "      <th>3</th>\n",
       "      <td>Arkansas</td>\n",
       "      <td>100.0</td>\n",
       "    </tr>\n",
       "    <tr>\n",
       "      <th>17</th>\n",
       "      <td>Kentucky</td>\n",
       "      <td>100.0</td>\n",
       "    </tr>\n",
       "    <tr>\n",
       "      <th>24</th>\n",
       "      <td>Mississippi</td>\n",
       "      <td>100.0</td>\n",
       "    </tr>\n",
       "    <tr>\n",
       "      <th>25</th>\n",
       "      <td>Missouri</td>\n",
       "      <td>100.0</td>\n",
       "    </tr>\n",
       "    <tr>\n",
       "      <th>26</th>\n",
       "      <td>Montana</td>\n",
       "      <td>100.0</td>\n",
       "    </tr>\n",
       "    <tr>\n",
       "      <th>27</th>\n",
       "      <td>Nebraska</td>\n",
       "      <td>100.0</td>\n",
       "    </tr>\n",
       "    <tr>\n",
       "      <th>28</th>\n",
       "      <td>Nevada</td>\n",
       "      <td>100.0</td>\n",
       "    </tr>\n",
       "    <tr>\n",
       "      <th>35</th>\n",
       "      <td>Ohio</td>\n",
       "      <td>100.0</td>\n",
       "    </tr>\n",
       "    <tr>\n",
       "      <th>40</th>\n",
       "      <td>South Carolina</td>\n",
       "      <td>100.0</td>\n",
       "    </tr>\n",
       "    <tr>\n",
       "      <th>42</th>\n",
       "      <td>Tennessee</td>\n",
       "      <td>100.0</td>\n",
       "    </tr>\n",
       "    <tr>\n",
       "      <th>44</th>\n",
       "      <td>Utah</td>\n",
       "      <td>100.0</td>\n",
       "    </tr>\n",
       "    <tr>\n",
       "      <th>49</th>\n",
       "      <td>Wisconsin</td>\n",
       "      <td>100.0</td>\n",
       "    </tr>\n",
       "    <tr>\n",
       "      <th>50</th>\n",
       "      <td>Wyoming</td>\n",
       "      <td>100.0</td>\n",
       "    </tr>\n",
       "    <tr>\n",
       "      <th>23</th>\n",
       "      <td>Minnesota</td>\n",
       "      <td>99.0</td>\n",
       "    </tr>\n",
       "    <tr>\n",
       "      <th>34</th>\n",
       "      <td>North Dakota</td>\n",
       "      <td>98.0</td>\n",
       "    </tr>\n",
       "  </tbody>\n",
       "</table>\n",
       "</div>"
      ],
      "text/plain": [
       "             state  2018_act_participation\n",
       "0          Alabama                   100.0\n",
       "3         Arkansas                   100.0\n",
       "17        Kentucky                   100.0\n",
       "24     Mississippi                   100.0\n",
       "25        Missouri                   100.0\n",
       "26         Montana                   100.0\n",
       "27        Nebraska                   100.0\n",
       "28          Nevada                   100.0\n",
       "35            Ohio                   100.0\n",
       "40  South Carolina                   100.0\n",
       "42       Tennessee                   100.0\n",
       "44            Utah                   100.0\n",
       "49       Wisconsin                   100.0\n",
       "50         Wyoming                   100.0\n",
       "23       Minnesota                    99.0\n",
       "34    North Dakota                    98.0"
      ]
     },
     "execution_count": 60,
     "metadata": {},
     "output_type": "execute_result"
    }
   ],
   "source": [
    "#Lowest 2018 ACT Participation \n",
    "final_test_scores[['state','2018_act_participation']].sort_values(by = ['2018_act_participation','state'], ascending = [False,True]).head(16)"
   ]
  },
  {
   "cell_type": "markdown",
   "metadata": {},
   "source": [
    "<u>**Highest 2018 ACT Participation Rate:**</u>  Alabama, Arkansas, Kentucky, Mississippi, Missouri, Montana,Nebraska, Nevada, Ohio, South Carolina, Tennessee, Utah, Wisconsin, Wyoming, Minnesota, North Dakota all have (100%) participation."
   ]
  },
  {
   "cell_type": "code",
   "execution_count": 61,
   "metadata": {
    "scrolled": true
   },
   "outputs": [
    {
     "data": {
      "text/html": [
       "<div>\n",
       "<style scoped>\n",
       "    .dataframe tbody tr th:only-of-type {\n",
       "        vertical-align: middle;\n",
       "    }\n",
       "\n",
       "    .dataframe tbody tr th {\n",
       "        vertical-align: top;\n",
       "    }\n",
       "\n",
       "    .dataframe thead th {\n",
       "        text-align: right;\n",
       "    }\n",
       "</style>\n",
       "<table border=\"1\" class=\"dataframe\">\n",
       "  <thead>\n",
       "    <tr style=\"text-align: right;\">\n",
       "      <th></th>\n",
       "      <th>state</th>\n",
       "      <th>2018_act_participation</th>\n",
       "      <th>2017_act_participation</th>\n",
       "    </tr>\n",
       "  </thead>\n",
       "  <tbody>\n",
       "    <tr>\n",
       "      <th>19</th>\n",
       "      <td>Maine</td>\n",
       "      <td>7.0</td>\n",
       "      <td>8.0</td>\n",
       "    </tr>\n",
       "    <tr>\n",
       "      <th>39</th>\n",
       "      <td>Rhode Island</td>\n",
       "      <td>15.0</td>\n",
       "      <td>21.0</td>\n",
       "    </tr>\n",
       "    <tr>\n",
       "      <th>29</th>\n",
       "      <td>New Hampshire</td>\n",
       "      <td>16.0</td>\n",
       "      <td>18.0</td>\n",
       "    </tr>\n",
       "    <tr>\n",
       "      <th>7</th>\n",
       "      <td>Delaware</td>\n",
       "      <td>17.0</td>\n",
       "      <td>18.0</td>\n",
       "    </tr>\n",
       "    <tr>\n",
       "      <th>22</th>\n",
       "      <td>Michigan</td>\n",
       "      <td>22.0</td>\n",
       "      <td>29.0</td>\n",
       "    </tr>\n",
       "    <tr>\n",
       "      <th>45</th>\n",
       "      <td>Vermont</td>\n",
       "      <td>24.0</td>\n",
       "      <td>29.0</td>\n",
       "    </tr>\n",
       "    <tr>\n",
       "      <th>46</th>\n",
       "      <td>Virginia</td>\n",
       "      <td>24.0</td>\n",
       "      <td>29.0</td>\n",
       "    </tr>\n",
       "    <tr>\n",
       "      <th>47</th>\n",
       "      <td>Washington</td>\n",
       "      <td>24.0</td>\n",
       "      <td>29.0</td>\n",
       "    </tr>\n",
       "    <tr>\n",
       "      <th>21</th>\n",
       "      <td>Massachusetts</td>\n",
       "      <td>25.0</td>\n",
       "      <td>29.0</td>\n",
       "    </tr>\n",
       "    <tr>\n",
       "      <th>6</th>\n",
       "      <td>Connecticut</td>\n",
       "      <td>26.0</td>\n",
       "      <td>31.0</td>\n",
       "    </tr>\n",
       "  </tbody>\n",
       "</table>\n",
       "</div>"
      ],
      "text/plain": [
       "            state  2018_act_participation  2017_act_participation\n",
       "19          Maine                     7.0                     8.0\n",
       "39   Rhode Island                    15.0                    21.0\n",
       "29  New Hampshire                    16.0                    18.0\n",
       "7        Delaware                    17.0                    18.0\n",
       "22       Michigan                    22.0                    29.0\n",
       "45        Vermont                    24.0                    29.0\n",
       "46       Virginia                    24.0                    29.0\n",
       "47     Washington                    24.0                    29.0\n",
       "21  Massachusetts                    25.0                    29.0\n",
       "6     Connecticut                    26.0                    31.0"
      ]
     },
     "execution_count": 61,
     "metadata": {},
     "output_type": "execute_result"
    }
   ],
   "source": [
    "#Comparing the lowest 2018 ACT participation states to 2017\n",
    "\n",
    "final_test_scores[['state','2018_act_participation','2017_act_participation']].sort_values(by = ['2018_act_participation','2017_act_participation','state'], ascending = [True,True,True]).head(10)\n",
    "\n"
   ]
  },
  {
   "cell_type": "code",
   "execution_count": 62,
   "metadata": {
    "scrolled": true
   },
   "outputs": [
    {
     "data": {
      "text/html": [
       "<div>\n",
       "<style scoped>\n",
       "    .dataframe tbody tr th:only-of-type {\n",
       "        vertical-align: middle;\n",
       "    }\n",
       "\n",
       "    .dataframe tbody tr th {\n",
       "        vertical-align: top;\n",
       "    }\n",
       "\n",
       "    .dataframe thead th {\n",
       "        text-align: right;\n",
       "    }\n",
       "</style>\n",
       "<table border=\"1\" class=\"dataframe\">\n",
       "  <thead>\n",
       "    <tr style=\"text-align: right;\">\n",
       "      <th></th>\n",
       "      <th>state</th>\n",
       "      <th>2018_sat_participation</th>\n",
       "      <th>2017_sat_participation</th>\n",
       "    </tr>\n",
       "  </thead>\n",
       "  <tbody>\n",
       "    <tr>\n",
       "      <th>34</th>\n",
       "      <td>North Dakota</td>\n",
       "      <td>2.0</td>\n",
       "      <td>2.0</td>\n",
       "    </tr>\n",
       "    <tr>\n",
       "      <th>15</th>\n",
       "      <td>Iowa</td>\n",
       "      <td>3.0</td>\n",
       "      <td>2.0</td>\n",
       "    </tr>\n",
       "    <tr>\n",
       "      <th>24</th>\n",
       "      <td>Mississippi</td>\n",
       "      <td>3.0</td>\n",
       "      <td>2.0</td>\n",
       "    </tr>\n",
       "    <tr>\n",
       "      <th>27</th>\n",
       "      <td>Nebraska</td>\n",
       "      <td>3.0</td>\n",
       "      <td>3.0</td>\n",
       "    </tr>\n",
       "    <tr>\n",
       "      <th>41</th>\n",
       "      <td>South Dakota</td>\n",
       "      <td>3.0</td>\n",
       "      <td>3.0</td>\n",
       "    </tr>\n",
       "    <tr>\n",
       "      <th>49</th>\n",
       "      <td>Wisconsin</td>\n",
       "      <td>3.0</td>\n",
       "      <td>3.0</td>\n",
       "    </tr>\n",
       "    <tr>\n",
       "      <th>50</th>\n",
       "      <td>Wyoming</td>\n",
       "      <td>3.0</td>\n",
       "      <td>3.0</td>\n",
       "    </tr>\n",
       "    <tr>\n",
       "      <th>23</th>\n",
       "      <td>Minnesota</td>\n",
       "      <td>4.0</td>\n",
       "      <td>3.0</td>\n",
       "    </tr>\n",
       "    <tr>\n",
       "      <th>25</th>\n",
       "      <td>Missouri</td>\n",
       "      <td>4.0</td>\n",
       "      <td>3.0</td>\n",
       "    </tr>\n",
       "    <tr>\n",
       "      <th>44</th>\n",
       "      <td>Utah</td>\n",
       "      <td>4.0</td>\n",
       "      <td>3.0</td>\n",
       "    </tr>\n",
       "  </tbody>\n",
       "</table>\n",
       "</div>"
      ],
      "text/plain": [
       "           state  2018_sat_participation  2017_sat_participation\n",
       "34  North Dakota                     2.0                     2.0\n",
       "15          Iowa                     3.0                     2.0\n",
       "24   Mississippi                     3.0                     2.0\n",
       "27      Nebraska                     3.0                     3.0\n",
       "41  South Dakota                     3.0                     3.0\n",
       "49     Wisconsin                     3.0                     3.0\n",
       "50       Wyoming                     3.0                     3.0\n",
       "23     Minnesota                     4.0                     3.0\n",
       "25      Missouri                     4.0                     3.0\n",
       "44          Utah                     4.0                     3.0"
      ]
     },
     "execution_count": 62,
     "metadata": {},
     "output_type": "execute_result"
    }
   ],
   "source": [
    "#Comparing the lowest 2017 SAT participation statesto 2018\n",
    "\n",
    "final_test_scores[['state','2018_sat_participation','2017_sat_participation']].sort_values(by = ['2017_sat_participation','2018_sat_participation','state'], ascending = [True,True,True]).head(10)\n"
   ]
  },
  {
   "cell_type": "code",
   "execution_count": 63,
   "metadata": {
    "scrolled": false
   },
   "outputs": [
    {
     "data": {
      "text/html": [
       "<div>\n",
       "<style scoped>\n",
       "    .dataframe tbody tr th:only-of-type {\n",
       "        vertical-align: middle;\n",
       "    }\n",
       "\n",
       "    .dataframe tbody tr th {\n",
       "        vertical-align: top;\n",
       "    }\n",
       "\n",
       "    .dataframe thead th {\n",
       "        text-align: right;\n",
       "    }\n",
       "</style>\n",
       "<table border=\"1\" class=\"dataframe\">\n",
       "  <thead>\n",
       "    <tr style=\"text-align: right;\">\n",
       "      <th></th>\n",
       "      <th>state</th>\n",
       "      <th>2017_sat_participation</th>\n",
       "      <th>2017_sat_erw</th>\n",
       "      <th>2017_sat_math</th>\n",
       "      <th>2017_sat_total</th>\n",
       "      <th>2017_act_participation</th>\n",
       "      <th>2017_act_english</th>\n",
       "      <th>2017_act_math</th>\n",
       "      <th>2017_act_reading</th>\n",
       "      <th>2017_act_science</th>\n",
       "      <th>...</th>\n",
       "      <th>2018_sat_participation</th>\n",
       "      <th>2018_sat_erw</th>\n",
       "      <th>2018_sat_math</th>\n",
       "      <th>2018_sat_total</th>\n",
       "      <th>2018_act_participation</th>\n",
       "      <th>2018_act_english</th>\n",
       "      <th>2018_act_math</th>\n",
       "      <th>2018_act_reading</th>\n",
       "      <th>2018_act_science</th>\n",
       "      <th>2018_act_composite</th>\n",
       "    </tr>\n",
       "  </thead>\n",
       "  <tbody>\n",
       "    <tr>\n",
       "      <th>9</th>\n",
       "      <td>Florida</td>\n",
       "      <td>83.0</td>\n",
       "      <td>520</td>\n",
       "      <td>497</td>\n",
       "      <td>1017</td>\n",
       "      <td>73.0</td>\n",
       "      <td>19.0</td>\n",
       "      <td>19.4</td>\n",
       "      <td>21.0</td>\n",
       "      <td>19.4</td>\n",
       "      <td>...</td>\n",
       "      <td>56.0</td>\n",
       "      <td>550</td>\n",
       "      <td>549</td>\n",
       "      <td>1099</td>\n",
       "      <td>66.0</td>\n",
       "      <td>19.9</td>\n",
       "      <td>19.2</td>\n",
       "      <td>19.3</td>\n",
       "      <td>21.1</td>\n",
       "      <td>19.5</td>\n",
       "    </tr>\n",
       "    <tr>\n",
       "      <th>10</th>\n",
       "      <td>Georgia</td>\n",
       "      <td>61.0</td>\n",
       "      <td>535</td>\n",
       "      <td>515</td>\n",
       "      <td>1050</td>\n",
       "      <td>55.0</td>\n",
       "      <td>21.0</td>\n",
       "      <td>20.9</td>\n",
       "      <td>22.0</td>\n",
       "      <td>21.3</td>\n",
       "      <td>...</td>\n",
       "      <td>70.0</td>\n",
       "      <td>542</td>\n",
       "      <td>522</td>\n",
       "      <td>1064</td>\n",
       "      <td>53.0</td>\n",
       "      <td>21.4</td>\n",
       "      <td>20.9</td>\n",
       "      <td>20.7</td>\n",
       "      <td>21.2</td>\n",
       "      <td>21.4</td>\n",
       "    </tr>\n",
       "    <tr>\n",
       "      <th>11</th>\n",
       "      <td>Hawaii</td>\n",
       "      <td>55.0</td>\n",
       "      <td>544</td>\n",
       "      <td>541</td>\n",
       "      <td>1085</td>\n",
       "      <td>90.0</td>\n",
       "      <td>17.8</td>\n",
       "      <td>19.2</td>\n",
       "      <td>19.2</td>\n",
       "      <td>19.3</td>\n",
       "      <td>...</td>\n",
       "      <td>56.0</td>\n",
       "      <td>480</td>\n",
       "      <td>530</td>\n",
       "      <td>1010</td>\n",
       "      <td>89.0</td>\n",
       "      <td>18.9</td>\n",
       "      <td>18.2</td>\n",
       "      <td>19.0</td>\n",
       "      <td>19.1</td>\n",
       "      <td>19.0</td>\n",
       "    </tr>\n",
       "    <tr>\n",
       "      <th>40</th>\n",
       "      <td>South Carolina</td>\n",
       "      <td>50.0</td>\n",
       "      <td>543</td>\n",
       "      <td>521</td>\n",
       "      <td>1064</td>\n",
       "      <td>100.0</td>\n",
       "      <td>17.5</td>\n",
       "      <td>18.6</td>\n",
       "      <td>19.1</td>\n",
       "      <td>18.9</td>\n",
       "      <td>...</td>\n",
       "      <td>55.0</td>\n",
       "      <td>547</td>\n",
       "      <td>523</td>\n",
       "      <td>1070</td>\n",
       "      <td>100.0</td>\n",
       "      <td>18.3</td>\n",
       "      <td>17.3</td>\n",
       "      <td>18.2</td>\n",
       "      <td>18.6</td>\n",
       "      <td>18.5</td>\n",
       "    </tr>\n",
       "  </tbody>\n",
       "</table>\n",
       "<p>4 rows × 21 columns</p>\n",
       "</div>"
      ],
      "text/plain": [
       "             state  2017_sat_participation  2017_sat_erw  2017_sat_math  \\\n",
       "9          Florida                    83.0           520            497   \n",
       "10         Georgia                    61.0           535            515   \n",
       "11          Hawaii                    55.0           544            541   \n",
       "40  South Carolina                    50.0           543            521   \n",
       "\n",
       "    2017_sat_total  2017_act_participation  2017_act_english  2017_act_math  \\\n",
       "9             1017                    73.0              19.0           19.4   \n",
       "10            1050                    55.0              21.0           20.9   \n",
       "11            1085                    90.0              17.8           19.2   \n",
       "40            1064                   100.0              17.5           18.6   \n",
       "\n",
       "    2017_act_reading  2017_act_science  ...  2018_sat_participation  \\\n",
       "9               21.0              19.4  ...                    56.0   \n",
       "10              22.0              21.3  ...                    70.0   \n",
       "11              19.2              19.3  ...                    56.0   \n",
       "40              19.1              18.9  ...                    55.0   \n",
       "\n",
       "    2018_sat_erw  2018_sat_math  2018_sat_total  2018_act_participation  \\\n",
       "9            550            549            1099                    66.0   \n",
       "10           542            522            1064                    53.0   \n",
       "11           480            530            1010                    89.0   \n",
       "40           547            523            1070                   100.0   \n",
       "\n",
       "    2018_act_english  2018_act_math  2018_act_reading  2018_act_science  \\\n",
       "9               19.9           19.2              19.3              21.1   \n",
       "10              21.4           20.9              20.7              21.2   \n",
       "11              18.9           18.2              19.0              19.1   \n",
       "40              18.3           17.3              18.2              18.6   \n",
       "\n",
       "    2018_act_composite  \n",
       "9                 19.5  \n",
       "10                21.4  \n",
       "11                19.0  \n",
       "40                18.5  \n",
       "\n",
       "[4 rows x 21 columns]"
      ]
     },
     "execution_count": 63,
     "metadata": {},
     "output_type": "execute_result"
    }
   ],
   "source": [
    "#States with over 50% Participation on both exams in 2018\n",
    "\n",
    "final_test_scores[(final_test_scores['2018_sat_participation'] > 50) & (final_test_scores['2018_act_participation'] > 50)]"
   ]
  },
  {
   "cell_type": "markdown",
   "metadata": {},
   "source": [
    "<u>**States with over 50% participation on the SAT/ACT in 2017, 2018**</u>\n",
    "\n",
    "Florida:  83/73, 56/66\n",
    "\n",
    "Georgia:  61/55, 70/53\n",
    "\n",
    "Hawaii:  55/90, 56/89\n",
    "\n",
    "South Carolina:  50/100,  55/100\n",
    "\n",
    "**Florida's overall participation rate for both exams has dramatically fallen!**"
   ]
  },
  {
   "cell_type": "code",
   "execution_count": 64,
   "metadata": {
    "scrolled": false
   },
   "outputs": [
    {
     "data": {
      "text/plain": [
       "2017_act_composite      21.519608\n",
       "2018_act_composite      21.345098\n",
       "2017_sat_total        1126.098039\n",
       "2018_sat_total        1120.019608\n",
       "dtype: float64"
      ]
     },
     "execution_count": 64,
     "metadata": {},
     "output_type": "execute_result"
    }
   ],
   "source": [
    "#mean scores by test\n",
    "final_test_scores[['2017_act_composite','2018_act_composite','2017_sat_total','2018_sat_total']].mean()"
   ]
  },
  {
   "cell_type": "markdown",
   "metadata": {},
   "source": [
    "<u><b>Observations: </b></u>\n",
    "\n",
    "While participation rates in both exams were largely the same between 2017 and 2018, two states jumped out as anomalies.  Colorado jumped from 11% participation to 100% participation, and Illinois jumped from 9% participation to 99% participation.  Upon further research, both states switched mandatory examination from the ACT to the SAT in 2018.  College Board negotiated free SAT exams for all high school juniors in those states and provide free test prep via Khan Academy.  \n",
    "\n",
    "Rhode Island also adopted the SAT as mandatory, but since the ACT was not previously mandatory, the swing was not quite as drastic, and it seems less negotiation for switching was necessary.\n",
    "\n",
    "The larger participation rate jumps in Colorado and Illinois correlate with a precipitous drop in average scores across sections.  However, with a large percentage of mandatory test takers that did not have time to prepare could be expected.  Monitoring and providing quality test prep materials to each successsive cohort of test takers will be necessary.\n",
    "\n",
    "Lastly, Florida's participation rates on both exams dropped from 83% on the SAT and 73%  on the ACT in 2017, to 56% on the SAT and 66% on the ACT in 2018.\n",
    "\n",
    "The ACT has a much higher rate of full participation than the SAT in both 2017 and 2018.  However, the biggest movement were from the movement of Colorado and Illinois from full participation on the ACT in 2017 to full participation in 2018 on the SAT.\n",
    "\n",
    "\n",
    "17 States had full ACT participation in (with one more at 98% to bring to 18) in 2017, all of which could be considered southern and midwest states.  \n",
    "\n",
    "In 2018 max participation dropped to 14 states (but still essentially 16 with full participation).\n",
    "\n",
    "Low ACT participation in 2017 and 2018 was Maine:  8% and 7% respectively, followed by Delaware, New Hampshire, Rhode Island, and Pennsylvania (no data for 2018 participation)\n",
    "The lowest participation rates predominantly occurred in states in the Northeast.\n",
    "\n",
    "The ACT mean participation in 2017 was:  65% ,\n",
    "The ACT mean participation in 2018 was:  60%"
   ]
  },
  {
   "cell_type": "markdown",
   "metadata": {},
   "source": [
    "## Data Visualization\n",
    "\n"
   ]
  },
  {
   "cell_type": "code",
   "execution_count": 65,
   "metadata": {},
   "outputs": [
    {
     "data": {
      "text/html": [
       "<div>\n",
       "<style scoped>\n",
       "    .dataframe tbody tr th:only-of-type {\n",
       "        vertical-align: middle;\n",
       "    }\n",
       "\n",
       "    .dataframe tbody tr th {\n",
       "        vertical-align: top;\n",
       "    }\n",
       "\n",
       "    .dataframe thead th {\n",
       "        text-align: right;\n",
       "    }\n",
       "</style>\n",
       "<table border=\"1\" class=\"dataframe\">\n",
       "  <thead>\n",
       "    <tr style=\"text-align: right;\">\n",
       "      <th></th>\n",
       "      <th>2017_sat_participation</th>\n",
       "      <th>2017_sat_erw</th>\n",
       "      <th>2017_sat_math</th>\n",
       "      <th>2017_sat_total</th>\n",
       "      <th>2017_act_participation</th>\n",
       "      <th>2017_act_english</th>\n",
       "      <th>2017_act_math</th>\n",
       "      <th>2017_act_reading</th>\n",
       "      <th>2017_act_science</th>\n",
       "      <th>2017_act_composite</th>\n",
       "      <th>2018_sat_participation</th>\n",
       "      <th>2018_sat_erw</th>\n",
       "      <th>2018_sat_math</th>\n",
       "      <th>2018_sat_total</th>\n",
       "      <th>2018_act_participation</th>\n",
       "      <th>2018_act_english</th>\n",
       "      <th>2018_act_math</th>\n",
       "      <th>2018_act_reading</th>\n",
       "      <th>2018_act_science</th>\n",
       "      <th>2018_act_composite</th>\n",
       "    </tr>\n",
       "  </thead>\n",
       "  <tbody>\n",
       "    <tr>\n",
       "      <th>2017_sat_participation</th>\n",
       "      <td>1.000000</td>\n",
       "      <td>-0.874326</td>\n",
       "      <td>-0.855091</td>\n",
       "      <td>-0.867540</td>\n",
       "      <td>-0.841234</td>\n",
       "      <td>0.686889</td>\n",
       "      <td>0.710697</td>\n",
       "      <td>0.705352</td>\n",
       "      <td>0.653670</td>\n",
       "      <td>0.694748</td>\n",
       "      <td>0.874763</td>\n",
       "      <td>-0.666313</td>\n",
       "      <td>-0.686941</td>\n",
       "      <td>-0.684556</td>\n",
       "      <td>-0.799532</td>\n",
       "      <td>0.639323</td>\n",
       "      <td>0.645332</td>\n",
       "      <td>0.649435</td>\n",
       "      <td>0.651892</td>\n",
       "      <td>0.611675</td>\n",
       "    </tr>\n",
       "    <tr>\n",
       "      <th>2017_sat_erw</th>\n",
       "      <td>-0.874326</td>\n",
       "      <td>1.000000</td>\n",
       "      <td>0.987056</td>\n",
       "      <td>0.996661</td>\n",
       "      <td>0.716153</td>\n",
       "      <td>-0.461345</td>\n",
       "      <td>-0.486126</td>\n",
       "      <td>-0.488441</td>\n",
       "      <td>-0.422130</td>\n",
       "      <td>-0.470382</td>\n",
       "      <td>-0.818925</td>\n",
       "      <td>0.814096</td>\n",
       "      <td>0.865909</td>\n",
       "      <td>0.849798</td>\n",
       "      <td>0.756201</td>\n",
       "      <td>-0.440915</td>\n",
       "      <td>-0.447026</td>\n",
       "      <td>-0.450128</td>\n",
       "      <td>-0.460779</td>\n",
       "      <td>-0.410872</td>\n",
       "    </tr>\n",
       "    <tr>\n",
       "      <th>2017_sat_math</th>\n",
       "      <td>-0.855091</td>\n",
       "      <td>0.987056</td>\n",
       "      <td>1.000000</td>\n",
       "      <td>0.996822</td>\n",
       "      <td>0.682572</td>\n",
       "      <td>-0.420673</td>\n",
       "      <td>-0.420456</td>\n",
       "      <td>-0.442410</td>\n",
       "      <td>-0.365515</td>\n",
       "      <td>-0.417817</td>\n",
       "      <td>-0.789166</td>\n",
       "      <td>0.800380</td>\n",
       "      <td>0.878982</td>\n",
       "      <td>0.849583</td>\n",
       "      <td>0.722132</td>\n",
       "      <td>-0.388769</td>\n",
       "      <td>-0.403532</td>\n",
       "      <td>-0.384444</td>\n",
       "      <td>-0.414636</td>\n",
       "      <td>-0.355104</td>\n",
       "    </tr>\n",
       "    <tr>\n",
       "      <th>2017_sat_total</th>\n",
       "      <td>-0.867540</td>\n",
       "      <td>0.996661</td>\n",
       "      <td>0.996822</td>\n",
       "      <td>1.000000</td>\n",
       "      <td>0.701477</td>\n",
       "      <td>-0.441947</td>\n",
       "      <td>-0.454116</td>\n",
       "      <td>-0.466558</td>\n",
       "      <td>-0.394559</td>\n",
       "      <td>-0.445020</td>\n",
       "      <td>-0.806796</td>\n",
       "      <td>0.810068</td>\n",
       "      <td>0.875601</td>\n",
       "      <td>0.852727</td>\n",
       "      <td>0.741279</td>\n",
       "      <td>-0.415762</td>\n",
       "      <td>-0.426210</td>\n",
       "      <td>-0.418011</td>\n",
       "      <td>-0.438811</td>\n",
       "      <td>-0.383698</td>\n",
       "    </tr>\n",
       "    <tr>\n",
       "      <th>2017_act_participation</th>\n",
       "      <td>-0.841234</td>\n",
       "      <td>0.716153</td>\n",
       "      <td>0.682572</td>\n",
       "      <td>0.701477</td>\n",
       "      <td>1.000000</td>\n",
       "      <td>-0.843501</td>\n",
       "      <td>-0.861114</td>\n",
       "      <td>-0.866620</td>\n",
       "      <td>-0.836595</td>\n",
       "      <td>-0.858134</td>\n",
       "      <td>-0.756479</td>\n",
       "      <td>0.522593</td>\n",
       "      <td>0.555406</td>\n",
       "      <td>0.545179</td>\n",
       "      <td>0.909656</td>\n",
       "      <td>-0.775514</td>\n",
       "      <td>-0.763176</td>\n",
       "      <td>-0.782878</td>\n",
       "      <td>-0.789497</td>\n",
       "      <td>-0.763334</td>\n",
       "    </tr>\n",
       "  </tbody>\n",
       "</table>\n",
       "</div>"
      ],
      "text/plain": [
       "                        2017_sat_participation  2017_sat_erw  2017_sat_math  \\\n",
       "2017_sat_participation                1.000000     -0.874326      -0.855091   \n",
       "2017_sat_erw                         -0.874326      1.000000       0.987056   \n",
       "2017_sat_math                        -0.855091      0.987056       1.000000   \n",
       "2017_sat_total                       -0.867540      0.996661       0.996822   \n",
       "2017_act_participation               -0.841234      0.716153       0.682572   \n",
       "\n",
       "                        2017_sat_total  2017_act_participation  \\\n",
       "2017_sat_participation       -0.867540               -0.841234   \n",
       "2017_sat_erw                  0.996661                0.716153   \n",
       "2017_sat_math                 0.996822                0.682572   \n",
       "2017_sat_total                1.000000                0.701477   \n",
       "2017_act_participation        0.701477                1.000000   \n",
       "\n",
       "                        2017_act_english  2017_act_math  2017_act_reading  \\\n",
       "2017_sat_participation          0.686889       0.710697          0.705352   \n",
       "2017_sat_erw                   -0.461345      -0.486126         -0.488441   \n",
       "2017_sat_math                  -0.420673      -0.420456         -0.442410   \n",
       "2017_sat_total                 -0.441947      -0.454116         -0.466558   \n",
       "2017_act_participation         -0.843501      -0.861114         -0.866620   \n",
       "\n",
       "                        2017_act_science  2017_act_composite  \\\n",
       "2017_sat_participation          0.653670            0.694748   \n",
       "2017_sat_erw                   -0.422130           -0.470382   \n",
       "2017_sat_math                  -0.365515           -0.417817   \n",
       "2017_sat_total                 -0.394559           -0.445020   \n",
       "2017_act_participation         -0.836595           -0.858134   \n",
       "\n",
       "                        2018_sat_participation  2018_sat_erw  2018_sat_math  \\\n",
       "2017_sat_participation                0.874763     -0.666313      -0.686941   \n",
       "2017_sat_erw                         -0.818925      0.814096       0.865909   \n",
       "2017_sat_math                        -0.789166      0.800380       0.878982   \n",
       "2017_sat_total                       -0.806796      0.810068       0.875601   \n",
       "2017_act_participation               -0.756479      0.522593       0.555406   \n",
       "\n",
       "                        2018_sat_total  2018_act_participation  \\\n",
       "2017_sat_participation       -0.684556               -0.799532   \n",
       "2017_sat_erw                  0.849798                0.756201   \n",
       "2017_sat_math                 0.849583                0.722132   \n",
       "2017_sat_total                0.852727                0.741279   \n",
       "2017_act_participation        0.545179                0.909656   \n",
       "\n",
       "                        2018_act_english  2018_act_math  2018_act_reading  \\\n",
       "2017_sat_participation          0.639323       0.645332          0.649435   \n",
       "2017_sat_erw                   -0.440915      -0.447026         -0.450128   \n",
       "2017_sat_math                  -0.388769      -0.403532         -0.384444   \n",
       "2017_sat_total                 -0.415762      -0.426210         -0.418011   \n",
       "2017_act_participation         -0.775514      -0.763176         -0.782878   \n",
       "\n",
       "                        2018_act_science  2018_act_composite  \n",
       "2017_sat_participation          0.651892            0.611675  \n",
       "2017_sat_erw                   -0.460779           -0.410872  \n",
       "2017_sat_math                  -0.414636           -0.355104  \n",
       "2017_sat_total                 -0.438811           -0.383698  \n",
       "2017_act_participation         -0.789497           -0.763334  "
      ]
     },
     "execution_count": 65,
     "metadata": {},
     "output_type": "execute_result"
    }
   ],
   "source": [
    "final_test_scores.corr().head()"
   ]
  },
  {
   "cell_type": "code",
   "execution_count": 66,
   "metadata": {},
   "outputs": [
    {
     "data": {
      "image/png": "[encoded data removed]",
      "text/plain": [
       "<Figure size 576x576 with 2 Axes>"
      ]
     },
     "metadata": {
      "needs_background": "light"
     },
     "output_type": "display_data"
    }
   ],
   "source": [
    "plt.figure(figsize=(8,8))\n",
    "sns.heatmap(final_test_scores.corr(), cmap = 'coolwarm');"
   ]
  },
  {
   "cell_type": "markdown",
   "metadata": {},
   "source": [
    "#### Define a custom function to subplot histograms\n",
    "\n",
    "We have data for two tests for two years. We only have composite (and not subtest scores) for the 2018 ACT. We should write a function that will take the names of 2+ columns and subplot histograms. While you can use pandas plotting or Seaborn here, matplotlib gives you greater control over all aspects of your plots.\n",
    "\n",
    "[Helpful Link for Plotting Multiple Figures](https://matplotlib.org/users/pyplot_tutorial.html#working-with-multiple-figures-and-axes)\n",
    "\n",
    "Here's some starter code:"
   ]
  },
  {
   "cell_type": "code",
   "execution_count": 67,
   "metadata": {},
   "outputs": [],
   "source": [
    "def subplot_histograms(dataframe, list_of_columns, list_of_titles, list_of_xlabels):\n",
    "    nrows = int(np.ceil(len(list_of_columns)/2)) # Makes sure you have enough rows\n",
    "    fig, ax = plt.subplots(nrows=nrows, ncols=2, figsize=(12,12)) # You'll want to specify your figsize\n",
    "    ax = ax.ravel() # Ravel turns a matrix into a vector, which is easier to iterate\n",
    "    for i, column in enumerate(list_of_columns): # Gives us an index value to get into all our lists\n",
    "        ax[i].hist(dataframe[column]) # feel free to add more settings\n",
    "        # Set titles, labels, etc here for each subplot\n",
    "        ax[i].title.set_text(list_of_titles[i])\n",
    "        ax[i].set_xlabel(list_of_xlabels[i])"
   ]
  },
  {
   "cell_type": "markdown",
   "metadata": {},
   "source": [
    "\n",
    "#### Plot and interpret histograms \n",
    "For each of the following:\n",
    "- Participation rates for SAT & ACT\n",
    "- Math scores for SAT & ACT\n",
    "- Reading/verbal scores for SAT & ACT"
   ]
  },
  {
   "cell_type": "code",
   "execution_count": 68,
   "metadata": {
    "scrolled": true
   },
   "outputs": [
    {
     "name": "stderr",
     "output_type": "stream",
     "text": [
      "/Users/davidtrichter/anaconda3/lib/python3.7/site-packages/numpy/lib/histograms.py:824: RuntimeWarning: invalid value encountered in greater_equal\n",
      "  keep = (tmp_a >= first_edge)\n",
      "/Users/davidtrichter/anaconda3/lib/python3.7/site-packages/numpy/lib/histograms.py:825: RuntimeWarning: invalid value encountered in less_equal\n",
      "  keep &= (tmp_a <= last_edge)\n"
     ]
    },
    {
     "data": {
      "image/png": "[encoded data removed]",
      "text/plain": [
       "<Figure size 864x864 with 4 Axes>"
      ]
     },
     "metadata": {
      "needs_background": "light"
     },
     "output_type": "display_data"
    }
   ],
   "source": [
    "subplot_histograms(final_test_scores,['2017_sat_participation','2017_act_participation','2018_sat_participation','2018_act_participation'],['2017 SAT Participation by State', '2017 ACT Participation by State', '2018 SAT Participation by State','2018 ACT Participation by State'],['Participation Rate','Participation Rate','Participation Rate','Participation Rate'])\n"
   ]
  },
  {
   "cell_type": "markdown",
   "metadata": {},
   "source": [
    "There seems to be a zero sum game building between the SAT and ACT.  The ACT has many more 100% particpation states, but is trending towards the SAT from 2017 to 2018."
   ]
  },
  {
   "cell_type": "code",
   "execution_count": 69,
   "metadata": {
    "scrolled": true
   },
   "outputs": [
    {
     "data": {
      "image/png": "[encoded data removed]",
      "text/plain": [
       "<Figure size 864x864 with 4 Axes>"
      ]
     },
     "metadata": {
      "needs_background": "light"
     },
     "output_type": "display_data"
    }
   ],
   "source": [
    "subplot_histograms(final_test_scores,['2017_sat_math','2017_act_math','2018_sat_math','2018_act_math'],\n",
    "                   ['2017 SAT Math', '2017 ACT Math', '2018 SAT Math','2018 ACT Math'],\n",
    "                   ['Average Math Scores','Average Math Scores','Average Math Scores','Average Math'])\n"
   ]
  },
  {
   "cell_type": "code",
   "execution_count": 70,
   "metadata": {},
   "outputs": [
    {
     "data": {
      "image/png": "[encoded data removed]",
      "text/plain": [
       "<Figure size 864x864 with 4 Axes>"
      ]
     },
     "metadata": {
      "needs_background": "light"
     },
     "output_type": "display_data"
    }
   ],
   "source": [
    "subplot_histograms(final_test_scores,['2017_sat_erw','2017_act_english','2018_sat_erw','2018_act_english'],\n",
    "                   ['2017 SAT ERW', '2017 ACT English', '2018 SAT ERW','2018 ACT English'],\n",
    "                   ['Average Reading/Writing','Average English','Average Reading/Writing','Average English'])"
   ]
  },
  {
   "cell_type": "markdown",
   "metadata": {},
   "source": [
    "As the ACT becomes less mandatory, there are marginal increase in test scores at the expense of the SAT's test scores."
   ]
  },
  {
   "cell_type": "markdown",
   "metadata": {},
   "source": [
    "#### Plot and interpret scatter plots\n",
    "\n",
    "For each of the following:\n",
    "- SAT vs. ACT math scores for 2017\n",
    "- SAT vs. ACT verbal/reading scores for 2017\n",
    "- SAT vs. ACT total/composite scores for 2017\n",
    "- Total scores for SAT 2017 vs. 2018\n",
    "- Composite scores for ACT 2017 vs. 2018\n",
    "\n",
    "Plot the two variables against each other using matplotlib or Seaborn\n",
    "\n",
    "Your plots should show:\n",
    "- Two clearly labeled axes\n",
    "- A proper title\n",
    "- Using colors and symbols that are clear and unmistakable\n",
    "\n",
    "**Feel free to write a custom function, and subplot if you'd like.** Functions save both time and space.\n"
   ]
  },
  {
   "cell_type": "code",
   "execution_count": 71,
   "metadata": {},
   "outputs": [
    {
     "data": {
      "text/plain": [
       "<Figure size 1152x648 with 0 Axes>"
      ]
     },
     "metadata": {},
     "output_type": "display_data"
    },
    {
     "data": {
      "image/png": "[encoded data removed]",
      "text/plain": [
       "<Figure size 360x360 with 1 Axes>"
      ]
     },
     "metadata": {},
     "output_type": "display_data"
    }
   ],
   "source": [
    "#Scatter plot with regression for 2017 SAT vs. ACT Math Scores\n",
    "plt.figure(figsize=(16, 9));\n",
    "plt.style.use('fivethirtyeight')\n",
    "\n",
    "sns.lmplot(data=final_test_scores,x='2017_act_math',y='2017_sat_math');\n",
    "ax = plt.gca()\n",
    "ax.set_title(\"2017 ACT vs. SAT Math\", size = 18);\n",
    "plt.xlabel(\"2017 ACT Math Score Average\", size = 14)\n",
    "plt.ylabel(\"2017 SAT Math Score Average\", size = 14)\n",
    "plt.grid(True)"
   ]
  },
  {
   "cell_type": "code",
   "execution_count": 72,
   "metadata": {
    "scrolled": true
   },
   "outputs": [
    {
     "data": {
      "text/plain": [
       "<Figure size 1152x648 with 0 Axes>"
      ]
     },
     "metadata": {},
     "output_type": "display_data"
    },
    {
     "data": {
      "image/png": "[encoded data removed]",
      "text/plain": [
       "<Figure size 360x360 with 1 Axes>"
      ]
     },
     "metadata": {},
     "output_type": "display_data"
    }
   ],
   "source": [
    "#Scatter plot with regression for 2017 SAT vs. ACT Math Scores\n",
    "plt.figure(figsize=(16, 9));\n",
    "plt.style.use('fivethirtyeight')\n",
    "\n",
    "sns.lmplot(data=final_test_scores,x='2017_act_reading',y='2017_sat_erw');\n",
    "ax = plt.gca()\n",
    "ax.set_title(\"2017 ACT vs. SAT Reading\", size = 18);\n",
    "plt.xlabel(\"2017 ACT Reading \", size = 14)\n",
    "plt.ylabel(\"2017 SAT ERW\", size = 14)\n",
    "plt.grid(True)"
   ]
  },
  {
   "cell_type": "code",
   "execution_count": 73,
   "metadata": {
    "scrolled": true
   },
   "outputs": [
    {
     "data": {
      "text/plain": [
       "<Figure size 1152x648 with 0 Axes>"
      ]
     },
     "metadata": {},
     "output_type": "display_data"
    },
    {
     "data": {
      "image/png": "[encoded data removed]",
      "text/plain": [
       "<Figure size 360x360 with 1 Axes>"
      ]
     },
     "metadata": {},
     "output_type": "display_data"
    }
   ],
   "source": [
    "#Scatter plot with regression for 2017 SAT vs. ACT Math Scores\n",
    "plt.figure(figsize=(16, 9));\n",
    "plt.style.use('fivethirtyeight')\n",
    "\n",
    "sns.lmplot(data=final_test_scores,x='2017_act_composite',y='2017_sat_total');\n",
    "ax = plt.gca()\n",
    "ax.set_title(\"2017 ACT vs. SAT Total Scores\", size = 18);\n",
    "plt.xlabel(\"2017 ACT Composite\", size = 14)\n",
    "plt.ylabel(\"2017 SAT Total\", size = 14)\n",
    "plt.grid(True)"
   ]
  },
  {
   "cell_type": "code",
   "execution_count": 74,
   "metadata": {
    "scrolled": true
   },
   "outputs": [
    {
     "data": {
      "text/plain": [
       "<Figure size 1152x648 with 0 Axes>"
      ]
     },
     "metadata": {},
     "output_type": "display_data"
    },
    {
     "data": {
      "image/png": "[encoded data removed]",
      "text/plain": [
       "<Figure size 360x360 with 1 Axes>"
      ]
     },
     "metadata": {},
     "output_type": "display_data"
    }
   ],
   "source": [
    "#Scatter plot with regression for 2017 SAT vs. ACT Math Scores\n",
    "plt.figure(figsize=(16, 9));\n",
    "plt.style.use('fivethirtyeight')\n",
    "\n",
    "sns.lmplot(data=final_test_scores,x='2017_sat_total',y='2018_sat_total');\n",
    "ax = plt.gca()\n",
    "ax.set_title(\"2017 vs. 2018 SAT Total Scores\", size = 18);\n",
    "plt.xlabel(\"2017 SAT Total Scores\", size = 14)\n",
    "plt.ylabel(\"2018 SAT Total Scores\", size = 14)\n",
    "plt.grid(True)"
   ]
  },
  {
   "cell_type": "code",
   "execution_count": 75,
   "metadata": {},
   "outputs": [
    {
     "data": {
      "text/plain": [
       "<Figure size 1152x648 with 0 Axes>"
      ]
     },
     "metadata": {},
     "output_type": "display_data"
    },
    {
     "data": {
      "image/png": "[encoded data removed]",
      "text/plain": [
       "<Figure size 360x360 with 1 Axes>"
      ]
     },
     "metadata": {},
     "output_type": "display_data"
    }
   ],
   "source": [
    "#Scatter plot with regression for 2017 SAT vs. ACT Math Scores\n",
    "plt.figure(figsize=(16, 9));\n",
    "plt.style.use('fivethirtyeight')\n",
    "\n",
    "sns.lmplot(data=final_test_scores,x='2017_act_composite',y='2018_act_composite');\n",
    "ax = plt.gca()\n",
    "ax.set_title(\"2017 vs. 2018 ACT Composite Scores\", size = 18);\n",
    "plt.xlabel(\"2017 ACT Composite\", size = 14)\n",
    "plt.ylabel(\"2018 ACT Composite\", size = 14)\n",
    "plt.grid(True)"
   ]
  },
  {
   "cell_type": "markdown",
   "metadata": {},
   "source": [
    "#### Plot and interpret boxplots\n",
    "\n",
    "For each numeric variable in the dataframe create a boxplot using Seaborn. Boxplots demonstrate central tendency and spread in variables. In a certain sense, these are somewhat redundant with histograms, but you may be better able to identify clear outliers or differences in IQR, etc.\n",
    "\n",
    "Multiple values can be plotted to a single boxplot as long as they are of the same relative scale (meaning they have similar min/max values).\n",
    "\n",
    "Each boxplot should:\n",
    "- Only include variables of a similar scale\n",
    "- Have clear labels for each variable\n",
    "- Have appropriate titles and labels"
   ]
  },
  {
   "cell_type": "code",
   "execution_count": 76,
   "metadata": {
    "scrolled": true
   },
   "outputs": [
    {
     "data": {
      "text/plain": [
       "Text(0.5, 0, 'Distribution by State Participation %')"
      ]
     },
     "execution_count": 76,
     "metadata": {},
     "output_type": "execute_result"
    },
    {
     "data": {
      "image/png": "[encoded data removed]",
      "text/plain": [
       "<Figure size 432x288 with 1 Axes>"
      ]
     },
     "metadata": {},
     "output_type": "display_data"
    }
   ],
   "source": [
    "#Boxplot of 2018 SAT Participation.  Outliers are 100%\n",
    "sns.set_style(\"white\")\n",
    "sns.boxplot(final_test_scores['2018_sat_participation'])\n",
    "plt.title(\"2018 SAT Participation by State\", color = 'black', fontsize = 30)\n",
    "plt.xlabel('Distribution by State Participation %', color = 'black', fontsize = 18)"
   ]
  },
  {
   "cell_type": "code",
   "execution_count": 77,
   "metadata": {
    "scrolled": true
   },
   "outputs": [
    {
     "data": {
      "text/plain": [
       "Text(0.5, 0, 'Distribution by State Participation %')"
      ]
     },
     "execution_count": 77,
     "metadata": {},
     "output_type": "execute_result"
    },
    {
     "data": {
      "image/png": "[encoded data removed]",
      "text/plain": [
       "<Figure size 432x288 with 1 Axes>"
      ]
     },
     "metadata": {},
     "output_type": "display_data"
    }
   ],
   "source": [
    "#Boxplot of 2018 ACT Participation.  Outliers are low percentage.  100% is within normal range.\n",
    "\n",
    "sns.set_style(\"white\")\n",
    "sns.boxplot(final_test_scores['2018_act_participation'])\n",
    "plt.title(\"2018 ACT Participation by State\", fontsize = 30)\n",
    "plt.xlabel('Distribution by State Participation %', color = 'black', fontsize = 18)\n",
    "\n"
   ]
  },
  {
   "cell_type": "code",
   "execution_count": 78,
   "metadata": {
    "scrolled": true
   },
   "outputs": [
    {
     "data": {
      "text/plain": [
       "Index(['state', '2017_sat_participation', '2017_sat_erw', '2017_sat_math',\n",
       "       '2017_sat_total', '2017_act_participation', '2017_act_english',\n",
       "       '2017_act_math', '2017_act_reading', '2017_act_science',\n",
       "       '2017_act_composite', '2018_sat_participation', '2018_sat_erw',\n",
       "       '2018_sat_math', '2018_sat_total', '2018_act_participation',\n",
       "       '2018_act_english', '2018_act_math', '2018_act_reading',\n",
       "       '2018_act_science', '2018_act_composite'],\n",
       "      dtype='object')"
      ]
     },
     "execution_count": 78,
     "metadata": {},
     "output_type": "execute_result"
    }
   ],
   "source": [
    "final_test_scores.columns"
   ]
  },
  {
   "cell_type": "code",
   "execution_count": 79,
   "metadata": {},
   "outputs": [],
   "source": [
    "#New datafram for ACT sectional analysis\n",
    "\n",
    "act_sections = final_test_scores.drop(columns = ['state', '2017_sat_participation', \n",
    "                                                 '2017_sat_erw', '2017_sat_math','2017_sat_total', \n",
    "                                                 '2017_act_participation','2017_act_composite', \n",
    "                                                 '2018_sat_participation', '2018_sat_erw','2018_sat_math', \n",
    "                                                 '2018_sat_total', '2018_act_participation','2018_act_composite'])\n",
    "\n",
    "#Reorder sections for comparison\n",
    "act_sections = act_sections[['2017_act_english','2018_act_english',\n",
    "                            '2017_act_reading','2018_act_reading',\n",
    "                            '2017_act_math','2018_act_math',\n",
    "                            '2017_act_science','2018_act_science']]"
   ]
  },
  {
   "cell_type": "code",
   "execution_count": 80,
   "metadata": {},
   "outputs": [
    {
     "data": {
      "text/plain": [
       "2017_act_english    20.931373\n",
       "2018_act_english    21.486275\n",
       "2017_act_reading    22.013725\n",
       "2018_act_reading    21.125490\n",
       "2017_act_math       21.182353\n",
       "2018_act_math       20.988235\n",
       "2017_act_science    21.450980\n",
       "2018_act_science    22.015686\n",
       "dtype: float64"
      ]
     },
     "execution_count": 80,
     "metadata": {},
     "output_type": "execute_result"
    }
   ],
   "source": [
    "act_sections.mean()"
   ]
  },
  {
   "cell_type": "code",
   "execution_count": 81,
   "metadata": {
    "scrolled": true
   },
   "outputs": [],
   "source": [
    "#New dataframe for SAT sectional analysis\n",
    "\n",
    "sat_sections = final_test_scores.drop(columns = ['state', '2017_sat_participation',\n",
    "                                                '2017_sat_total', '2017_act_participation', '2017_act_english',\n",
    "                                                '2017_act_math', '2017_act_reading', '2017_act_science',\n",
    "                                                '2017_act_composite', '2018_sat_participation', '2018_sat_total', \n",
    "                                                '2018_act_participation', '2018_act_english', '2018_act_math', \n",
    "                                                '2018_act_reading', '2018_act_science', '2018_act_composite'])\n",
    "\n",
    "#Reorder sections for comparison\n",
    "\n",
    "sat_sections = sat_sections[['2017_sat_erw','2018_sat_erw',\n",
    "                            '2017_sat_math','2018_sat_math']]"
   ]
  },
  {
   "cell_type": "code",
   "execution_count": 82,
   "metadata": {
    "scrolled": true
   },
   "outputs": [
    {
     "data": {
      "text/plain": [
       "Text(0.5, 0, '2017 and 2018 SAT Sectional Scores')"
      ]
     },
     "execution_count": 82,
     "metadata": {},
     "output_type": "execute_result"
    },
    {
     "data": {
      "image/png": "[encoded data removed]",
      "text/plain": [
       "<Figure size 1080x432 with 1 Axes>"
      ]
     },
     "metadata": {},
     "output_type": "display_data"
    }
   ],
   "source": [
    "plt.figure(figsize= (15, 6))\n",
    "sns.violinplot(data = sat_sections, inner = 'quartile')\n",
    "plt.xlabel('2017 and 2018 SAT Sectional Scores', color = 'black', fontsize = 18)"
   ]
  },
  {
   "cell_type": "code",
   "execution_count": 83,
   "metadata": {},
   "outputs": [
    {
     "data": {
      "text/plain": [
       "Text(0.5, 1.0, 'Violin Plot of ACT Scores')"
      ]
     },
     "execution_count": 83,
     "metadata": {},
     "output_type": "execute_result"
    },
    {
     "data": {
      "image/png": "[encoded data removed]",
      "text/plain": [
       "<Figure size 1440x432 with 1 Axes>"
      ]
     },
     "metadata": {},
     "output_type": "display_data"
    }
   ],
   "source": [
    "plt.figure(figsize= (20, 6))\n",
    "sns.violinplot(data = act_sections)\n",
    "\n",
    "plt.title(\"Violin Plot of ACT Scores\")"
   ]
  },
  {
   "cell_type": "code",
   "execution_count": null,
   "metadata": {},
   "outputs": [],
   "source": []
  },
  {
   "cell_type": "markdown",
   "metadata": {},
   "source": [
    "#### Feel free to do additional plots below\n",
    "*(do research and choose your own chart types & variables)*\n",
    "\n",
    "Are there any additional trends or relationships you haven't explored? Was there something interesting you saw that you'd like to dive further into? It's likely that there are a few more plots you might want to generate to support your narrative and recommendations that you are building toward. **As always, make sure you're interpreting your plots as you go**."
   ]
  },
  {
   "cell_type": "code",
   "execution_count": 84,
   "metadata": {
    "scrolled": true
   },
   "outputs": [
    {
     "data": {
      "text/plain": [
       "<Figure size 1152x648 with 0 Axes>"
      ]
     },
     "metadata": {},
     "output_type": "display_data"
    },
    {
     "data": {
      "image/png": "[encoded data removed]",
      "text/plain": [
       "<Figure size 360x360 with 1 Axes>"
      ]
     },
     "metadata": {},
     "output_type": "display_data"
    }
   ],
   "source": [
    "#Scatter plot with regression for SAT Participation\n",
    "plt.figure(figsize=(16, 9));\n",
    "\n",
    "sns.lmplot(data=final_test_scores,x='2017_sat_participation',y='2018_sat_participation');\n",
    "ax = plt.gca()\n",
    "ax.set_title(\"Scatter plot with regression for SAT Participation\", size = 18);\n",
    "plt.xlabel(\"2017 SAT Participation\", size =14)\n",
    "plt.ylabel(\"2018 SAT Participation\", size = 14)\n",
    "plt.grid(True)"
   ]
  },
  {
   "cell_type": "code",
   "execution_count": 85,
   "metadata": {
    "scrolled": false
   },
   "outputs": [
    {
     "data": {
      "text/plain": [
       "<Figure size 1152x648 with 0 Axes>"
      ]
     },
     "metadata": {},
     "output_type": "display_data"
    },
    {
     "data": {
      "image/png": "[encoded data removed]",
      "text/plain": [
       "<Figure size 360x360 with 1 Axes>"
      ]
     },
     "metadata": {},
     "output_type": "display_data"
    }
   ],
   "source": [
    "#Scatter plot with regression for SAT Scores\n",
    "plt.figure(figsize=(16, 9));\n",
    "\n",
    "sns.lmplot(data=final_test_scores,x='2018_sat_total',y='2017_sat_total')\n",
    "ax = plt.gca()\n",
    "ax.set_title(\"SAT Total Score Comparison 2017-2018\", size = 18);\n",
    "plt.xlabel(\"2018 SAT Total Score\", size =14)\n",
    "plt.ylabel(\"2017 SAT Total Score\", size = 14)\n",
    "plt.axvline(final_test_scores['2018_sat_total'].mean(), color = 'red', alpha = .6)\n",
    "plt.axvline(final_test_scores['2017_sat_total'].mean(), color = 'pink')\n",
    "plt.grid(True)"
   ]
  },
  {
   "cell_type": "code",
   "execution_count": 86,
   "metadata": {},
   "outputs": [],
   "source": [
    "change_in_SAT_score = final_test_scores['2018_sat_total'].mean() - final_test_scores['2017_sat_total'].mean()"
   ]
  },
  {
   "cell_type": "code",
   "execution_count": 87,
   "metadata": {},
   "outputs": [
    {
     "data": {
      "text/plain": [
       "-6.078431372548948"
      ]
     },
     "execution_count": 87,
     "metadata": {},
     "output_type": "execute_result"
    }
   ],
   "source": [
    "change_in_SAT_score"
   ]
  },
  {
   "cell_type": "code",
   "execution_count": 88,
   "metadata": {
    "scrolled": true
   },
   "outputs": [
    {
     "data": {
      "text/html": [
       "<div>\n",
       "<style scoped>\n",
       "    .dataframe tbody tr th:only-of-type {\n",
       "        vertical-align: middle;\n",
       "    }\n",
       "\n",
       "    .dataframe tbody tr th {\n",
       "        vertical-align: top;\n",
       "    }\n",
       "\n",
       "    .dataframe thead th {\n",
       "        text-align: right;\n",
       "    }\n",
       "</style>\n",
       "<table border=\"1\" class=\"dataframe\">\n",
       "  <thead>\n",
       "    <tr style=\"text-align: right;\">\n",
       "      <th></th>\n",
       "      <th>state</th>\n",
       "      <th>2017_sat_participation</th>\n",
       "      <th>2017_sat_erw</th>\n",
       "      <th>2017_sat_math</th>\n",
       "      <th>2017_sat_total</th>\n",
       "      <th>2017_act_participation</th>\n",
       "      <th>2017_act_english</th>\n",
       "      <th>2017_act_math</th>\n",
       "      <th>2017_act_reading</th>\n",
       "      <th>2017_act_science</th>\n",
       "      <th>...</th>\n",
       "      <th>2018_sat_participation</th>\n",
       "      <th>2018_sat_erw</th>\n",
       "      <th>2018_sat_math</th>\n",
       "      <th>2018_sat_total</th>\n",
       "      <th>2018_act_participation</th>\n",
       "      <th>2018_act_english</th>\n",
       "      <th>2018_act_math</th>\n",
       "      <th>2018_act_reading</th>\n",
       "      <th>2018_act_science</th>\n",
       "      <th>2018_act_composite</th>\n",
       "    </tr>\n",
       "  </thead>\n",
       "  <tbody>\n",
       "    <tr>\n",
       "      <th>0</th>\n",
       "      <td>Alabama</td>\n",
       "      <td>5.0</td>\n",
       "      <td>593</td>\n",
       "      <td>572</td>\n",
       "      <td>1165</td>\n",
       "      <td>100.0</td>\n",
       "      <td>18.9</td>\n",
       "      <td>18.4</td>\n",
       "      <td>19.7</td>\n",
       "      <td>19.4</td>\n",
       "      <td>...</td>\n",
       "      <td>6.0</td>\n",
       "      <td>595</td>\n",
       "      <td>571</td>\n",
       "      <td>1166</td>\n",
       "      <td>100.0</td>\n",
       "      <td>19.1</td>\n",
       "      <td>18.9</td>\n",
       "      <td>18.3</td>\n",
       "      <td>19.6</td>\n",
       "      <td>19.0</td>\n",
       "    </tr>\n",
       "  </tbody>\n",
       "</table>\n",
       "<p>1 rows × 21 columns</p>\n",
       "</div>"
      ],
      "text/plain": [
       "     state  2017_sat_participation  2017_sat_erw  2017_sat_math  \\\n",
       "0  Alabama                     5.0           593            572   \n",
       "\n",
       "   2017_sat_total  2017_act_participation  2017_act_english  2017_act_math  \\\n",
       "0            1165                   100.0              18.9           18.4   \n",
       "\n",
       "   2017_act_reading  2017_act_science  ...  2018_sat_participation  \\\n",
       "0              19.7              19.4  ...                     6.0   \n",
       "\n",
       "   2018_sat_erw  2018_sat_math  2018_sat_total  2018_act_participation  \\\n",
       "0           595            571            1166                   100.0   \n",
       "\n",
       "   2018_act_english  2018_act_math  2018_act_reading  2018_act_science  \\\n",
       "0              19.1           18.9              18.3              19.6   \n",
       "\n",
       "   2018_act_composite  \n",
       "0                19.0  \n",
       "\n",
       "[1 rows x 21 columns]"
      ]
     },
     "execution_count": 88,
     "metadata": {},
     "output_type": "execute_result"
    }
   ],
   "source": [
    "final_test_scores.head(1)"
   ]
  },
  {
   "cell_type": "markdown",
   "metadata": {},
   "source": [
    "#### (Optional): Using Tableau, create a choropleth map for each variable using a map of the US. \n",
    "\n",
    "Save this plot as an image file in an images directory, provide a relative path, and insert the image into notebook in markdown."
   ]
  },
  {
   "cell_type": "code",
   "execution_count": null,
   "metadata": {},
   "outputs": [],
   "source": []
  },
  {
   "cell_type": "markdown",
   "metadata": {},
   "source": [
    "## Descriptive and Inferential Statistics"
   ]
  },
  {
   "cell_type": "markdown",
   "metadata": {},
   "source": [
    "#### Summarizing Distributions\n",
    "\n"
   ]
  },
  {
   "cell_type": "markdown",
   "metadata": {},
   "source": [
    "For the ACT, states had a mean participation rate of 65.2% with a standard deviation of 32.1 in 2017, compared with a mean participation rate of 60.0% with a standard deviation of 33.5 in 2018.  Approximately an 8 percent decrease in participation. \n",
    "\n",
    "For the SAT, states had a mean participation rate of 39.8% with a standard deviation of 35.2 in 2017, compared with a 45.7%, with a standard deviation of 37.3 in 2018. Approximately a 15% increase in participation.\n",
    "\n",
    "\n",
    "For the ACT, the section mean ranges from 20.9 to 22.0, with a standard deviation range from 1.73 to 2.45.  The ACT's composite scores, respectively for exam year 2017 and 2018, have means of 21.5 and 21.3, and standard deviations of 2.0 and 1.87.  For the SAT, the section mean ranges from 556 to 569 with a standard deviation range from 45.6 to 47.7.  The total scores for 2017 and 2018 respectively have a mean score of 1126 and 1120, with standard deviations of 92.5 and 94.1.  \n",
    "\n",
    "The standard deviations help provide some insight into the differences in mandatory and volunteer based testing, although there are still too many unknowns to make any strong assumptions."
   ]
  },
  {
   "cell_type": "code",
   "execution_count": 89,
   "metadata": {
    "scrolled": true
   },
   "outputs": [
    {
     "data": {
      "text/html": [
       "<div>\n",
       "<style scoped>\n",
       "    .dataframe tbody tr th:only-of-type {\n",
       "        vertical-align: middle;\n",
       "    }\n",
       "\n",
       "    .dataframe tbody tr th {\n",
       "        vertical-align: top;\n",
       "    }\n",
       "\n",
       "    .dataframe thead th {\n",
       "        text-align: right;\n",
       "    }\n",
       "</style>\n",
       "<table border=\"1\" class=\"dataframe\">\n",
       "  <thead>\n",
       "    <tr style=\"text-align: right;\">\n",
       "      <th></th>\n",
       "      <th>count</th>\n",
       "      <th>mean</th>\n",
       "      <th>std</th>\n",
       "      <th>min</th>\n",
       "      <th>25%</th>\n",
       "      <th>50%</th>\n",
       "      <th>75%</th>\n",
       "      <th>max</th>\n",
       "    </tr>\n",
       "  </thead>\n",
       "  <tbody>\n",
       "    <tr>\n",
       "      <th>2017_sat_participation</th>\n",
       "      <td>51.0</td>\n",
       "      <td>39.803922</td>\n",
       "      <td>35.276632</td>\n",
       "      <td>2.0</td>\n",
       "      <td>4.00</td>\n",
       "      <td>38.0</td>\n",
       "      <td>66.00</td>\n",
       "      <td>100.0</td>\n",
       "    </tr>\n",
       "    <tr>\n",
       "      <th>2017_sat_erw</th>\n",
       "      <td>51.0</td>\n",
       "      <td>569.117647</td>\n",
       "      <td>45.666901</td>\n",
       "      <td>482.0</td>\n",
       "      <td>533.50</td>\n",
       "      <td>559.0</td>\n",
       "      <td>613.00</td>\n",
       "      <td>644.0</td>\n",
       "    </tr>\n",
       "    <tr>\n",
       "      <th>2017_sat_math</th>\n",
       "      <td>51.0</td>\n",
       "      <td>556.882353</td>\n",
       "      <td>47.121395</td>\n",
       "      <td>468.0</td>\n",
       "      <td>523.50</td>\n",
       "      <td>548.0</td>\n",
       "      <td>599.00</td>\n",
       "      <td>651.0</td>\n",
       "    </tr>\n",
       "    <tr>\n",
       "      <th>2017_sat_total</th>\n",
       "      <td>51.0</td>\n",
       "      <td>1126.098039</td>\n",
       "      <td>92.494812</td>\n",
       "      <td>950.0</td>\n",
       "      <td>1055.50</td>\n",
       "      <td>1107.0</td>\n",
       "      <td>1212.00</td>\n",
       "      <td>1295.0</td>\n",
       "    </tr>\n",
       "    <tr>\n",
       "      <th>2017_act_participation</th>\n",
       "      <td>51.0</td>\n",
       "      <td>65.254902</td>\n",
       "      <td>32.140842</td>\n",
       "      <td>8.0</td>\n",
       "      <td>31.00</td>\n",
       "      <td>69.0</td>\n",
       "      <td>100.00</td>\n",
       "      <td>100.0</td>\n",
       "    </tr>\n",
       "    <tr>\n",
       "      <th>2017_act_english</th>\n",
       "      <td>51.0</td>\n",
       "      <td>20.931373</td>\n",
       "      <td>2.353677</td>\n",
       "      <td>16.3</td>\n",
       "      <td>19.00</td>\n",
       "      <td>20.7</td>\n",
       "      <td>23.30</td>\n",
       "      <td>25.5</td>\n",
       "    </tr>\n",
       "    <tr>\n",
       "      <th>2017_act_math</th>\n",
       "      <td>51.0</td>\n",
       "      <td>21.182353</td>\n",
       "      <td>1.981989</td>\n",
       "      <td>18.0</td>\n",
       "      <td>19.40</td>\n",
       "      <td>20.9</td>\n",
       "      <td>23.10</td>\n",
       "      <td>25.3</td>\n",
       "    </tr>\n",
       "    <tr>\n",
       "      <th>2017_act_reading</th>\n",
       "      <td>51.0</td>\n",
       "      <td>22.013725</td>\n",
       "      <td>2.067271</td>\n",
       "      <td>18.1</td>\n",
       "      <td>20.45</td>\n",
       "      <td>21.8</td>\n",
       "      <td>24.15</td>\n",
       "      <td>26.0</td>\n",
       "    </tr>\n",
       "    <tr>\n",
       "      <th>2017_act_science</th>\n",
       "      <td>51.0</td>\n",
       "      <td>21.450980</td>\n",
       "      <td>1.739353</td>\n",
       "      <td>18.2</td>\n",
       "      <td>19.95</td>\n",
       "      <td>21.3</td>\n",
       "      <td>23.20</td>\n",
       "      <td>24.9</td>\n",
       "    </tr>\n",
       "    <tr>\n",
       "      <th>2017_act_composite</th>\n",
       "      <td>51.0</td>\n",
       "      <td>21.519608</td>\n",
       "      <td>2.020695</td>\n",
       "      <td>17.8</td>\n",
       "      <td>19.80</td>\n",
       "      <td>21.4</td>\n",
       "      <td>23.60</td>\n",
       "      <td>25.5</td>\n",
       "    </tr>\n",
       "    <tr>\n",
       "      <th>2018_sat_participation</th>\n",
       "      <td>51.0</td>\n",
       "      <td>45.745098</td>\n",
       "      <td>37.314256</td>\n",
       "      <td>2.0</td>\n",
       "      <td>4.50</td>\n",
       "      <td>52.0</td>\n",
       "      <td>77.50</td>\n",
       "      <td>100.0</td>\n",
       "    </tr>\n",
       "    <tr>\n",
       "      <th>2018_sat_erw</th>\n",
       "      <td>51.0</td>\n",
       "      <td>563.686275</td>\n",
       "      <td>47.502627</td>\n",
       "      <td>480.0</td>\n",
       "      <td>534.50</td>\n",
       "      <td>552.0</td>\n",
       "      <td>610.50</td>\n",
       "      <td>643.0</td>\n",
       "    </tr>\n",
       "    <tr>\n",
       "      <th>2018_sat_math</th>\n",
       "      <td>51.0</td>\n",
       "      <td>556.235294</td>\n",
       "      <td>47.772623</td>\n",
       "      <td>480.0</td>\n",
       "      <td>522.50</td>\n",
       "      <td>544.0</td>\n",
       "      <td>593.50</td>\n",
       "      <td>655.0</td>\n",
       "    </tr>\n",
       "    <tr>\n",
       "      <th>2018_sat_total</th>\n",
       "      <td>51.0</td>\n",
       "      <td>1120.019608</td>\n",
       "      <td>94.155083</td>\n",
       "      <td>977.0</td>\n",
       "      <td>1057.50</td>\n",
       "      <td>1098.0</td>\n",
       "      <td>1204.00</td>\n",
       "      <td>1298.0</td>\n",
       "    </tr>\n",
       "    <tr>\n",
       "      <th>2018_act_participation</th>\n",
       "      <td>47.0</td>\n",
       "      <td>60.085106</td>\n",
       "      <td>33.561643</td>\n",
       "      <td>7.0</td>\n",
       "      <td>28.50</td>\n",
       "      <td>65.0</td>\n",
       "      <td>100.00</td>\n",
       "      <td>100.0</td>\n",
       "    </tr>\n",
       "    <tr>\n",
       "      <th>2018_act_english</th>\n",
       "      <td>51.0</td>\n",
       "      <td>21.486275</td>\n",
       "      <td>2.106278</td>\n",
       "      <td>17.7</td>\n",
       "      <td>19.95</td>\n",
       "      <td>21.3</td>\n",
       "      <td>23.55</td>\n",
       "      <td>25.6</td>\n",
       "    </tr>\n",
       "    <tr>\n",
       "      <th>2018_act_math</th>\n",
       "      <td>51.0</td>\n",
       "      <td>20.988235</td>\n",
       "      <td>2.446356</td>\n",
       "      <td>16.6</td>\n",
       "      <td>19.10</td>\n",
       "      <td>20.2</td>\n",
       "      <td>23.70</td>\n",
       "      <td>26.0</td>\n",
       "    </tr>\n",
       "    <tr>\n",
       "      <th>2018_act_reading</th>\n",
       "      <td>51.0</td>\n",
       "      <td>21.125490</td>\n",
       "      <td>2.035765</td>\n",
       "      <td>17.8</td>\n",
       "      <td>19.40</td>\n",
       "      <td>20.7</td>\n",
       "      <td>23.15</td>\n",
       "      <td>25.2</td>\n",
       "    </tr>\n",
       "    <tr>\n",
       "      <th>2018_act_science</th>\n",
       "      <td>51.0</td>\n",
       "      <td>22.015686</td>\n",
       "      <td>2.167245</td>\n",
       "      <td>18.0</td>\n",
       "      <td>20.45</td>\n",
       "      <td>21.6</td>\n",
       "      <td>24.10</td>\n",
       "      <td>26.1</td>\n",
       "    </tr>\n",
       "    <tr>\n",
       "      <th>2018_act_composite</th>\n",
       "      <td>51.0</td>\n",
       "      <td>21.345098</td>\n",
       "      <td>1.870114</td>\n",
       "      <td>17.9</td>\n",
       "      <td>19.85</td>\n",
       "      <td>21.1</td>\n",
       "      <td>23.05</td>\n",
       "      <td>24.9</td>\n",
       "    </tr>\n",
       "  </tbody>\n",
       "</table>\n",
       "</div>"
      ],
      "text/plain": [
       "                        count         mean        std    min      25%     50%  \\\n",
       "2017_sat_participation   51.0    39.803922  35.276632    2.0     4.00    38.0   \n",
       "2017_sat_erw             51.0   569.117647  45.666901  482.0   533.50   559.0   \n",
       "2017_sat_math            51.0   556.882353  47.121395  468.0   523.50   548.0   \n",
       "2017_sat_total           51.0  1126.098039  92.494812  950.0  1055.50  1107.0   \n",
       "2017_act_participation   51.0    65.254902  32.140842    8.0    31.00    69.0   \n",
       "2017_act_english         51.0    20.931373   2.353677   16.3    19.00    20.7   \n",
       "2017_act_math            51.0    21.182353   1.981989   18.0    19.40    20.9   \n",
       "2017_act_reading         51.0    22.013725   2.067271   18.1    20.45    21.8   \n",
       "2017_act_science         51.0    21.450980   1.739353   18.2    19.95    21.3   \n",
       "2017_act_composite       51.0    21.519608   2.020695   17.8    19.80    21.4   \n",
       "2018_sat_participation   51.0    45.745098  37.314256    2.0     4.50    52.0   \n",
       "2018_sat_erw             51.0   563.686275  47.502627  480.0   534.50   552.0   \n",
       "2018_sat_math            51.0   556.235294  47.772623  480.0   522.50   544.0   \n",
       "2018_sat_total           51.0  1120.019608  94.155083  977.0  1057.50  1098.0   \n",
       "2018_act_participation   47.0    60.085106  33.561643    7.0    28.50    65.0   \n",
       "2018_act_english         51.0    21.486275   2.106278   17.7    19.95    21.3   \n",
       "2018_act_math            51.0    20.988235   2.446356   16.6    19.10    20.2   \n",
       "2018_act_reading         51.0    21.125490   2.035765   17.8    19.40    20.7   \n",
       "2018_act_science         51.0    22.015686   2.167245   18.0    20.45    21.6   \n",
       "2018_act_composite       51.0    21.345098   1.870114   17.9    19.85    21.1   \n",
       "\n",
       "                            75%     max  \n",
       "2017_sat_participation    66.00   100.0  \n",
       "2017_sat_erw             613.00   644.0  \n",
       "2017_sat_math            599.00   651.0  \n",
       "2017_sat_total          1212.00  1295.0  \n",
       "2017_act_participation   100.00   100.0  \n",
       "2017_act_english          23.30    25.5  \n",
       "2017_act_math             23.10    25.3  \n",
       "2017_act_reading          24.15    26.0  \n",
       "2017_act_science          23.20    24.9  \n",
       "2017_act_composite        23.60    25.5  \n",
       "2018_sat_participation    77.50   100.0  \n",
       "2018_sat_erw             610.50   643.0  \n",
       "2018_sat_math            593.50   655.0  \n",
       "2018_sat_total          1204.00  1298.0  \n",
       "2018_act_participation   100.00   100.0  \n",
       "2018_act_english          23.55    25.6  \n",
       "2018_act_math             23.70    26.0  \n",
       "2018_act_reading          23.15    25.2  \n",
       "2018_act_science          24.10    26.1  \n",
       "2018_act_composite        23.05    24.9  "
      ]
     },
     "execution_count": 89,
     "metadata": {},
     "output_type": "execute_result"
    }
   ],
   "source": [
    "final_test_scores.describe().transpose()"
   ]
  },
  {
   "cell_type": "markdown",
   "metadata": {},
   "source": [
    "Answers:"
   ]
  },
  {
   "cell_type": "markdown",
   "metadata": {},
   "source": [
    "#### We generally assuming that data we sample from a population will be normally distributed. Do we observe this trend?"
   ]
  },
  {
   "cell_type": "markdown",
   "metadata": {},
   "source": [
    "<u>**Answer:**</u>  For Participation, the data skews right for the ACT, and left for the SAT.  There are more high participation states for the ACT, and low participation states for the SAT.  Since these distributions are impacted by business and politics, from year to year, this is no huge surprise.  However, if we could compare over a 50 year period, it would be reasonable to assume that it would follow the central limit theorem and become normal.  "
   ]
  },
  {
   "cell_type": "markdown",
   "metadata": {},
   "source": [
    "For scores, the data generally skews to the right for all scores.  There seems to be two classes of students that take the exams.  The mandatory students, and the high achievers.  Given how our mean distributions were calculated (all states treated equal, and mandatory testing treated the same is voluntary testing), it is no large surprise that our distributions have multiple peaks."
   ]
  },
  {
   "cell_type": "markdown",
   "metadata": {},
   "source": [
    "#### Estimate Limits of Data\n",
    "\n",
    "Suppose we only seek to understand the relationship between SAT and ACT participation rates in 2017. \n",
    "\n",
    "##### Does it make sense to conduct statistical inference given these data specifically? \n",
    "Why or why not?\n",
    "\n",
    "*(think about granularity, aggregation, the relationships between populations size & rates...consider the actually populations these data describe in answering this question)*"
   ]
  },
  {
   "cell_type": "markdown",
   "metadata": {},
   "source": [
    "<u>**Answer:**</u>  The overall participation numbers cannot be inferred from this specific data.  It has a low granularity, specifically that there is no population statistic for each state to calculation true participation percentages.  Population from state to state is drastically different, and therefore the percentage of total students that are taking the exam cannot be inferred from these numbers.  Therefore any aggregated data treats all states as equal. \n",
    "\n",
    "If we had access to the test taking populations, we could apply a multiplier of each state's percentage of the national population to better measure this particular goal.\n",
    "\n",
    "The largest take away is the glimpse into the political nature of these exams.  The more you work with this data, the more the goal of 100% participation in particular states becomes clear.  "
   ]
  },
  {
   "cell_type": "markdown",
   "metadata": {},
   "source": [
    "##### Is it appropriate to compare *these* specific SAT and ACT math scores? \n",
    "\n"
   ]
  },
  {
   "cell_type": "markdown",
   "metadata": {},
   "source": [
    "<u>**Answer:**</u>\n",
    "It is not appropriate to compare specific SAT and ACT math scores.  While it makes sense to compare SAT math to SAT math from year to year, without knowing the internal formulations for scoring, it would be inaccurate to assume any linear comparisons.  Additionally, as already mentioned, the aggregation of voluntary and mandatory testing blurs what we can infer from the scores.  "
   ]
  },
  {
   "cell_type": "markdown",
   "metadata": {},
   "source": [
    "#### Statistical Evaluation of Distributions \n",
    "\n",
    "**If you feel it's appropriate**, using methods we discussed in class, run hypothesis tests to compare variables of interest in our dataset. "
   ]
  },
  {
   "cell_type": "markdown",
   "metadata": {},
   "source": [
    "\n",
    "It doesn't feel appropriate!"
   ]
  },
  {
   "cell_type": "markdown",
   "metadata": {},
   "source": [
    "## Outside Research"
   ]
  },
  {
   "cell_type": "markdown",
   "metadata": {},
   "source": [
    "Notably, College Board agreed to provide free SAT exams for every high school junior, and free PSAT exams for every high school sophmore in Colorado and Illinois.  Every bit as much important, accessible and free SAT test preparatory material were provided via the Khan Academy website, which has become available to all students nationwide.  There was much contention about the votes to switch exams in these two states, with the ACT looking to take legal action over the results.  \n",
    "\n",
    "\n",
    "Traditionally, the SAT has been the premiere college entrance exam in this country, however from 2008 to 2012, the ACT showed a huge gain in participation nationwide.  2012 was the first year that the ACT had more participation than the SAT.  As of 2018, the ACT had a 60% nationwide participation rate, while the SAT only had a 45% Participation rate. \n",
    "\n",
    "\n",
    "https://www.vox.com/2014/9/29/18080522/sat-college\n",
    "https://www.chalkbeat.org/posts/co/2015/12/23/goodbye-act-hello-sat-a-significant-change-for-colorado-high-schoolers/\n",
    "https://www.chicagotribune.com/news/ct-illinois-chooses-sat-met-20160211-story.html\n",
    "https://www.providencejournal.com/news/20181025/with-sat-required-ri-sees-jump-in-participation-decline-in-scores"
   ]
  },
  {
   "cell_type": "code",
   "execution_count": 90,
   "metadata": {
    "scrolled": true
   },
   "outputs": [],
   "source": [
    "#Chosen states of interest for conclusions and recommendations\n",
    "\n",
    "states_of_interest = final_test_scores[(final_test_scores['state'] == 'Colorado') | (final_test_scores['state'] == 'Wisconsin') |\n",
    "                 (final_test_scores['state'] == 'Illinois') | (final_test_scores['state'] == 'Utah')]"
   ]
  },
  {
   "cell_type": "code",
   "execution_count": 91,
   "metadata": {
    "scrolled": true
   },
   "outputs": [
    {
     "data": {
      "text/html": [
       "<div>\n",
       "<style scoped>\n",
       "    .dataframe tbody tr th:only-of-type {\n",
       "        vertical-align: middle;\n",
       "    }\n",
       "\n",
       "    .dataframe tbody tr th {\n",
       "        vertical-align: top;\n",
       "    }\n",
       "\n",
       "    .dataframe thead th {\n",
       "        text-align: right;\n",
       "    }\n",
       "</style>\n",
       "<table border=\"1\" class=\"dataframe\">\n",
       "  <thead>\n",
       "    <tr style=\"text-align: right;\">\n",
       "      <th></th>\n",
       "      <th>state</th>\n",
       "      <th>2017_sat_participation</th>\n",
       "      <th>2017_sat_erw</th>\n",
       "      <th>2017_sat_math</th>\n",
       "      <th>2017_sat_total</th>\n",
       "      <th>2017_act_participation</th>\n",
       "      <th>2017_act_english</th>\n",
       "      <th>2017_act_math</th>\n",
       "      <th>2017_act_reading</th>\n",
       "      <th>2017_act_science</th>\n",
       "      <th>...</th>\n",
       "      <th>2018_sat_participation</th>\n",
       "      <th>2018_sat_erw</th>\n",
       "      <th>2018_sat_math</th>\n",
       "      <th>2018_sat_total</th>\n",
       "      <th>2018_act_participation</th>\n",
       "      <th>2018_act_english</th>\n",
       "      <th>2018_act_math</th>\n",
       "      <th>2018_act_reading</th>\n",
       "      <th>2018_act_science</th>\n",
       "      <th>2018_act_composite</th>\n",
       "    </tr>\n",
       "  </thead>\n",
       "  <tbody>\n",
       "    <tr>\n",
       "      <th>44</th>\n",
       "      <td>Utah</td>\n",
       "      <td>3.0</td>\n",
       "      <td>624</td>\n",
       "      <td>614</td>\n",
       "      <td>1238</td>\n",
       "      <td>100.0</td>\n",
       "      <td>19.5</td>\n",
       "      <td>19.9</td>\n",
       "      <td>20.8</td>\n",
       "      <td>20.6</td>\n",
       "      <td>...</td>\n",
       "      <td>4.0</td>\n",
       "      <td>480</td>\n",
       "      <td>530</td>\n",
       "      <td>1010</td>\n",
       "      <td>100.0</td>\n",
       "      <td>20.4</td>\n",
       "      <td>19.7</td>\n",
       "      <td>19.9</td>\n",
       "      <td>20.9</td>\n",
       "      <td>20.5</td>\n",
       "    </tr>\n",
       "    <tr>\n",
       "      <th>13</th>\n",
       "      <td>Illinois</td>\n",
       "      <td>9.0</td>\n",
       "      <td>559</td>\n",
       "      <td>556</td>\n",
       "      <td>1115</td>\n",
       "      <td>93.0</td>\n",
       "      <td>21.0</td>\n",
       "      <td>21.2</td>\n",
       "      <td>21.6</td>\n",
       "      <td>21.3</td>\n",
       "      <td>...</td>\n",
       "      <td>99.0</td>\n",
       "      <td>513</td>\n",
       "      <td>506</td>\n",
       "      <td>1019</td>\n",
       "      <td>43.0</td>\n",
       "      <td>23.9</td>\n",
       "      <td>24.1</td>\n",
       "      <td>23.4</td>\n",
       "      <td>24.2</td>\n",
       "      <td>23.4</td>\n",
       "    </tr>\n",
       "    <tr>\n",
       "      <th>5</th>\n",
       "      <td>Colorado</td>\n",
       "      <td>11.0</td>\n",
       "      <td>606</td>\n",
       "      <td>595</td>\n",
       "      <td>1201</td>\n",
       "      <td>100.0</td>\n",
       "      <td>20.1</td>\n",
       "      <td>20.3</td>\n",
       "      <td>21.2</td>\n",
       "      <td>20.9</td>\n",
       "      <td>...</td>\n",
       "      <td>100.0</td>\n",
       "      <td>519</td>\n",
       "      <td>506</td>\n",
       "      <td>1025</td>\n",
       "      <td>30.0</td>\n",
       "      <td>23.9</td>\n",
       "      <td>23.9</td>\n",
       "      <td>23.2</td>\n",
       "      <td>24.4</td>\n",
       "      <td>23.5</td>\n",
       "    </tr>\n",
       "    <tr>\n",
       "      <th>49</th>\n",
       "      <td>Wisconsin</td>\n",
       "      <td>3.0</td>\n",
       "      <td>642</td>\n",
       "      <td>649</td>\n",
       "      <td>1291</td>\n",
       "      <td>100.0</td>\n",
       "      <td>19.7</td>\n",
       "      <td>20.4</td>\n",
       "      <td>20.6</td>\n",
       "      <td>20.9</td>\n",
       "      <td>...</td>\n",
       "      <td>3.0</td>\n",
       "      <td>641</td>\n",
       "      <td>653</td>\n",
       "      <td>1294</td>\n",
       "      <td>100.0</td>\n",
       "      <td>20.5</td>\n",
       "      <td>19.8</td>\n",
       "      <td>20.3</td>\n",
       "      <td>20.6</td>\n",
       "      <td>20.8</td>\n",
       "    </tr>\n",
       "  </tbody>\n",
       "</table>\n",
       "<p>4 rows × 21 columns</p>\n",
       "</div>"
      ],
      "text/plain": [
       "        state  2017_sat_participation  2017_sat_erw  2017_sat_math  \\\n",
       "44       Utah                     3.0           624            614   \n",
       "13   Illinois                     9.0           559            556   \n",
       "5    Colorado                    11.0           606            595   \n",
       "49  Wisconsin                     3.0           642            649   \n",
       "\n",
       "    2017_sat_total  2017_act_participation  2017_act_english  2017_act_math  \\\n",
       "44            1238                   100.0              19.5           19.9   \n",
       "13            1115                    93.0              21.0           21.2   \n",
       "5             1201                   100.0              20.1           20.3   \n",
       "49            1291                   100.0              19.7           20.4   \n",
       "\n",
       "    2017_act_reading  2017_act_science  ...  2018_sat_participation  \\\n",
       "44              20.8              20.6  ...                     4.0   \n",
       "13              21.6              21.3  ...                    99.0   \n",
       "5               21.2              20.9  ...                   100.0   \n",
       "49              20.6              20.9  ...                     3.0   \n",
       "\n",
       "    2018_sat_erw  2018_sat_math  2018_sat_total  2018_act_participation  \\\n",
       "44           480            530            1010                   100.0   \n",
       "13           513            506            1019                    43.0   \n",
       "5            519            506            1025                    30.0   \n",
       "49           641            653            1294                   100.0   \n",
       "\n",
       "    2018_act_english  2018_act_math  2018_act_reading  2018_act_science  \\\n",
       "44              20.4           19.7              19.9              20.9   \n",
       "13              23.9           24.1              23.4              24.2   \n",
       "5               23.9           23.9              23.2              24.4   \n",
       "49              20.5           19.8              20.3              20.6   \n",
       "\n",
       "    2018_act_composite  \n",
       "44                20.5  \n",
       "13                23.4  \n",
       "5                 23.5  \n",
       "49                20.8  \n",
       "\n",
       "[4 rows x 21 columns]"
      ]
     },
     "execution_count": 91,
     "metadata": {},
     "output_type": "execute_result"
    }
   ],
   "source": [
    "states_of_interest.sort_values('2018_sat_total')"
   ]
  },
  {
   "cell_type": "code",
   "execution_count": 92,
   "metadata": {
    "scrolled": true
   },
   "outputs": [
    {
     "data": {
      "text/html": [
       "<div>\n",
       "<style scoped>\n",
       "    .dataframe tbody tr th:only-of-type {\n",
       "        vertical-align: middle;\n",
       "    }\n",
       "\n",
       "    .dataframe tbody tr th {\n",
       "        vertical-align: top;\n",
       "    }\n",
       "\n",
       "    .dataframe thead th {\n",
       "        text-align: right;\n",
       "    }\n",
       "</style>\n",
       "<table border=\"1\" class=\"dataframe\">\n",
       "  <thead>\n",
       "    <tr style=\"text-align: right;\">\n",
       "      <th></th>\n",
       "      <th>state</th>\n",
       "      <th>2017_sat_participation</th>\n",
       "      <th>2018_sat_participation</th>\n",
       "      <th>2017_act_participation</th>\n",
       "      <th>2018_act_participation</th>\n",
       "      <th>2017_sat_total</th>\n",
       "      <th>2018_sat_total</th>\n",
       "      <th>2017_act_composite</th>\n",
       "      <th>2018_act_composite</th>\n",
       "    </tr>\n",
       "  </thead>\n",
       "  <tbody>\n",
       "    <tr>\n",
       "      <th>5</th>\n",
       "      <td>Colorado</td>\n",
       "      <td>11.0</td>\n",
       "      <td>100.0</td>\n",
       "      <td>100.0</td>\n",
       "      <td>30.0</td>\n",
       "      <td>1201</td>\n",
       "      <td>1025</td>\n",
       "      <td>20.8</td>\n",
       "      <td>23.5</td>\n",
       "    </tr>\n",
       "    <tr>\n",
       "      <th>13</th>\n",
       "      <td>Illinois</td>\n",
       "      <td>9.0</td>\n",
       "      <td>99.0</td>\n",
       "      <td>93.0</td>\n",
       "      <td>43.0</td>\n",
       "      <td>1115</td>\n",
       "      <td>1019</td>\n",
       "      <td>21.4</td>\n",
       "      <td>23.4</td>\n",
       "    </tr>\n",
       "    <tr>\n",
       "      <th>44</th>\n",
       "      <td>Utah</td>\n",
       "      <td>3.0</td>\n",
       "      <td>4.0</td>\n",
       "      <td>100.0</td>\n",
       "      <td>100.0</td>\n",
       "      <td>1238</td>\n",
       "      <td>1010</td>\n",
       "      <td>20.3</td>\n",
       "      <td>20.5</td>\n",
       "    </tr>\n",
       "    <tr>\n",
       "      <th>49</th>\n",
       "      <td>Wisconsin</td>\n",
       "      <td>3.0</td>\n",
       "      <td>3.0</td>\n",
       "      <td>100.0</td>\n",
       "      <td>100.0</td>\n",
       "      <td>1291</td>\n",
       "      <td>1294</td>\n",
       "      <td>20.5</td>\n",
       "      <td>20.8</td>\n",
       "    </tr>\n",
       "  </tbody>\n",
       "</table>\n",
       "</div>"
      ],
      "text/plain": [
       "        state  2017_sat_participation  2018_sat_participation  \\\n",
       "5    Colorado                    11.0                   100.0   \n",
       "13   Illinois                     9.0                    99.0   \n",
       "44       Utah                     3.0                     4.0   \n",
       "49  Wisconsin                     3.0                     3.0   \n",
       "\n",
       "    2017_act_participation  2018_act_participation  2017_sat_total  \\\n",
       "5                    100.0                    30.0            1201   \n",
       "13                    93.0                    43.0            1115   \n",
       "44                   100.0                   100.0            1238   \n",
       "49                   100.0                   100.0            1291   \n",
       "\n",
       "    2018_sat_total  2017_act_composite  2018_act_composite  \n",
       "5             1025                20.8                23.5  \n",
       "13            1019                21.4                23.4  \n",
       "44            1010                20.3                20.5  \n",
       "49            1294                20.5                20.8  "
      ]
     },
     "execution_count": 92,
     "metadata": {},
     "output_type": "execute_result"
    }
   ],
   "source": [
    "#States of highest interest for conclusions and recommendations, filtered for specific categories\n",
    "\n",
    "states_of_interest[['state','2017_sat_participation','2018_sat_participation',\n",
    "                   '2017_act_participation','2018_act_participation',\n",
    "                    '2017_sat_total','2018_sat_total',\n",
    "                    '2017_act_composite','2018_act_composite']]"
   ]
  },
  {
   "cell_type": "code",
   "execution_count": 93,
   "metadata": {
    "scrolled": true
   },
   "outputs": [
    {
     "data": {
      "text/html": [
       "<div>\n",
       "<style scoped>\n",
       "    .dataframe tbody tr th:only-of-type {\n",
       "        vertical-align: middle;\n",
       "    }\n",
       "\n",
       "    .dataframe tbody tr th {\n",
       "        vertical-align: top;\n",
       "    }\n",
       "\n",
       "    .dataframe thead th {\n",
       "        text-align: right;\n",
       "    }\n",
       "</style>\n",
       "<table border=\"1\" class=\"dataframe\">\n",
       "  <thead>\n",
       "    <tr style=\"text-align: right;\">\n",
       "      <th></th>\n",
       "      <th>state</th>\n",
       "      <th>2017_sat_participation</th>\n",
       "      <th>2017_sat_erw</th>\n",
       "      <th>2017_sat_math</th>\n",
       "      <th>2017_sat_total</th>\n",
       "      <th>2017_act_participation</th>\n",
       "      <th>2017_act_english</th>\n",
       "      <th>2017_act_math</th>\n",
       "      <th>2017_act_reading</th>\n",
       "      <th>2017_act_science</th>\n",
       "      <th>...</th>\n",
       "      <th>2018_sat_participation</th>\n",
       "      <th>2018_sat_erw</th>\n",
       "      <th>2018_sat_math</th>\n",
       "      <th>2018_sat_total</th>\n",
       "      <th>2018_act_participation</th>\n",
       "      <th>2018_act_english</th>\n",
       "      <th>2018_act_math</th>\n",
       "      <th>2018_act_reading</th>\n",
       "      <th>2018_act_science</th>\n",
       "      <th>2018_act_composite</th>\n",
       "    </tr>\n",
       "  </thead>\n",
       "  <tbody>\n",
       "    <tr>\n",
       "      <th>49</th>\n",
       "      <td>Wisconsin</td>\n",
       "      <td>3.0</td>\n",
       "      <td>642</td>\n",
       "      <td>649</td>\n",
       "      <td>1291</td>\n",
       "      <td>100.0</td>\n",
       "      <td>19.7</td>\n",
       "      <td>20.4</td>\n",
       "      <td>20.6</td>\n",
       "      <td>20.9</td>\n",
       "      <td>...</td>\n",
       "      <td>3.0</td>\n",
       "      <td>641</td>\n",
       "      <td>653</td>\n",
       "      <td>1294</td>\n",
       "      <td>100.0</td>\n",
       "      <td>20.5</td>\n",
       "      <td>19.8</td>\n",
       "      <td>20.3</td>\n",
       "      <td>20.6</td>\n",
       "      <td>20.8</td>\n",
       "    </tr>\n",
       "  </tbody>\n",
       "</table>\n",
       "<p>1 rows × 21 columns</p>\n",
       "</div>"
      ],
      "text/plain": [
       "        state  2017_sat_participation  2017_sat_erw  2017_sat_math  \\\n",
       "49  Wisconsin                     3.0           642            649   \n",
       "\n",
       "    2017_sat_total  2017_act_participation  2017_act_english  2017_act_math  \\\n",
       "49            1291                   100.0              19.7           20.4   \n",
       "\n",
       "    2017_act_reading  2017_act_science  ...  2018_sat_participation  \\\n",
       "49              20.6              20.9  ...                     3.0   \n",
       "\n",
       "    2018_sat_erw  2018_sat_math  2018_sat_total  2018_act_participation  \\\n",
       "49           641            653            1294                   100.0   \n",
       "\n",
       "    2018_act_english  2018_act_math  2018_act_reading  2018_act_science  \\\n",
       "49              20.5           19.8              20.3              20.6   \n",
       "\n",
       "    2018_act_composite  \n",
       "49                20.8  \n",
       "\n",
       "[1 rows x 21 columns]"
      ]
     },
     "execution_count": 93,
     "metadata": {},
     "output_type": "execute_result"
    }
   ],
   "source": [
    "#Within that group, Wisconsin is the only state who's SAT scores increased from 2017 to 2018\n",
    "\n",
    "states_of_interest[states_of_interest['2018_sat_total'] > states_of_interest['2017_sat_total']]"
   ]
  },
  {
   "cell_type": "code",
   "execution_count": 94,
   "metadata": {
    "scrolled": false
   },
   "outputs": [
    {
     "data": {
      "text/plain": [
       "2017_sat_total        1126.098039\n",
       "2018_sat_total        1120.019608\n",
       "2017_act_composite      21.519608\n",
       "2018_act_composite      21.345098\n",
       "dtype: float64"
      ]
     },
     "execution_count": 94,
     "metadata": {},
     "output_type": "execute_result"
    }
   ],
   "source": [
    "#Mean total/composite test scores across year and exam\n",
    "\n",
    "final_test_scores[['2017_sat_total','2018_sat_total','2017_act_composite','2018_act_composite']].mean()"
   ]
  },
  {
   "cell_type": "code",
   "execution_count": 95,
   "metadata": {
    "scrolled": true
   },
   "outputs": [
    {
     "data": {
      "text/plain": [
       "2017_sat_participation    39.803922\n",
       "2018_sat_participation    45.745098\n",
       "2017_act_participation    65.254902\n",
       "2018_act_participation    60.085106\n",
       "dtype: float64"
      ]
     },
     "execution_count": 95,
     "metadata": {},
     "output_type": "execute_result"
    }
   ],
   "source": [
    "#Mean rate of participation across states for each exam \n",
    "\n",
    "final_test_scores[['2017_sat_participation','2018_sat_participation','2017_act_participation','2018_act_participation']].mean()"
   ]
  },
  {
   "cell_type": "code",
   "execution_count": 96,
   "metadata": {},
   "outputs": [
    {
     "data": {
      "text/plain": [
       "100.0    14\n",
       "24.0      3\n",
       "66.0      2\n",
       "27.0      2\n",
       "32.0      2\n",
       "Name: 2018_act_participation, dtype: int64"
      ]
     },
     "execution_count": 96,
     "metadata": {},
     "output_type": "execute_result"
    }
   ],
   "source": [
    "#How many states had full ACT participation in 2018?\n",
    "\n",
    "final_test_scores['2018_act_participation'].value_counts().head()"
   ]
  },
  {
   "cell_type": "code",
   "execution_count": 97,
   "metadata": {
    "scrolled": true
   },
   "outputs": [
    {
     "data": {
      "text/html": [
       "<div>\n",
       "<style scoped>\n",
       "    .dataframe tbody tr th:only-of-type {\n",
       "        vertical-align: middle;\n",
       "    }\n",
       "\n",
       "    .dataframe tbody tr th {\n",
       "        vertical-align: top;\n",
       "    }\n",
       "\n",
       "    .dataframe thead th {\n",
       "        text-align: right;\n",
       "    }\n",
       "</style>\n",
       "<table border=\"1\" class=\"dataframe\">\n",
       "  <thead>\n",
       "    <tr style=\"text-align: right;\">\n",
       "      <th></th>\n",
       "      <th>state</th>\n",
       "      <th>2017_sat_participation</th>\n",
       "      <th>2017_sat_erw</th>\n",
       "      <th>2017_sat_math</th>\n",
       "      <th>2017_sat_total</th>\n",
       "      <th>2017_act_participation</th>\n",
       "      <th>2017_act_english</th>\n",
       "      <th>2017_act_math</th>\n",
       "      <th>2017_act_reading</th>\n",
       "      <th>2017_act_science</th>\n",
       "      <th>...</th>\n",
       "      <th>2018_sat_participation</th>\n",
       "      <th>2018_sat_erw</th>\n",
       "      <th>2018_sat_math</th>\n",
       "      <th>2018_sat_total</th>\n",
       "      <th>2018_act_participation</th>\n",
       "      <th>2018_act_english</th>\n",
       "      <th>2018_act_math</th>\n",
       "      <th>2018_act_reading</th>\n",
       "      <th>2018_act_science</th>\n",
       "      <th>2018_act_composite</th>\n",
       "    </tr>\n",
       "  </thead>\n",
       "  <tbody>\n",
       "    <tr>\n",
       "      <th>0</th>\n",
       "      <td>Alabama</td>\n",
       "      <td>5.0</td>\n",
       "      <td>593</td>\n",
       "      <td>572</td>\n",
       "      <td>1165</td>\n",
       "      <td>100.0</td>\n",
       "      <td>18.9</td>\n",
       "      <td>18.4</td>\n",
       "      <td>19.7</td>\n",
       "      <td>19.4</td>\n",
       "      <td>...</td>\n",
       "      <td>6.0</td>\n",
       "      <td>595</td>\n",
       "      <td>571</td>\n",
       "      <td>1166</td>\n",
       "      <td>100.0</td>\n",
       "      <td>19.1</td>\n",
       "      <td>18.9</td>\n",
       "      <td>18.3</td>\n",
       "      <td>19.6</td>\n",
       "      <td>19.0</td>\n",
       "    </tr>\n",
       "    <tr>\n",
       "      <th>17</th>\n",
       "      <td>Kentucky</td>\n",
       "      <td>4.0</td>\n",
       "      <td>631</td>\n",
       "      <td>616</td>\n",
       "      <td>1247</td>\n",
       "      <td>100.0</td>\n",
       "      <td>19.6</td>\n",
       "      <td>19.4</td>\n",
       "      <td>20.5</td>\n",
       "      <td>20.1</td>\n",
       "      <td>...</td>\n",
       "      <td>4.0</td>\n",
       "      <td>630</td>\n",
       "      <td>618</td>\n",
       "      <td>1248</td>\n",
       "      <td>100.0</td>\n",
       "      <td>20.2</td>\n",
       "      <td>19.9</td>\n",
       "      <td>19.7</td>\n",
       "      <td>20.8</td>\n",
       "      <td>20.1</td>\n",
       "    </tr>\n",
       "    <tr>\n",
       "      <th>49</th>\n",
       "      <td>Wisconsin</td>\n",
       "      <td>3.0</td>\n",
       "      <td>642</td>\n",
       "      <td>649</td>\n",
       "      <td>1291</td>\n",
       "      <td>100.0</td>\n",
       "      <td>19.7</td>\n",
       "      <td>20.4</td>\n",
       "      <td>20.6</td>\n",
       "      <td>20.9</td>\n",
       "      <td>...</td>\n",
       "      <td>3.0</td>\n",
       "      <td>641</td>\n",
       "      <td>653</td>\n",
       "      <td>1294</td>\n",
       "      <td>100.0</td>\n",
       "      <td>20.5</td>\n",
       "      <td>19.8</td>\n",
       "      <td>20.3</td>\n",
       "      <td>20.6</td>\n",
       "      <td>20.8</td>\n",
       "    </tr>\n",
       "    <tr>\n",
       "      <th>44</th>\n",
       "      <td>Utah</td>\n",
       "      <td>3.0</td>\n",
       "      <td>624</td>\n",
       "      <td>614</td>\n",
       "      <td>1238</td>\n",
       "      <td>100.0</td>\n",
       "      <td>19.5</td>\n",
       "      <td>19.9</td>\n",
       "      <td>20.8</td>\n",
       "      <td>20.6</td>\n",
       "      <td>...</td>\n",
       "      <td>4.0</td>\n",
       "      <td>480</td>\n",
       "      <td>530</td>\n",
       "      <td>1010</td>\n",
       "      <td>100.0</td>\n",
       "      <td>20.4</td>\n",
       "      <td>19.7</td>\n",
       "      <td>19.9</td>\n",
       "      <td>20.9</td>\n",
       "      <td>20.5</td>\n",
       "    </tr>\n",
       "    <tr>\n",
       "      <th>42</th>\n",
       "      <td>Tennessee</td>\n",
       "      <td>5.0</td>\n",
       "      <td>623</td>\n",
       "      <td>604</td>\n",
       "      <td>1228</td>\n",
       "      <td>100.0</td>\n",
       "      <td>19.5</td>\n",
       "      <td>19.2</td>\n",
       "      <td>20.1</td>\n",
       "      <td>19.9</td>\n",
       "      <td>...</td>\n",
       "      <td>6.0</td>\n",
       "      <td>624</td>\n",
       "      <td>607</td>\n",
       "      <td>1231</td>\n",
       "      <td>100.0</td>\n",
       "      <td>19.6</td>\n",
       "      <td>19.4</td>\n",
       "      <td>19.1</td>\n",
       "      <td>19.9</td>\n",
       "      <td>19.6</td>\n",
       "    </tr>\n",
       "    <tr>\n",
       "      <th>40</th>\n",
       "      <td>South Carolina</td>\n",
       "      <td>50.0</td>\n",
       "      <td>543</td>\n",
       "      <td>521</td>\n",
       "      <td>1064</td>\n",
       "      <td>100.0</td>\n",
       "      <td>17.5</td>\n",
       "      <td>18.6</td>\n",
       "      <td>19.1</td>\n",
       "      <td>18.9</td>\n",
       "      <td>...</td>\n",
       "      <td>55.0</td>\n",
       "      <td>547</td>\n",
       "      <td>523</td>\n",
       "      <td>1070</td>\n",
       "      <td>100.0</td>\n",
       "      <td>18.3</td>\n",
       "      <td>17.3</td>\n",
       "      <td>18.2</td>\n",
       "      <td>18.6</td>\n",
       "      <td>18.5</td>\n",
       "    </tr>\n",
       "    <tr>\n",
       "      <th>35</th>\n",
       "      <td>Ohio</td>\n",
       "      <td>12.0</td>\n",
       "      <td>578</td>\n",
       "      <td>570</td>\n",
       "      <td>1149</td>\n",
       "      <td>75.0</td>\n",
       "      <td>21.2</td>\n",
       "      <td>21.6</td>\n",
       "      <td>22.5</td>\n",
       "      <td>22.0</td>\n",
       "      <td>...</td>\n",
       "      <td>18.0</td>\n",
       "      <td>552</td>\n",
       "      <td>547</td>\n",
       "      <td>1099</td>\n",
       "      <td>100.0</td>\n",
       "      <td>20.3</td>\n",
       "      <td>19.3</td>\n",
       "      <td>20.3</td>\n",
       "      <td>20.8</td>\n",
       "      <td>20.4</td>\n",
       "    </tr>\n",
       "    <tr>\n",
       "      <th>28</th>\n",
       "      <td>Nevada</td>\n",
       "      <td>26.0</td>\n",
       "      <td>563</td>\n",
       "      <td>553</td>\n",
       "      <td>1116</td>\n",
       "      <td>100.0</td>\n",
       "      <td>16.3</td>\n",
       "      <td>18.0</td>\n",
       "      <td>18.1</td>\n",
       "      <td>18.2</td>\n",
       "      <td>...</td>\n",
       "      <td>23.0</td>\n",
       "      <td>574</td>\n",
       "      <td>566</td>\n",
       "      <td>1140</td>\n",
       "      <td>100.0</td>\n",
       "      <td>17.7</td>\n",
       "      <td>16.6</td>\n",
       "      <td>17.8</td>\n",
       "      <td>18.0</td>\n",
       "      <td>17.9</td>\n",
       "    </tr>\n",
       "    <tr>\n",
       "      <th>27</th>\n",
       "      <td>Nebraska</td>\n",
       "      <td>3.0</td>\n",
       "      <td>629</td>\n",
       "      <td>625</td>\n",
       "      <td>1253</td>\n",
       "      <td>84.0</td>\n",
       "      <td>20.9</td>\n",
       "      <td>20.9</td>\n",
       "      <td>21.9</td>\n",
       "      <td>21.5</td>\n",
       "      <td>...</td>\n",
       "      <td>3.0</td>\n",
       "      <td>629</td>\n",
       "      <td>623</td>\n",
       "      <td>1252</td>\n",
       "      <td>100.0</td>\n",
       "      <td>20.1</td>\n",
       "      <td>19.4</td>\n",
       "      <td>19.8</td>\n",
       "      <td>20.4</td>\n",
       "      <td>20.1</td>\n",
       "    </tr>\n",
       "    <tr>\n",
       "      <th>26</th>\n",
       "      <td>Montana</td>\n",
       "      <td>10.0</td>\n",
       "      <td>605</td>\n",
       "      <td>591</td>\n",
       "      <td>1196</td>\n",
       "      <td>100.0</td>\n",
       "      <td>19.0</td>\n",
       "      <td>20.2</td>\n",
       "      <td>21.0</td>\n",
       "      <td>20.5</td>\n",
       "      <td>...</td>\n",
       "      <td>10.0</td>\n",
       "      <td>606</td>\n",
       "      <td>592</td>\n",
       "      <td>1198</td>\n",
       "      <td>100.0</td>\n",
       "      <td>20.0</td>\n",
       "      <td>18.7</td>\n",
       "      <td>19.9</td>\n",
       "      <td>20.7</td>\n",
       "      <td>20.0</td>\n",
       "    </tr>\n",
       "    <tr>\n",
       "      <th>25</th>\n",
       "      <td>Missouri</td>\n",
       "      <td>3.0</td>\n",
       "      <td>640</td>\n",
       "      <td>631</td>\n",
       "      <td>1271</td>\n",
       "      <td>100.0</td>\n",
       "      <td>19.8</td>\n",
       "      <td>19.9</td>\n",
       "      <td>20.8</td>\n",
       "      <td>20.5</td>\n",
       "      <td>...</td>\n",
       "      <td>4.0</td>\n",
       "      <td>633</td>\n",
       "      <td>629</td>\n",
       "      <td>1262</td>\n",
       "      <td>100.0</td>\n",
       "      <td>20.0</td>\n",
       "      <td>19.5</td>\n",
       "      <td>19.7</td>\n",
       "      <td>20.5</td>\n",
       "      <td>20.0</td>\n",
       "    </tr>\n",
       "    <tr>\n",
       "      <th>24</th>\n",
       "      <td>Mississippi</td>\n",
       "      <td>2.0</td>\n",
       "      <td>634</td>\n",
       "      <td>607</td>\n",
       "      <td>1242</td>\n",
       "      <td>100.0</td>\n",
       "      <td>18.2</td>\n",
       "      <td>18.1</td>\n",
       "      <td>18.8</td>\n",
       "      <td>18.8</td>\n",
       "      <td>...</td>\n",
       "      <td>3.0</td>\n",
       "      <td>630</td>\n",
       "      <td>606</td>\n",
       "      <td>1236</td>\n",
       "      <td>100.0</td>\n",
       "      <td>18.6</td>\n",
       "      <td>18.2</td>\n",
       "      <td>18.1</td>\n",
       "      <td>18.9</td>\n",
       "      <td>18.6</td>\n",
       "    </tr>\n",
       "    <tr>\n",
       "      <th>50</th>\n",
       "      <td>Wyoming</td>\n",
       "      <td>3.0</td>\n",
       "      <td>626</td>\n",
       "      <td>604</td>\n",
       "      <td>1230</td>\n",
       "      <td>100.0</td>\n",
       "      <td>19.4</td>\n",
       "      <td>19.8</td>\n",
       "      <td>20.8</td>\n",
       "      <td>20.6</td>\n",
       "      <td>...</td>\n",
       "      <td>3.0</td>\n",
       "      <td>633</td>\n",
       "      <td>625</td>\n",
       "      <td>1257</td>\n",
       "      <td>100.0</td>\n",
       "      <td>20.0</td>\n",
       "      <td>19.0</td>\n",
       "      <td>19.7</td>\n",
       "      <td>20.6</td>\n",
       "      <td>20.3</td>\n",
       "    </tr>\n",
       "    <tr>\n",
       "      <th>3</th>\n",
       "      <td>Arkansas</td>\n",
       "      <td>3.0</td>\n",
       "      <td>614</td>\n",
       "      <td>594</td>\n",
       "      <td>1208</td>\n",
       "      <td>100.0</td>\n",
       "      <td>18.9</td>\n",
       "      <td>19.0</td>\n",
       "      <td>19.7</td>\n",
       "      <td>19.5</td>\n",
       "      <td>...</td>\n",
       "      <td>5.0</td>\n",
       "      <td>592</td>\n",
       "      <td>576</td>\n",
       "      <td>1169</td>\n",
       "      <td>100.0</td>\n",
       "      <td>19.4</td>\n",
       "      <td>19.1</td>\n",
       "      <td>18.9</td>\n",
       "      <td>19.7</td>\n",
       "      <td>19.4</td>\n",
       "    </tr>\n",
       "    <tr>\n",
       "      <th>23</th>\n",
       "      <td>Minnesota</td>\n",
       "      <td>3.0</td>\n",
       "      <td>644</td>\n",
       "      <td>651</td>\n",
       "      <td>1295</td>\n",
       "      <td>100.0</td>\n",
       "      <td>20.4</td>\n",
       "      <td>21.5</td>\n",
       "      <td>21.8</td>\n",
       "      <td>21.6</td>\n",
       "      <td>...</td>\n",
       "      <td>4.0</td>\n",
       "      <td>643</td>\n",
       "      <td>655</td>\n",
       "      <td>1298</td>\n",
       "      <td>99.0</td>\n",
       "      <td>21.3</td>\n",
       "      <td>20.2</td>\n",
       "      <td>21.4</td>\n",
       "      <td>21.7</td>\n",
       "      <td>21.4</td>\n",
       "    </tr>\n",
       "    <tr>\n",
       "      <th>34</th>\n",
       "      <td>North Dakota</td>\n",
       "      <td>2.0</td>\n",
       "      <td>635</td>\n",
       "      <td>621</td>\n",
       "      <td>1256</td>\n",
       "      <td>98.0</td>\n",
       "      <td>19.0</td>\n",
       "      <td>20.4</td>\n",
       "      <td>20.5</td>\n",
       "      <td>20.6</td>\n",
       "      <td>...</td>\n",
       "      <td>2.0</td>\n",
       "      <td>640</td>\n",
       "      <td>643</td>\n",
       "      <td>1283</td>\n",
       "      <td>98.0</td>\n",
       "      <td>20.3</td>\n",
       "      <td>19.1</td>\n",
       "      <td>20.3</td>\n",
       "      <td>20.7</td>\n",
       "      <td>20.5</td>\n",
       "    </tr>\n",
       "    <tr>\n",
       "      <th>11</th>\n",
       "      <td>Hawaii</td>\n",
       "      <td>55.0</td>\n",
       "      <td>544</td>\n",
       "      <td>541</td>\n",
       "      <td>1085</td>\n",
       "      <td>90.0</td>\n",
       "      <td>17.8</td>\n",
       "      <td>19.2</td>\n",
       "      <td>19.2</td>\n",
       "      <td>19.3</td>\n",
       "      <td>...</td>\n",
       "      <td>56.0</td>\n",
       "      <td>480</td>\n",
       "      <td>530</td>\n",
       "      <td>1010</td>\n",
       "      <td>89.0</td>\n",
       "      <td>18.9</td>\n",
       "      <td>18.2</td>\n",
       "      <td>19.0</td>\n",
       "      <td>19.1</td>\n",
       "      <td>19.0</td>\n",
       "    </tr>\n",
       "    <tr>\n",
       "      <th>41</th>\n",
       "      <td>South Dakota</td>\n",
       "      <td>3.0</td>\n",
       "      <td>612</td>\n",
       "      <td>603</td>\n",
       "      <td>1216</td>\n",
       "      <td>80.0</td>\n",
       "      <td>20.7</td>\n",
       "      <td>21.5</td>\n",
       "      <td>22.3</td>\n",
       "      <td>22.0</td>\n",
       "      <td>...</td>\n",
       "      <td>3.0</td>\n",
       "      <td>622</td>\n",
       "      <td>618</td>\n",
       "      <td>1240</td>\n",
       "      <td>77.0</td>\n",
       "      <td>21.9</td>\n",
       "      <td>20.8</td>\n",
       "      <td>21.6</td>\n",
       "      <td>22.4</td>\n",
       "      <td>22.2</td>\n",
       "    </tr>\n",
       "    <tr>\n",
       "      <th>16</th>\n",
       "      <td>Kansas</td>\n",
       "      <td>4.0</td>\n",
       "      <td>632</td>\n",
       "      <td>628</td>\n",
       "      <td>1260</td>\n",
       "      <td>73.0</td>\n",
       "      <td>21.1</td>\n",
       "      <td>21.3</td>\n",
       "      <td>22.3</td>\n",
       "      <td>21.7</td>\n",
       "      <td>...</td>\n",
       "      <td>4.0</td>\n",
       "      <td>633</td>\n",
       "      <td>631</td>\n",
       "      <td>1265</td>\n",
       "      <td>71.0</td>\n",
       "      <td>21.6</td>\n",
       "      <td>21.0</td>\n",
       "      <td>21.1</td>\n",
       "      <td>22.3</td>\n",
       "      <td>21.5</td>\n",
       "    </tr>\n",
       "    <tr>\n",
       "      <th>15</th>\n",
       "      <td>Iowa</td>\n",
       "      <td>2.0</td>\n",
       "      <td>641</td>\n",
       "      <td>635</td>\n",
       "      <td>1275</td>\n",
       "      <td>67.0</td>\n",
       "      <td>21.2</td>\n",
       "      <td>21.3</td>\n",
       "      <td>22.6</td>\n",
       "      <td>22.1</td>\n",
       "      <td>...</td>\n",
       "      <td>3.0</td>\n",
       "      <td>634</td>\n",
       "      <td>631</td>\n",
       "      <td>1265</td>\n",
       "      <td>68.0</td>\n",
       "      <td>21.8</td>\n",
       "      <td>21.0</td>\n",
       "      <td>21.2</td>\n",
       "      <td>22.5</td>\n",
       "      <td>22.0</td>\n",
       "    </tr>\n",
       "  </tbody>\n",
       "</table>\n",
       "<p>20 rows × 21 columns</p>\n",
       "</div>"
      ],
      "text/plain": [
       "             state  2017_sat_participation  2017_sat_erw  2017_sat_math  \\\n",
       "0          Alabama                     5.0           593            572   \n",
       "17        Kentucky                     4.0           631            616   \n",
       "49       Wisconsin                     3.0           642            649   \n",
       "44            Utah                     3.0           624            614   \n",
       "42       Tennessee                     5.0           623            604   \n",
       "40  South Carolina                    50.0           543            521   \n",
       "35            Ohio                    12.0           578            570   \n",
       "28          Nevada                    26.0           563            553   \n",
       "27        Nebraska                     3.0           629            625   \n",
       "26         Montana                    10.0           605            591   \n",
       "25        Missouri                     3.0           640            631   \n",
       "24     Mississippi                     2.0           634            607   \n",
       "50         Wyoming                     3.0           626            604   \n",
       "3         Arkansas                     3.0           614            594   \n",
       "23       Minnesota                     3.0           644            651   \n",
       "34    North Dakota                     2.0           635            621   \n",
       "11          Hawaii                    55.0           544            541   \n",
       "41    South Dakota                     3.0           612            603   \n",
       "16          Kansas                     4.0           632            628   \n",
       "15            Iowa                     2.0           641            635   \n",
       "\n",
       "    2017_sat_total  2017_act_participation  2017_act_english  2017_act_math  \\\n",
       "0             1165                   100.0              18.9           18.4   \n",
       "17            1247                   100.0              19.6           19.4   \n",
       "49            1291                   100.0              19.7           20.4   \n",
       "44            1238                   100.0              19.5           19.9   \n",
       "42            1228                   100.0              19.5           19.2   \n",
       "40            1064                   100.0              17.5           18.6   \n",
       "35            1149                    75.0              21.2           21.6   \n",
       "28            1116                   100.0              16.3           18.0   \n",
       "27            1253                    84.0              20.9           20.9   \n",
       "26            1196                   100.0              19.0           20.2   \n",
       "25            1271                   100.0              19.8           19.9   \n",
       "24            1242                   100.0              18.2           18.1   \n",
       "50            1230                   100.0              19.4           19.8   \n",
       "3             1208                   100.0              18.9           19.0   \n",
       "23            1295                   100.0              20.4           21.5   \n",
       "34            1256                    98.0              19.0           20.4   \n",
       "11            1085                    90.0              17.8           19.2   \n",
       "41            1216                    80.0              20.7           21.5   \n",
       "16            1260                    73.0              21.1           21.3   \n",
       "15            1275                    67.0              21.2           21.3   \n",
       "\n",
       "    2017_act_reading  2017_act_science  ...  2018_sat_participation  \\\n",
       "0               19.7              19.4  ...                     6.0   \n",
       "17              20.5              20.1  ...                     4.0   \n",
       "49              20.6              20.9  ...                     3.0   \n",
       "44              20.8              20.6  ...                     4.0   \n",
       "42              20.1              19.9  ...                     6.0   \n",
       "40              19.1              18.9  ...                    55.0   \n",
       "35              22.5              22.0  ...                    18.0   \n",
       "28              18.1              18.2  ...                    23.0   \n",
       "27              21.9              21.5  ...                     3.0   \n",
       "26              21.0              20.5  ...                    10.0   \n",
       "25              20.8              20.5  ...                     4.0   \n",
       "24              18.8              18.8  ...                     3.0   \n",
       "50              20.8              20.6  ...                     3.0   \n",
       "3               19.7              19.5  ...                     5.0   \n",
       "23              21.8              21.6  ...                     4.0   \n",
       "34              20.5              20.6  ...                     2.0   \n",
       "11              19.2              19.3  ...                    56.0   \n",
       "41              22.3              22.0  ...                     3.0   \n",
       "16              22.3              21.7  ...                     4.0   \n",
       "15              22.6              22.1  ...                     3.0   \n",
       "\n",
       "    2018_sat_erw  2018_sat_math  2018_sat_total  2018_act_participation  \\\n",
       "0            595            571            1166                   100.0   \n",
       "17           630            618            1248                   100.0   \n",
       "49           641            653            1294                   100.0   \n",
       "44           480            530            1010                   100.0   \n",
       "42           624            607            1231                   100.0   \n",
       "40           547            523            1070                   100.0   \n",
       "35           552            547            1099                   100.0   \n",
       "28           574            566            1140                   100.0   \n",
       "27           629            623            1252                   100.0   \n",
       "26           606            592            1198                   100.0   \n",
       "25           633            629            1262                   100.0   \n",
       "24           630            606            1236                   100.0   \n",
       "50           633            625            1257                   100.0   \n",
       "3            592            576            1169                   100.0   \n",
       "23           643            655            1298                    99.0   \n",
       "34           640            643            1283                    98.0   \n",
       "11           480            530            1010                    89.0   \n",
       "41           622            618            1240                    77.0   \n",
       "16           633            631            1265                    71.0   \n",
       "15           634            631            1265                    68.0   \n",
       "\n",
       "    2018_act_english  2018_act_math  2018_act_reading  2018_act_science  \\\n",
       "0               19.1           18.9              18.3              19.6   \n",
       "17              20.2           19.9              19.7              20.8   \n",
       "49              20.5           19.8              20.3              20.6   \n",
       "44              20.4           19.7              19.9              20.9   \n",
       "42              19.6           19.4              19.1              19.9   \n",
       "40              18.3           17.3              18.2              18.6   \n",
       "35              20.3           19.3              20.3              20.8   \n",
       "28              17.7           16.6              17.8              18.0   \n",
       "27              20.1           19.4              19.8              20.4   \n",
       "26              20.0           18.7              19.9              20.7   \n",
       "25              20.0           19.5              19.7              20.5   \n",
       "24              18.6           18.2              18.1              18.9   \n",
       "50              20.0           19.0              19.7              20.6   \n",
       "3               19.4           19.1              18.9              19.7   \n",
       "23              21.3           20.2              21.4              21.7   \n",
       "34              20.3           19.1              20.3              20.7   \n",
       "11              18.9           18.2              19.0              19.1   \n",
       "41              21.9           20.8              21.6              22.4   \n",
       "16              21.6           21.0              21.1              22.3   \n",
       "15              21.8           21.0              21.2              22.5   \n",
       "\n",
       "    2018_act_composite  \n",
       "0                 19.0  \n",
       "17                20.1  \n",
       "49                20.8  \n",
       "44                20.5  \n",
       "42                19.6  \n",
       "40                18.5  \n",
       "35                20.4  \n",
       "28                17.9  \n",
       "27                20.1  \n",
       "26                20.0  \n",
       "25                20.0  \n",
       "24                18.6  \n",
       "50                20.3  \n",
       "3                 19.4  \n",
       "23                21.4  \n",
       "34                20.5  \n",
       "11                19.0  \n",
       "41                22.2  \n",
       "16                21.5  \n",
       "15                22.0  \n",
       "\n",
       "[20 rows x 21 columns]"
      ]
     },
     "execution_count": 97,
     "metadata": {},
     "output_type": "execute_result"
    }
   ],
   "source": [
    "#Final re-examination of highest ACT Participation rates\n",
    "\n",
    "final_test_scores.sort_values('2018_act_participation', ascending = False).head(20)"
   ]
  },
  {
   "cell_type": "code",
   "execution_count": 98,
   "metadata": {
    "scrolled": true
   },
   "outputs": [
    {
     "data": {
      "text/html": [
       "<div>\n",
       "<style scoped>\n",
       "    .dataframe tbody tr th:only-of-type {\n",
       "        vertical-align: middle;\n",
       "    }\n",
       "\n",
       "    .dataframe tbody tr th {\n",
       "        vertical-align: top;\n",
       "    }\n",
       "\n",
       "    .dataframe thead th {\n",
       "        text-align: right;\n",
       "    }\n",
       "</style>\n",
       "<table border=\"1\" class=\"dataframe\">\n",
       "  <thead>\n",
       "    <tr style=\"text-align: right;\">\n",
       "      <th></th>\n",
       "      <th>state</th>\n",
       "      <th>2017_sat_participation</th>\n",
       "      <th>2017_sat_erw</th>\n",
       "      <th>2017_sat_math</th>\n",
       "      <th>2017_sat_total</th>\n",
       "      <th>2017_act_participation</th>\n",
       "      <th>2017_act_english</th>\n",
       "      <th>2017_act_math</th>\n",
       "      <th>2017_act_reading</th>\n",
       "      <th>2017_act_science</th>\n",
       "      <th>...</th>\n",
       "      <th>2018_sat_participation</th>\n",
       "      <th>2018_sat_erw</th>\n",
       "      <th>2018_sat_math</th>\n",
       "      <th>2018_sat_total</th>\n",
       "      <th>2018_act_participation</th>\n",
       "      <th>2018_act_english</th>\n",
       "      <th>2018_act_math</th>\n",
       "      <th>2018_act_reading</th>\n",
       "      <th>2018_act_science</th>\n",
       "      <th>2018_act_composite</th>\n",
       "    </tr>\n",
       "  </thead>\n",
       "  <tbody>\n",
       "    <tr>\n",
       "      <th>9</th>\n",
       "      <td>Florida</td>\n",
       "      <td>83.0</td>\n",
       "      <td>520</td>\n",
       "      <td>497</td>\n",
       "      <td>1017</td>\n",
       "      <td>73.0</td>\n",
       "      <td>19.0</td>\n",
       "      <td>19.4</td>\n",
       "      <td>21.0</td>\n",
       "      <td>19.4</td>\n",
       "      <td>...</td>\n",
       "      <td>56.0</td>\n",
       "      <td>550</td>\n",
       "      <td>549</td>\n",
       "      <td>1099</td>\n",
       "      <td>66.0</td>\n",
       "      <td>19.9</td>\n",
       "      <td>19.2</td>\n",
       "      <td>19.3</td>\n",
       "      <td>21.1</td>\n",
       "      <td>19.5</td>\n",
       "    </tr>\n",
       "    <tr>\n",
       "      <th>10</th>\n",
       "      <td>Georgia</td>\n",
       "      <td>61.0</td>\n",
       "      <td>535</td>\n",
       "      <td>515</td>\n",
       "      <td>1050</td>\n",
       "      <td>55.0</td>\n",
       "      <td>21.0</td>\n",
       "      <td>20.9</td>\n",
       "      <td>22.0</td>\n",
       "      <td>21.3</td>\n",
       "      <td>...</td>\n",
       "      <td>70.0</td>\n",
       "      <td>542</td>\n",
       "      <td>522</td>\n",
       "      <td>1064</td>\n",
       "      <td>53.0</td>\n",
       "      <td>21.4</td>\n",
       "      <td>20.9</td>\n",
       "      <td>20.7</td>\n",
       "      <td>21.2</td>\n",
       "      <td>21.4</td>\n",
       "    </tr>\n",
       "    <tr>\n",
       "      <th>11</th>\n",
       "      <td>Hawaii</td>\n",
       "      <td>55.0</td>\n",
       "      <td>544</td>\n",
       "      <td>541</td>\n",
       "      <td>1085</td>\n",
       "      <td>90.0</td>\n",
       "      <td>17.8</td>\n",
       "      <td>19.2</td>\n",
       "      <td>19.2</td>\n",
       "      <td>19.3</td>\n",
       "      <td>...</td>\n",
       "      <td>56.0</td>\n",
       "      <td>480</td>\n",
       "      <td>530</td>\n",
       "      <td>1010</td>\n",
       "      <td>89.0</td>\n",
       "      <td>18.9</td>\n",
       "      <td>18.2</td>\n",
       "      <td>19.0</td>\n",
       "      <td>19.1</td>\n",
       "      <td>19.0</td>\n",
       "    </tr>\n",
       "    <tr>\n",
       "      <th>40</th>\n",
       "      <td>South Carolina</td>\n",
       "      <td>50.0</td>\n",
       "      <td>543</td>\n",
       "      <td>521</td>\n",
       "      <td>1064</td>\n",
       "      <td>100.0</td>\n",
       "      <td>17.5</td>\n",
       "      <td>18.6</td>\n",
       "      <td>19.1</td>\n",
       "      <td>18.9</td>\n",
       "      <td>...</td>\n",
       "      <td>55.0</td>\n",
       "      <td>547</td>\n",
       "      <td>523</td>\n",
       "      <td>1070</td>\n",
       "      <td>100.0</td>\n",
       "      <td>18.3</td>\n",
       "      <td>17.3</td>\n",
       "      <td>18.2</td>\n",
       "      <td>18.6</td>\n",
       "      <td>18.5</td>\n",
       "    </tr>\n",
       "  </tbody>\n",
       "</table>\n",
       "<p>4 rows × 21 columns</p>\n",
       "</div>"
      ],
      "text/plain": [
       "             state  2017_sat_participation  2017_sat_erw  2017_sat_math  \\\n",
       "9          Florida                    83.0           520            497   \n",
       "10         Georgia                    61.0           535            515   \n",
       "11          Hawaii                    55.0           544            541   \n",
       "40  South Carolina                    50.0           543            521   \n",
       "\n",
       "    2017_sat_total  2017_act_participation  2017_act_english  2017_act_math  \\\n",
       "9             1017                    73.0              19.0           19.4   \n",
       "10            1050                    55.0              21.0           20.9   \n",
       "11            1085                    90.0              17.8           19.2   \n",
       "40            1064                   100.0              17.5           18.6   \n",
       "\n",
       "    2017_act_reading  2017_act_science  ...  2018_sat_participation  \\\n",
       "9               21.0              19.4  ...                    56.0   \n",
       "10              22.0              21.3  ...                    70.0   \n",
       "11              19.2              19.3  ...                    56.0   \n",
       "40              19.1              18.9  ...                    55.0   \n",
       "\n",
       "    2018_sat_erw  2018_sat_math  2018_sat_total  2018_act_participation  \\\n",
       "9            550            549            1099                    66.0   \n",
       "10           542            522            1064                    53.0   \n",
       "11           480            530            1010                    89.0   \n",
       "40           547            523            1070                   100.0   \n",
       "\n",
       "    2018_act_english  2018_act_math  2018_act_reading  2018_act_science  \\\n",
       "9               19.9           19.2              19.3              21.1   \n",
       "10              21.4           20.9              20.7              21.2   \n",
       "11              18.9           18.2              19.0              19.1   \n",
       "40              18.3           17.3              18.2              18.6   \n",
       "\n",
       "    2018_act_composite  \n",
       "9                 19.5  \n",
       "10                21.4  \n",
       "11                19.0  \n",
       "40                18.5  \n",
       "\n",
       "[4 rows x 21 columns]"
      ]
     },
     "execution_count": 98,
     "metadata": {},
     "output_type": "execute_result"
    }
   ],
   "source": [
    "#Finding states with strong participation in both states\n",
    "\n",
    "final_test_scores[(final_test_scores['2018_sat_participation'] >= 50) & (final_test_scores['2018_act_participation'] >= 50)]\n",
    "\n",
    "\n"
   ]
  },
  {
   "cell_type": "markdown",
   "metadata": {},
   "source": [
    "## Conclusions and Recommendations"
   ]
  },
  {
   "cell_type": "markdown",
   "metadata": {},
   "source": [
    "After conducting my analysis, there are two recommendations I can make to improve the status of the SAT exam.\n",
    "\n",
    "The strategy to increase participation in the SAT lies in catering to the goals of state education boards and legislatures in ACT stronghold states.  For example, while participation rates in both exams were largely the same between 2017 and 2018, two states jumped out as anomalies.  Colorado jumped from 11% participation to 100% participation, and Illinois jumped from 9% participation to 99% participation.  Upon further research, both states switched mandatory examination from the ACT to the SAT in 2018.  \n",
    "\n",
    "If we want more participants of the SAT nationwide, we must convert ACT strongholds.  There are still 16 states with full (98% or higher) participation in the ACT, so the governments of those states should be our targets.  I would start with Wisconsin (neighbor of Illinois), Utah (neighbor of Colorado).  Working with neighboring (and somewhat similar) states will allow us to more easily share resources and strategies.  In addition, I would take a closer look at Florida, who overall had a huge drop in students taking either exam.  There is an oppourtunity there to renew faith in the SAT in one of the largest states in the country.\n",
    "\n",
    "In tandem, we should be doing what we can to make it easier to prepare for the SAT.  Exam scores have dipped between 2017 and 2018, year over year, and while two years is a small sample size, it is something to continue monitoring.  Working with education boards in states that are still ACT strongholds (mostly in the south and the midwest), we should continue to develop customized strategies to make SAT test prep materials more accessible to students in their states, and then open those solutions up nationwide.  Although we have already begun to done so through the Kahn Academy online platform, there is clearly more to do to provide low income and rural populations quality test preparation materials.  \n",
    "  "
   ]
  }
 ],
 "metadata": {
  "anaconda-cloud": {},
  "kernelspec": {
   "display_name": "Python 3",
   "language": "python",
   "name": "python3"
  },
  "language_info": {
   "codemirror_mode": {
    "name": "ipython",
    "version": 3
   },
   "file_extension": ".py",
   "mimetype": "text/x-python",
   "name": "python",
   "nbconvert_exporter": "python",
   "pygments_lexer": "ipython3",
   "version": "3.7.4"
  }
 },
 "nbformat": 4,
 "nbformat_minor": 2
}
