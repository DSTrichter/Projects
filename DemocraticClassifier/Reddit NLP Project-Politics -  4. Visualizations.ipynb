{
 "cells": [
  {
   "cell_type": "markdown",
   "metadata": {},
   "source": [
    "# Additional Visualizations:\n",
    "## Logistic Regression Coefficients"
   ]
  },
  {
   "cell_type": "code",
   "execution_count": 1,
   "metadata": {},
   "outputs": [],
   "source": [
    "import pandas as pd\n",
    "import numpy as np\n",
    "import matplotlib.pyplot as plt\n",
    "import seaborn as sns\n",
    "\n",
    "%matplotlib inline"
   ]
  },
  {
   "cell_type": "markdown",
   "metadata": {},
   "source": [
    "#### Maximize DataFrame Display Columns"
   ]
  },
  {
   "cell_type": "code",
   "execution_count": 2,
   "metadata": {},
   "outputs": [],
   "source": [
    "#Remove the max column setting in pandas\n",
    "\n",
    "pd.options.display.max_columns = None\n",
    "pd.options.display.max_rows = None"
   ]
  },
  {
   "cell_type": "markdown",
   "metadata": {},
   "source": [
    "## Import .csv"
   ]
  },
  {
   "cell_type": "code",
   "execution_count": 3,
   "metadata": {},
   "outputs": [],
   "source": [
    "df = pd.read_csv('./datasets/coef_df.csv')"
   ]
  },
  {
   "cell_type": "code",
   "execution_count": 4,
   "metadata": {},
   "outputs": [],
   "source": [
    "df_noname = pd.read_csv('./datasets/coef_df_noname.csv')"
   ]
  },
  {
   "cell_type": "code",
   "execution_count": 5,
   "metadata": {},
   "outputs": [
    {
     "data": {
      "text/html": [
       "<div>\n",
       "<style scoped>\n",
       "    .dataframe tbody tr th:only-of-type {\n",
       "        vertical-align: middle;\n",
       "    }\n",
       "\n",
       "    .dataframe tbody tr th {\n",
       "        vertical-align: top;\n",
       "    }\n",
       "\n",
       "    .dataframe thead th {\n",
       "        text-align: right;\n",
       "    }\n",
       "</style>\n",
       "<table border=\"1\" class=\"dataframe\">\n",
       "  <thead>\n",
       "    <tr style=\"text-align: right;\">\n",
       "      <th></th>\n",
       "      <th>Feature</th>\n",
       "      <th>Buttigieg</th>\n",
       "      <th>Kamala</th>\n",
       "      <th>Sanders</th>\n",
       "      <th>Warren</th>\n",
       "    </tr>\n",
       "  </thead>\n",
       "  <tbody>\n",
       "    <tr>\n",
       "      <th>0</th>\n",
       "      <td>00</td>\n",
       "      <td>0.169368</td>\n",
       "      <td>-0.027229</td>\n",
       "      <td>-0.136188</td>\n",
       "      <td>-0.005951</td>\n",
       "    </tr>\n",
       "    <tr>\n",
       "      <th>1</th>\n",
       "      <td>00 pm</td>\n",
       "      <td>-0.087388</td>\n",
       "      <td>0.113303</td>\n",
       "      <td>-0.051171</td>\n",
       "      <td>0.025255</td>\n",
       "    </tr>\n",
       "    <tr>\n",
       "      <th>2</th>\n",
       "      <td>000</td>\n",
       "      <td>0.216389</td>\n",
       "      <td>0.024952</td>\n",
       "      <td>-0.277073</td>\n",
       "      <td>0.035732</td>\n",
       "    </tr>\n",
       "    <tr>\n",
       "      <th>3</th>\n",
       "      <td>000 000</td>\n",
       "      <td>0.064768</td>\n",
       "      <td>-0.033734</td>\n",
       "      <td>-0.002222</td>\n",
       "      <td>-0.028812</td>\n",
       "    </tr>\n",
       "    <tr>\n",
       "      <th>4</th>\n",
       "      <td>000 days</td>\n",
       "      <td>0.215160</td>\n",
       "      <td>-0.077562</td>\n",
       "      <td>-0.079416</td>\n",
       "      <td>-0.058183</td>\n",
       "    </tr>\n",
       "  </tbody>\n",
       "</table>\n",
       "</div>"
      ],
      "text/plain": [
       "    Feature  Buttigieg    Kamala   Sanders    Warren\n",
       "0        00   0.169368 -0.027229 -0.136188 -0.005951\n",
       "1     00 pm  -0.087388  0.113303 -0.051171  0.025255\n",
       "2       000   0.216389  0.024952 -0.277073  0.035732\n",
       "3   000 000   0.064768 -0.033734 -0.002222 -0.028812\n",
       "4  000 days   0.215160 -0.077562 -0.079416 -0.058183"
      ]
     },
     "execution_count": 5,
     "metadata": {},
     "output_type": "execute_result"
    }
   ],
   "source": [
    "df.head()"
   ]
  },
  {
   "cell_type": "markdown",
   "metadata": {},
   "source": [
    "## Pete Buttigieg"
   ]
  },
  {
   "cell_type": "markdown",
   "metadata": {},
   "source": [
    "#### Names included:"
   ]
  },
  {
   "cell_type": "code",
   "execution_count": 6,
   "metadata": {},
   "outputs": [],
   "source": [
    "#Set x and y for graphs where the log odds are greater than or equal to 1.  \n",
    "\n",
    "x = df[np.abs(df['Buttigieg']) >= 1]['Feature']\n",
    "y = df[np.exp(np.abs(df['Buttigieg'])) >= 1]['Buttigieg']"
   ]
  },
  {
   "cell_type": "code",
   "execution_count": 7,
   "metadata": {
    "scrolled": true
   },
   "outputs": [
    {
     "data": {
      "text/plain": [
       "<matplotlib.axes._subplots.AxesSubplot at 0x1a21a09908>"
      ]
     },
     "execution_count": 7,
     "metadata": {},
     "output_type": "execute_result"
    },
    {
     "data": {
      "image/png": "[encoded data removed]",
      "text/plain": [
       "<Figure size 1440x360 with 1 Axes>"
      ]
     },
     "metadata": {
      "needs_background": "light"
     },
     "output_type": "display_data"
    }
   ],
   "source": [
    "plt.figure(figsize = (20, 5))\n",
    "\n",
    "sns.barplot(np.abs(y), x)"
   ]
  },
  {
   "cell_type": "markdown",
   "metadata": {},
   "source": [
    "#### Names Not Included:"
   ]
  },
  {
   "cell_type": "code",
   "execution_count": 61,
   "metadata": {},
   "outputs": [
    {
     "name": "stderr",
     "output_type": "stream",
     "text": [
      "/Users/davidtrichter/anaconda3/envs/dsi/lib/python3.7/site-packages/ipykernel_launcher.py:3: UserWarning: Boolean Series key will be reindexed to match DataFrame index.\n",
      "  This is separate from the ipykernel package so we can avoid doing imports until\n"
     ]
    }
   ],
   "source": [
    "#Set x and y for graphs where the log odds are greater than or equal to 1.  \n",
    "\n",
    "x = df_noname.sort_values('Buttigieg')[np.abs(df_noname['Buttigieg']) >= 1]['Feature']\n",
    "y = df_noname[np.exp(np.abs(df_noname['Buttigieg'])) >= 1]['Buttigieg']"
   ]
  },
  {
   "cell_type": "code",
   "execution_count": 62,
   "metadata": {},
   "outputs": [
    {
     "data": {
      "text/plain": [
       "<matplotlib.axes._subplots.AxesSubplot at 0x1a2937f5c0>"
      ]
     },
     "execution_count": 62,
     "metadata": {},
     "output_type": "execute_result"
    },
    {
     "data": {
      "image/png": "[encoded data removed]",
      "text/plain": [
       "<Figure size 1440x576 with 1 Axes>"
      ]
     },
     "metadata": {
      "needs_background": "light"
     },
     "output_type": "display_data"
    }
   ],
   "source": [
    "plt.figure(figsize = (20, 8))\n",
    "\n",
    "sns.barplot(np.abs(y), x)"
   ]
  },
  {
   "cell_type": "markdown",
   "metadata": {},
   "source": [
    "### Top 20 Coefficients - Pete Buttigieg"
   ]
  },
  {
   "cell_type": "code",
   "execution_count": 57,
   "metadata": {},
   "outputs": [
    {
     "data": {
      "text/html": [
       "<div>\n",
       "<style scoped>\n",
       "    .dataframe tbody tr th:only-of-type {\n",
       "        vertical-align: middle;\n",
       "    }\n",
       "\n",
       "    .dataframe tbody tr th {\n",
       "        vertical-align: top;\n",
       "    }\n",
       "\n",
       "    .dataframe thead th {\n",
       "        text-align: right;\n",
       "    }\n",
       "</style>\n",
       "<table border=\"1\" class=\"dataframe\">\n",
       "  <thead>\n",
       "    <tr style=\"text-align: right;\">\n",
       "      <th></th>\n",
       "      <th>Feature</th>\n",
       "      <th>Buttigieg</th>\n",
       "      <th>Odds</th>\n",
       "    </tr>\n",
       "  </thead>\n",
       "  <tbody>\n",
       "    <tr>\n",
       "      <th>1391</th>\n",
       "      <td>chasten</td>\n",
       "      <td>2.509161</td>\n",
       "      <td>12.294614</td>\n",
       "    </tr>\n",
       "    <tr>\n",
       "      <th>821</th>\n",
       "      <td>bend</td>\n",
       "      <td>2.151193</td>\n",
       "      <td>8.595108</td>\n",
       "    </tr>\n",
       "    <tr>\n",
       "      <th>7044</th>\n",
       "      <td>south bend</td>\n",
       "      <td>2.151193</td>\n",
       "      <td>8.595108</td>\n",
       "    </tr>\n",
       "    <tr>\n",
       "      <th>7043</th>\n",
       "      <td>south</td>\n",
       "      <td>2.091728</td>\n",
       "      <td>8.098897</td>\n",
       "    </tr>\n",
       "    <tr>\n",
       "      <th>5642</th>\n",
       "      <td>police</td>\n",
       "      <td>1.924836</td>\n",
       "      <td>6.854024</td>\n",
       "    </tr>\n",
       "    <tr>\n",
       "      <th>6817</th>\n",
       "      <td>service</td>\n",
       "      <td>1.540572</td>\n",
       "      <td>4.667259</td>\n",
       "    </tr>\n",
       "    <tr>\n",
       "      <th>7668</th>\n",
       "      <td>tomorrow</td>\n",
       "      <td>1.469640</td>\n",
       "      <td>4.347670</td>\n",
       "    </tr>\n",
       "    <tr>\n",
       "      <th>2957</th>\n",
       "      <td>florida</td>\n",
       "      <td>1.410527</td>\n",
       "      <td>4.098114</td>\n",
       "    </tr>\n",
       "    <tr>\n",
       "      <th>6883</th>\n",
       "      <td>shooting</td>\n",
       "      <td>1.359742</td>\n",
       "      <td>3.895188</td>\n",
       "    </tr>\n",
       "    <tr>\n",
       "      <th>7465</th>\n",
       "      <td>team</td>\n",
       "      <td>1.329285</td>\n",
       "      <td>3.778342</td>\n",
       "    </tr>\n",
       "    <tr>\n",
       "      <th>3512</th>\n",
       "      <td>hire</td>\n",
       "      <td>1.326101</td>\n",
       "      <td>3.766330</td>\n",
       "    </tr>\n",
       "    <tr>\n",
       "      <th>5881</th>\n",
       "      <td>pride</td>\n",
       "      <td>1.227934</td>\n",
       "      <td>3.414168</td>\n",
       "    </tr>\n",
       "    <tr>\n",
       "      <th>7832</th>\n",
       "      <td>twitter</td>\n",
       "      <td>1.133575</td>\n",
       "      <td>3.106742</td>\n",
       "    </tr>\n",
       "    <tr>\n",
       "      <th>4297</th>\n",
       "      <td>lgbtq</td>\n",
       "      <td>1.131654</td>\n",
       "      <td>3.100781</td>\n",
       "    </tr>\n",
       "    <tr>\n",
       "      <th>3130</th>\n",
       "      <td>gay</td>\n",
       "      <td>1.035006</td>\n",
       "      <td>2.815122</td>\n",
       "    </tr>\n",
       "    <tr>\n",
       "      <th>4137</th>\n",
       "      <td>know</td>\n",
       "      <td>0.987602</td>\n",
       "      <td>2.684787</td>\n",
       "    </tr>\n",
       "    <tr>\n",
       "      <th>5867</th>\n",
       "      <td>press</td>\n",
       "      <td>0.943626</td>\n",
       "      <td>2.569280</td>\n",
       "    </tr>\n",
       "    <tr>\n",
       "      <th>7714</th>\n",
       "      <td>traffic</td>\n",
       "      <td>0.936376</td>\n",
       "      <td>2.550720</td>\n",
       "    </tr>\n",
       "    <tr>\n",
       "      <th>5095</th>\n",
       "      <td>night</td>\n",
       "      <td>0.929373</td>\n",
       "      <td>2.532921</td>\n",
       "    </tr>\n",
       "    <tr>\n",
       "      <th>2872</th>\n",
       "      <td>fest</td>\n",
       "      <td>0.927883</td>\n",
       "      <td>2.529150</td>\n",
       "    </tr>\n",
       "  </tbody>\n",
       "</table>\n",
       "</div>"
      ],
      "text/plain": [
       "         Feature  Buttigieg       Odds\n",
       "1391     chasten   2.509161  12.294614\n",
       "821         bend   2.151193   8.595108\n",
       "7044  south bend   2.151193   8.595108\n",
       "7043       south   2.091728   8.098897\n",
       "5642      police   1.924836   6.854024\n",
       "6817     service   1.540572   4.667259\n",
       "7668    tomorrow   1.469640   4.347670\n",
       "2957     florida   1.410527   4.098114\n",
       "6883    shooting   1.359742   3.895188\n",
       "7465        team   1.329285   3.778342\n",
       "3512        hire   1.326101   3.766330\n",
       "5881       pride   1.227934   3.414168\n",
       "7832     twitter   1.133575   3.106742\n",
       "4297       lgbtq   1.131654   3.100781\n",
       "3130         gay   1.035006   2.815122\n",
       "4137        know   0.987602   2.684787\n",
       "5867       press   0.943626   2.569280\n",
       "7714     traffic   0.936376   2.550720\n",
       "5095       night   0.929373   2.532921\n",
       "2872        fest   0.927883   2.529150"
      ]
     },
     "execution_count": 57,
     "metadata": {},
     "output_type": "execute_result"
    }
   ],
   "source": [
    "#Top 20 Coefficients mapped to features with the exponentiated odds - Pete Buttigieg\n",
    "\n",
    "buttigieg_top20 = df_noname[['Feature','Buttigieg']].sort_values('Buttigieg', ascending = False).head(20)\n",
    "buttigieg_top20['Odds'] = np.exp(buttigieg_top20['Buttigieg'])\n",
    "buttigieg_top20"
   ]
  },
  {
   "cell_type": "code",
   "execution_count": 35,
   "metadata": {},
   "outputs": [
    {
     "data": {
      "text/plain": [
       "12.182493960703473"
      ]
     },
     "execution_count": 35,
     "metadata": {},
     "output_type": "execute_result"
    }
   ],
   "source": [
    "np.exp(2.5)"
   ]
  },
  {
   "cell_type": "markdown",
   "metadata": {},
   "source": [
    "## Kamala Harris"
   ]
  },
  {
   "cell_type": "markdown",
   "metadata": {},
   "source": [
    "#### Names included:"
   ]
  },
  {
   "cell_type": "code",
   "execution_count": 26,
   "metadata": {},
   "outputs": [],
   "source": [
    "#Set x and y for graphs where the log odds are greater than or equal to 1.  \n",
    "\n",
    "x = df[np.abs(df['Kamala']) >= 1]['Feature']\n",
    "y = df[np.exp(np.abs(df['Kamala'])) >= 1]['Kamala']"
   ]
  },
  {
   "cell_type": "code",
   "execution_count": 28,
   "metadata": {},
   "outputs": [
    {
     "data": {
      "text/plain": [
       "<matplotlib.axes._subplots.AxesSubplot at 0x1a21181208>"
      ]
     },
     "execution_count": 28,
     "metadata": {},
     "output_type": "execute_result"
    },
    {
     "data": {
      "image/png": "[encoded data removed]",
      "text/plain": [
       "<Figure size 1440x360 with 1 Axes>"
      ]
     },
     "metadata": {
      "needs_background": "light"
     },
     "output_type": "display_data"
    }
   ],
   "source": [
    "plt.figure(figsize = (20, 5))\n",
    "\n",
    "sns.barplot(np.abs(y), x)"
   ]
  },
  {
   "cell_type": "markdown",
   "metadata": {},
   "source": [
    "#### Names Not Included:"
   ]
  },
  {
   "cell_type": "code",
   "execution_count": 26,
   "metadata": {},
   "outputs": [
    {
     "name": "stderr",
     "output_type": "stream",
     "text": [
      "/Users/davidtrichter/anaconda3/envs/dsi/lib/python3.7/site-packages/ipykernel_launcher.py:3: UserWarning: Boolean Series key will be reindexed to match DataFrame index.\n",
      "  This is separate from the ipykernel package so we can avoid doing imports until\n"
     ]
    }
   ],
   "source": [
    "#Set x and y for graphs where the log odds are greater than or equal to 1.  \n",
    "\n",
    "x = df_noname.sort_values('Kamala')[np.abs(df_noname['Kamala']) >= 1]['Feature']\n",
    "y = df_noname[np.exp(np.abs(df_noname['Kamala'])) >= 1]['Kamala']"
   ]
  },
  {
   "cell_type": "code",
   "execution_count": 27,
   "metadata": {},
   "outputs": [
    {
     "data": {
      "text/plain": [
       "<matplotlib.axes._subplots.AxesSubplot at 0x1a221e4320>"
      ]
     },
     "execution_count": 27,
     "metadata": {},
     "output_type": "execute_result"
    },
    {
     "data": {
      "image/png": "[encoded data removed]",
      "text/plain": [
       "<Figure size 1440x576 with 1 Axes>"
      ]
     },
     "metadata": {
      "needs_background": "light"
     },
     "output_type": "display_data"
    }
   ],
   "source": [
    "plt.figure(figsize = (20, 8))\n",
    "\n",
    "sns.barplot(np.abs(y), x)"
   ]
  },
  {
   "cell_type": "markdown",
   "metadata": {},
   "source": [
    "### Top 20 Coefficients - Kamala Harris"
   ]
  },
  {
   "cell_type": "code",
   "execution_count": 58,
   "metadata": {},
   "outputs": [
    {
     "data": {
      "text/html": [
       "<div>\n",
       "<style scoped>\n",
       "    .dataframe tbody tr th:only-of-type {\n",
       "        vertical-align: middle;\n",
       "    }\n",
       "\n",
       "    .dataframe tbody tr th {\n",
       "        vertical-align: top;\n",
       "    }\n",
       "\n",
       "    .dataframe thead th {\n",
       "        text-align: right;\n",
       "    }\n",
       "</style>\n",
       "<table border=\"1\" class=\"dataframe\">\n",
       "  <thead>\n",
       "    <tr style=\"text-align: right;\">\n",
       "      <th></th>\n",
       "      <th>Feature</th>\n",
       "      <th>Kamala</th>\n",
       "      <th>Odds</th>\n",
       "    </tr>\n",
       "  </thead>\n",
       "  <tbody>\n",
       "    <tr>\n",
       "      <th>767</th>\n",
       "      <td>barr</td>\n",
       "      <td>1.992593</td>\n",
       "      <td>7.334529</td>\n",
       "    </tr>\n",
       "    <tr>\n",
       "      <th>1130</th>\n",
       "      <td>california</td>\n",
       "      <td>1.929995</td>\n",
       "      <td>6.889472</td>\n",
       "    </tr>\n",
       "    <tr>\n",
       "      <th>8325</th>\n",
       "      <td>women</td>\n",
       "      <td>1.731379</td>\n",
       "      <td>5.648439</td>\n",
       "    </tr>\n",
       "    <tr>\n",
       "      <th>1110</th>\n",
       "      <td>busing</td>\n",
       "      <td>1.391322</td>\n",
       "      <td>4.020163</td>\n",
       "    </tr>\n",
       "    <tr>\n",
       "      <th>6764</th>\n",
       "      <td>sen</td>\n",
       "      <td>1.292831</td>\n",
       "      <td>3.643085</td>\n",
       "    </tr>\n",
       "    <tr>\n",
       "      <th>3895</th>\n",
       "      <td>iowa</td>\n",
       "      <td>1.281224</td>\n",
       "      <td>3.601046</td>\n",
       "    </tr>\n",
       "    <tr>\n",
       "      <th>130</th>\n",
       "      <td>2020</td>\n",
       "      <td>1.243595</td>\n",
       "      <td>3.468059</td>\n",
       "    </tr>\n",
       "    <tr>\n",
       "      <th>6784</th>\n",
       "      <td>senator</td>\n",
       "      <td>1.185918</td>\n",
       "      <td>3.273692</td>\n",
       "    </tr>\n",
       "    <tr>\n",
       "      <th>7774</th>\n",
       "      <td>trump</td>\n",
       "      <td>1.161653</td>\n",
       "      <td>3.195211</td>\n",
       "    </tr>\n",
       "    <tr>\n",
       "      <th>3336</th>\n",
       "      <td>gun</td>\n",
       "      <td>1.055200</td>\n",
       "      <td>2.872551</td>\n",
       "    </tr>\n",
       "    <tr>\n",
       "      <th>6218</th>\n",
       "      <td>real</td>\n",
       "      <td>0.999737</td>\n",
       "      <td>2.717566</td>\n",
       "    </tr>\n",
       "    <tr>\n",
       "      <th>6835</th>\n",
       "      <td>sexism</td>\n",
       "      <td>0.963907</td>\n",
       "      <td>2.621921</td>\n",
       "    </tr>\n",
       "    <tr>\n",
       "      <th>1041</th>\n",
       "      <td>breaking</td>\n",
       "      <td>0.931471</td>\n",
       "      <td>2.538240</td>\n",
       "    </tr>\n",
       "    <tr>\n",
       "      <th>2565</th>\n",
       "      <td>endorsements</td>\n",
       "      <td>0.917851</td>\n",
       "      <td>2.503904</td>\n",
       "    </tr>\n",
       "    <tr>\n",
       "      <th>8044</th>\n",
       "      <td>visit</td>\n",
       "      <td>0.895963</td>\n",
       "      <td>2.449695</td>\n",
       "    </tr>\n",
       "    <tr>\n",
       "      <th>5998</th>\n",
       "      <td>prosecutor</td>\n",
       "      <td>0.876193</td>\n",
       "      <td>2.401738</td>\n",
       "    </tr>\n",
       "    <tr>\n",
       "      <th>196</th>\n",
       "      <td>2nd</td>\n",
       "      <td>0.873931</td>\n",
       "      <td>2.396311</td>\n",
       "    </tr>\n",
       "    <tr>\n",
       "      <th>6281</th>\n",
       "      <td>record</td>\n",
       "      <td>0.857629</td>\n",
       "      <td>2.357564</td>\n",
       "    </tr>\n",
       "    <tr>\n",
       "      <th>6625</th>\n",
       "      <td>safety</td>\n",
       "      <td>0.856391</td>\n",
       "      <td>2.354647</td>\n",
       "    </tr>\n",
       "    <tr>\n",
       "      <th>353</th>\n",
       "      <td>act</td>\n",
       "      <td>0.849952</td>\n",
       "      <td>2.339534</td>\n",
       "    </tr>\n",
       "  </tbody>\n",
       "</table>\n",
       "</div>"
      ],
      "text/plain": [
       "           Feature    Kamala      Odds\n",
       "767           barr  1.992593  7.334529\n",
       "1130    california  1.929995  6.889472\n",
       "8325         women  1.731379  5.648439\n",
       "1110        busing  1.391322  4.020163\n",
       "6764           sen  1.292831  3.643085\n",
       "3895          iowa  1.281224  3.601046\n",
       "130           2020  1.243595  3.468059\n",
       "6784       senator  1.185918  3.273692\n",
       "7774         trump  1.161653  3.195211\n",
       "3336           gun  1.055200  2.872551\n",
       "6218          real  0.999737  2.717566\n",
       "6835        sexism  0.963907  2.621921\n",
       "1041      breaking  0.931471  2.538240\n",
       "2565  endorsements  0.917851  2.503904\n",
       "8044         visit  0.895963  2.449695\n",
       "5998    prosecutor  0.876193  2.401738\n",
       "196            2nd  0.873931  2.396311\n",
       "6281        record  0.857629  2.357564\n",
       "6625        safety  0.856391  2.354647\n",
       "353            act  0.849952  2.339534"
      ]
     },
     "execution_count": 58,
     "metadata": {},
     "output_type": "execute_result"
    }
   ],
   "source": [
    "#Top 20 Coefficients mapped to features with the exponentiated odds - Kamala Harris\n",
    "\n",
    "kamala_top20 = df_noname[['Feature','Kamala']].sort_values('Kamala', ascending = False).head(20)\n",
    "kamala_top20['Odds'] = np.exp(kamala_top20['Kamala'])\n",
    "kamala_top20"
   ]
  },
  {
   "cell_type": "markdown",
   "metadata": {},
   "source": [
    "## Bernie Sanders"
   ]
  },
  {
   "cell_type": "markdown",
   "metadata": {},
   "source": [
    "#### Names included:"
   ]
  },
  {
   "cell_type": "code",
   "execution_count": 63,
   "metadata": {},
   "outputs": [],
   "source": [
    "#Set x and y for graphs where the log odds are greater than or equal to 1.  \n",
    "\n",
    "x = df[np.abs(df['Sanders']) >= 1]['Feature']\n",
    "y = df[np.exp(np.abs(df['Sanders'])) >= 1]['Sanders']"
   ]
  },
  {
   "cell_type": "code",
   "execution_count": 64,
   "metadata": {},
   "outputs": [
    {
     "data": {
      "text/plain": [
       "<matplotlib.axes._subplots.AxesSubplot at 0x1a2942a8d0>"
      ]
     },
     "execution_count": 64,
     "metadata": {},
     "output_type": "execute_result"
    },
    {
     "data": {
      "image/png": "[encoded data removed]",
      "text/plain": [
       "<Figure size 1440x576 with 1 Axes>"
      ]
     },
     "metadata": {
      "needs_background": "light"
     },
     "output_type": "display_data"
    }
   ],
   "source": [
    "plt.figure(figsize = (20, 8))\n",
    "\n",
    "sns.barplot(np.abs(y), x)"
   ]
  },
  {
   "cell_type": "markdown",
   "metadata": {},
   "source": [
    "#### Names Not Included:"
   ]
  },
  {
   "cell_type": "code",
   "execution_count": 65,
   "metadata": {},
   "outputs": [
    {
     "name": "stderr",
     "output_type": "stream",
     "text": [
      "/Users/davidtrichter/anaconda3/envs/dsi/lib/python3.7/site-packages/ipykernel_launcher.py:3: UserWarning: Boolean Series key will be reindexed to match DataFrame index.\n",
      "  This is separate from the ipykernel package so we can avoid doing imports until\n"
     ]
    }
   ],
   "source": [
    "#Set x and y for graphs where the log odds are greater than or equal to 1.  \n",
    "\n",
    "x = df_noname.sort_values('Sanders')[np.abs(df_noname['Sanders']) >= 1]['Feature']\n",
    "y = df_noname[np.exp(np.abs(df_noname['Sanders'])) >= 1]['Sanders']"
   ]
  },
  {
   "cell_type": "code",
   "execution_count": 66,
   "metadata": {},
   "outputs": [
    {
     "data": {
      "text/plain": [
       "<matplotlib.axes._subplots.AxesSubplot at 0x1a29559748>"
      ]
     },
     "execution_count": 66,
     "metadata": {},
     "output_type": "execute_result"
    },
    {
     "data": {
      "image/png": "[encoded data removed]",
      "text/plain": [
       "<Figure size 1440x576 with 1 Axes>"
      ]
     },
     "metadata": {
      "needs_background": "light"
     },
     "output_type": "display_data"
    }
   ],
   "source": [
    "plt.figure(figsize = (20, 8))\n",
    "\n",
    "sns.barplot(np.abs(y), x)"
   ]
  },
  {
   "cell_type": "markdown",
   "metadata": {},
   "source": [
    "### Top 20 Coefficients - Bernie Sanders"
   ]
  },
  {
   "cell_type": "code",
   "execution_count": 55,
   "metadata": {
    "scrolled": true
   },
   "outputs": [
    {
     "data": {
      "text/html": [
       "<div>\n",
       "<style scoped>\n",
       "    .dataframe tbody tr th:only-of-type {\n",
       "        vertical-align: middle;\n",
       "    }\n",
       "\n",
       "    .dataframe tbody tr th {\n",
       "        vertical-align: top;\n",
       "    }\n",
       "\n",
       "    .dataframe thead th {\n",
       "        text-align: right;\n",
       "    }\n",
       "</style>\n",
       "<table border=\"1\" class=\"dataframe\">\n",
       "  <thead>\n",
       "    <tr style=\"text-align: right;\">\n",
       "      <th></th>\n",
       "      <th>Feature</th>\n",
       "      <th>Sanders</th>\n",
       "      <th>Odds</th>\n",
       "    </tr>\n",
       "  </thead>\n",
       "  <tbody>\n",
       "    <tr>\n",
       "      <th>5544</th>\n",
       "      <td>photo</td>\n",
       "      <td>2.300946</td>\n",
       "      <td>9.983623</td>\n",
       "    </tr>\n",
       "    <tr>\n",
       "      <th>3822</th>\n",
       "      <td>insurance</td>\n",
       "      <td>1.748496</td>\n",
       "      <td>5.745952</td>\n",
       "    </tr>\n",
       "    <tr>\n",
       "      <th>4719</th>\n",
       "      <td>medicare</td>\n",
       "      <td>1.605474</td>\n",
       "      <td>4.980218</td>\n",
       "    </tr>\n",
       "    <tr>\n",
       "      <th>1922</th>\n",
       "      <td>deadline</td>\n",
       "      <td>1.599260</td>\n",
       "      <td>4.949368</td>\n",
       "    </tr>\n",
       "    <tr>\n",
       "      <th>2325</th>\n",
       "      <td>donated</td>\n",
       "      <td>1.471858</td>\n",
       "      <td>4.357323</td>\n",
       "    </tr>\n",
       "    <tr>\n",
       "      <th>3428</th>\n",
       "      <td>health</td>\n",
       "      <td>1.456241</td>\n",
       "      <td>4.289806</td>\n",
       "    </tr>\n",
       "    <tr>\n",
       "      <th>2335</th>\n",
       "      <td>donation</td>\n",
       "      <td>1.431724</td>\n",
       "      <td>4.185910</td>\n",
       "    </tr>\n",
       "    <tr>\n",
       "      <th>1905</th>\n",
       "      <td>david</td>\n",
       "      <td>1.355924</td>\n",
       "      <td>3.880345</td>\n",
       "    </tr>\n",
       "    <tr>\n",
       "      <th>7655</th>\n",
       "      <td>today</td>\n",
       "      <td>1.337577</td>\n",
       "      <td>3.809801</td>\n",
       "    </tr>\n",
       "    <tr>\n",
       "      <th>184</th>\n",
       "      <td>27</td>\n",
       "      <td>1.312923</td>\n",
       "      <td>3.717023</td>\n",
       "    </tr>\n",
       "    <tr>\n",
       "      <th>7829</th>\n",
       "      <td>twitch</td>\n",
       "      <td>1.307393</td>\n",
       "      <td>3.696524</td>\n",
       "    </tr>\n",
       "    <tr>\n",
       "      <th>6506</th>\n",
       "      <td>revolution</td>\n",
       "      <td>1.178057</td>\n",
       "      <td>3.248058</td>\n",
       "    </tr>\n",
       "    <tr>\n",
       "      <th>1906</th>\n",
       "      <td>david sirota</td>\n",
       "      <td>1.116399</td>\n",
       "      <td>3.053836</td>\n",
       "    </tr>\n",
       "    <tr>\n",
       "      <th>6946</th>\n",
       "      <td>sirota</td>\n",
       "      <td>1.116399</td>\n",
       "      <td>3.053836</td>\n",
       "    </tr>\n",
       "    <tr>\n",
       "      <th>5108</th>\n",
       "      <td>nina</td>\n",
       "      <td>1.097918</td>\n",
       "      <td>2.997917</td>\n",
       "    </tr>\n",
       "    <tr>\n",
       "      <th>6518</th>\n",
       "      <td>right</td>\n",
       "      <td>1.092109</td>\n",
       "      <td>2.980552</td>\n",
       "    </tr>\n",
       "    <tr>\n",
       "      <th>8158</th>\n",
       "      <td>war</td>\n",
       "      <td>1.087870</td>\n",
       "      <td>2.967947</td>\n",
       "    </tr>\n",
       "    <tr>\n",
       "      <th>4709</th>\n",
       "      <td>media</td>\n",
       "      <td>1.046352</td>\n",
       "      <td>2.847246</td>\n",
       "    </tr>\n",
       "    <tr>\n",
       "      <th>4379</th>\n",
       "      <td>link</td>\n",
       "      <td>1.015330</td>\n",
       "      <td>2.760274</td>\n",
       "    </tr>\n",
       "    <tr>\n",
       "      <th>7431</th>\n",
       "      <td>talking</td>\n",
       "      <td>0.986283</td>\n",
       "      <td>2.681251</td>\n",
       "    </tr>\n",
       "  </tbody>\n",
       "</table>\n",
       "</div>"
      ],
      "text/plain": [
       "           Feature   Sanders      Odds\n",
       "5544         photo  2.300946  9.983623\n",
       "3822     insurance  1.748496  5.745952\n",
       "4719      medicare  1.605474  4.980218\n",
       "1922      deadline  1.599260  4.949368\n",
       "2325       donated  1.471858  4.357323\n",
       "3428        health  1.456241  4.289806\n",
       "2335      donation  1.431724  4.185910\n",
       "1905         david  1.355924  3.880345\n",
       "7655         today  1.337577  3.809801\n",
       "184             27  1.312923  3.717023\n",
       "7829        twitch  1.307393  3.696524\n",
       "6506    revolution  1.178057  3.248058\n",
       "1906  david sirota  1.116399  3.053836\n",
       "6946        sirota  1.116399  3.053836\n",
       "5108          nina  1.097918  2.997917\n",
       "6518         right  1.092109  2.980552\n",
       "8158           war  1.087870  2.967947\n",
       "4709         media  1.046352  2.847246\n",
       "4379          link  1.015330  2.760274\n",
       "7431       talking  0.986283  2.681251"
      ]
     },
     "execution_count": 55,
     "metadata": {},
     "output_type": "execute_result"
    }
   ],
   "source": [
    "#Top 20 Coefficients mapped to features with the exponentiated odds - Bernie Sanders\n",
    "\n",
    "sanders_top20 = df_noname[['Feature','Sanders']].sort_values('Sanders', ascending = False).head(20)\n",
    "sanders_top20['Odds'] = np.exp(sanders_top20['Sanders'])\n",
    "sanders_top20"
   ]
  },
  {
   "cell_type": "markdown",
   "metadata": {},
   "source": [
    "## Elizabeth Warren"
   ]
  },
  {
   "cell_type": "markdown",
   "metadata": {},
   "source": [
    "#### Names included:"
   ]
  },
  {
   "cell_type": "code",
   "execution_count": 39,
   "metadata": {},
   "outputs": [],
   "source": [
    "#Set x and y for graphs where the log odds are greater than or equal to 1.  \n",
    "\n",
    "x = df[np.abs(df['Warren']) >= 1]['Feature']\n",
    "y = df[np.exp(np.abs(df['Warren'])) >= 1]['Warren']"
   ]
  },
  {
   "cell_type": "code",
   "execution_count": 40,
   "metadata": {},
   "outputs": [
    {
     "data": {
      "text/plain": [
       "<matplotlib.axes._subplots.AxesSubplot at 0x1a22581898>"
      ]
     },
     "execution_count": 40,
     "metadata": {},
     "output_type": "execute_result"
    },
    {
     "data": {
      "image/png": "[encoded data removed]",
      "text/plain": [
       "<Figure size 1440x360 with 1 Axes>"
      ]
     },
     "metadata": {
      "needs_background": "light"
     },
     "output_type": "display_data"
    }
   ],
   "source": [
    "plt.figure(figsize = (20, 5))\n",
    "\n",
    "sns.barplot(np.abs(y), x)"
   ]
  },
  {
   "cell_type": "markdown",
   "metadata": {},
   "source": [
    "#### Names Not Included:"
   ]
  },
  {
   "cell_type": "code",
   "execution_count": 21,
   "metadata": {},
   "outputs": [
    {
     "name": "stderr",
     "output_type": "stream",
     "text": [
      "/Users/davidtrichter/anaconda3/envs/dsi/lib/python3.7/site-packages/ipykernel_launcher.py:3: UserWarning: Boolean Series key will be reindexed to match DataFrame index.\n",
      "  This is separate from the ipykernel package so we can avoid doing imports until\n"
     ]
    }
   ],
   "source": [
    "#Set x and y for graphs where the log odds are greater than or equal to 1.  \n",
    "\n",
    "x = df_noname.sort_values('Warren')[np.abs(df_noname['Warren']) >= 1]['Feature']\n",
    "y = df_noname[np.exp(np.abs(df_noname['Warren'])) >= 1]['Warren']"
   ]
  },
  {
   "cell_type": "code",
   "execution_count": 22,
   "metadata": {},
   "outputs": [
    {
     "data": {
      "text/plain": [
       "<matplotlib.axes._subplots.AxesSubplot at 0x1a22a8e128>"
      ]
     },
     "execution_count": 22,
     "metadata": {},
     "output_type": "execute_result"
    },
    {
     "data": {
      "image/png": "[encoded data removed]",
      "text/plain": [
       "<Figure size 1440x360 with 1 Axes>"
      ]
     },
     "metadata": {
      "needs_background": "light"
     },
     "output_type": "display_data"
    }
   ],
   "source": [
    "plt.figure(figsize = (20, 5))\n",
    "\n",
    "sns.barplot(np.abs(y), x)"
   ]
  },
  {
   "cell_type": "markdown",
   "metadata": {},
   "source": [
    "### Top 20 Coefficients - Elizabeth Warren"
   ]
  },
  {
   "cell_type": "code",
   "execution_count": 50,
   "metadata": {
    "scrolled": true
   },
   "outputs": [
    {
     "data": {
      "text/html": [
       "<div>\n",
       "<style scoped>\n",
       "    .dataframe tbody tr th:only-of-type {\n",
       "        vertical-align: middle;\n",
       "    }\n",
       "\n",
       "    .dataframe tbody tr th {\n",
       "        vertical-align: top;\n",
       "    }\n",
       "\n",
       "    .dataframe thead th {\n",
       "        text-align: right;\n",
       "    }\n",
       "</style>\n",
       "<table border=\"1\" class=\"dataframe\">\n",
       "  <thead>\n",
       "    <tr style=\"text-align: right;\">\n",
       "      <th></th>\n",
       "      <th>Feature</th>\n",
       "      <th>Warren</th>\n",
       "      <th>Odds</th>\n",
       "    </tr>\n",
       "  </thead>\n",
       "  <tbody>\n",
       "    <tr>\n",
       "      <th>5580</th>\n",
       "      <td>plan</td>\n",
       "      <td>2.682410</td>\n",
       "      <td>14.620283</td>\n",
       "    </tr>\n",
       "    <tr>\n",
       "      <th>5657</th>\n",
       "      <td>policy</td>\n",
       "      <td>2.048126</td>\n",
       "      <td>7.753357</td>\n",
       "    </tr>\n",
       "    <tr>\n",
       "      <th>7543</th>\n",
       "      <td>theory</td>\n",
       "      <td>1.305991</td>\n",
       "      <td>3.691345</td>\n",
       "    </tr>\n",
       "    <tr>\n",
       "      <th>6539</th>\n",
       "      <td>rise</td>\n",
       "      <td>1.280755</td>\n",
       "      <td>3.599356</td>\n",
       "    </tr>\n",
       "    <tr>\n",
       "      <th>4235</th>\n",
       "      <td>leads</td>\n",
       "      <td>1.215345</td>\n",
       "      <td>3.371458</td>\n",
       "    </tr>\n",
       "    <tr>\n",
       "      <th>1274</th>\n",
       "      <td>capitalism</td>\n",
       "      <td>1.177264</td>\n",
       "      <td>3.245483</td>\n",
       "    </tr>\n",
       "    <tr>\n",
       "      <th>1979</th>\n",
       "      <td>debt</td>\n",
       "      <td>1.060021</td>\n",
       "      <td>2.886431</td>\n",
       "    </tr>\n",
       "    <tr>\n",
       "      <th>655</th>\n",
       "      <td>ask</td>\n",
       "      <td>1.023957</td>\n",
       "      <td>2.784190</td>\n",
       "    </tr>\n",
       "    <tr>\n",
       "      <th>8307</th>\n",
       "      <td>winning</td>\n",
       "      <td>1.004196</td>\n",
       "      <td>2.729712</td>\n",
       "    </tr>\n",
       "    <tr>\n",
       "      <th>5594</th>\n",
       "      <td>plans</td>\n",
       "      <td>1.003014</td>\n",
       "      <td>2.726486</td>\n",
       "    </tr>\n",
       "    <tr>\n",
       "      <th>8308</th>\n",
       "      <td>wins</td>\n",
       "      <td>0.966951</td>\n",
       "      <td>2.629913</td>\n",
       "    </tr>\n",
       "    <tr>\n",
       "      <th>5702</th>\n",
       "      <td>poll</td>\n",
       "      <td>0.965697</td>\n",
       "      <td>2.626618</td>\n",
       "    </tr>\n",
       "    <tr>\n",
       "      <th>147</th>\n",
       "      <td>2020 race</td>\n",
       "      <td>0.951057</td>\n",
       "      <td>2.588443</td>\n",
       "    </tr>\n",
       "    <tr>\n",
       "      <th>7258</th>\n",
       "      <td>student</td>\n",
       "      <td>0.949447</td>\n",
       "      <td>2.584281</td>\n",
       "    </tr>\n",
       "    <tr>\n",
       "      <th>1686</th>\n",
       "      <td>consumer</td>\n",
       "      <td>0.947364</td>\n",
       "      <td>2.578903</td>\n",
       "    </tr>\n",
       "    <tr>\n",
       "      <th>7145</th>\n",
       "      <td>state</td>\n",
       "      <td>0.917253</td>\n",
       "      <td>2.502407</td>\n",
       "    </tr>\n",
       "    <tr>\n",
       "      <th>4435</th>\n",
       "      <td>loan</td>\n",
       "      <td>0.910611</td>\n",
       "      <td>2.485841</td>\n",
       "    </tr>\n",
       "    <tr>\n",
       "      <th>8022</th>\n",
       "      <td>view</td>\n",
       "      <td>0.897919</td>\n",
       "      <td>2.454490</td>\n",
       "    </tr>\n",
       "    <tr>\n",
       "      <th>3410</th>\n",
       "      <td>having</td>\n",
       "      <td>0.896695</td>\n",
       "      <td>2.451487</td>\n",
       "    </tr>\n",
       "    <tr>\n",
       "      <th>5933</th>\n",
       "      <td>problem</td>\n",
       "      <td>0.881168</td>\n",
       "      <td>2.413718</td>\n",
       "    </tr>\n",
       "  </tbody>\n",
       "</table>\n",
       "</div>"
      ],
      "text/plain": [
       "         Feature    Warren       Odds\n",
       "5580        plan  2.682410  14.620283\n",
       "5657      policy  2.048126   7.753357\n",
       "7543      theory  1.305991   3.691345\n",
       "6539        rise  1.280755   3.599356\n",
       "4235       leads  1.215345   3.371458\n",
       "1274  capitalism  1.177264   3.245483\n",
       "1979        debt  1.060021   2.886431\n",
       "655          ask  1.023957   2.784190\n",
       "8307     winning  1.004196   2.729712\n",
       "5594       plans  1.003014   2.726486\n",
       "8308        wins  0.966951   2.629913\n",
       "5702        poll  0.965697   2.626618\n",
       "147    2020 race  0.951057   2.588443\n",
       "7258     student  0.949447   2.584281\n",
       "1686    consumer  0.947364   2.578903\n",
       "7145       state  0.917253   2.502407\n",
       "4435        loan  0.910611   2.485841\n",
       "8022        view  0.897919   2.454490\n",
       "3410      having  0.896695   2.451487\n",
       "5933     problem  0.881168   2.413718"
      ]
     },
     "execution_count": 50,
     "metadata": {},
     "output_type": "execute_result"
    }
   ],
   "source": [
    "#Top 20 Coefficients mapped to features with the exponentiated odds - Elizabeth Warren\n",
    "\n",
    "warren_top20 = df_noname[['Feature','Warren']].sort_values('Warren', ascending = False).head(20)\n",
    "warren_top20['Odds'] = np.exp(warren_top20['Warren'])\n",
    "warren_top20"
   ]
  },
  {
   "cell_type": "markdown",
   "metadata": {},
   "source": [
    "# Conclusions & Recommendations\n",
    "\n",
    "#### Conclusions\n",
    "After a painstaking attempt to use classification modeling techniques (excluding neural networks), it was determined to be very difficult to classify the 4 thousand+ documents collected from the subreddits of Bernie Sanders, Elizabeth Warren, Kamala Harris, and Pete Buttigieg.  However, three benchmarks are worth noting right off the top.\n",
    "\n",
    "First, the baseline accuracy was only 26%, as we were training the models on four different classes.  There was also one unbalanced class, as I was not able to collect quite as many posts from the Elizabeth Warren Subreddit.\n",
    "\n",
    "Second, the accuracy was actually quite high (close to 90%) when the candidate names / nicknames were left in the model.  However, I found it more interesting to try to create a model that excluded these, in order to see if there are any strong cultural or policy differentiators between the candidates.\n",
    "\n",
    "And third, while the model that took these considerations under advisement performed with an accuracy of only 52%, the is still double the baseline score, and it provided us with a handfull of insights about how the candidates are within the Reddit bubble.  \n",
    "\n",
    "The fact that Elizabeth Warren's top 3 features were 'plan', 'policy', and 'theory', speak to her brand and ability to lead with ideas.  Pete Buttigieg and Kamala Harris were both strongly tied to their homes, South Bend, IN and California, respectively.  This is notable, more so that this hometown boost is not the case for Warren or Sanders.  Buttigieg's top coefficient feature was 'Chasten', his husband's name.  This is likely part in due to an effort for him to come across as a man of family values.  For Kamala Harris, her top coefficient feature was 'Barr', as in the attorney general Bill Barr. This speaks to her brand as a tough prosecutor who is be willing to stand in front of someone like Barr.  She also has a high coefficient for 'women', which again, is interesting that Warren didn't dilute that coefficient more. Finally, Bernie Sander's top feature coefficient was photo at almost 10x the odds of any other candidate.  This speaks to him as a celebrity.  However, there is also some substance.  His next top coefficients are 'insurance' and 'medicare', two topics that he has led the charge on over the past 4 years.  He has 5x the odds of any other candidate for those words.  \n",
    "\n",
    "#### Recommendations\n",
    "\n",
    "My recommendations to the candidates would be to double down on what makes them stand out from the crowd, and possibly more importantly, the topics that they WANT to differentiate themselves with.  Sanders has done this, and Warren has established herself as the policy candidate.  Harris and Buttigieg, while they come across as having strong minds to solve big problems, people aren't latching onto any one of them.  This was one area that also hurt Hillary Clinton in 2016, and it would serve these candidates well to attack it head on with one or two passion projects that stand above the rest.  \n",
    "\n",
    "If I were to make recommendations on how to improve the project and the modeling, it would first and foremost come down to more data collection.  I misunderstood how the Reddit API works, and therefore was only able to collect about 4000 posts between the 4 candidates.  I would love to see how the models would turn out differently given a much wider lense of voter opinion.\n",
    "\n",
    "Second, there are a number of additional models that I would love to try on this problem, that I do not have the expertise at yet (NLP technologies that use Neural Networks), or struggled implementing (XGBoost).  I hope to double back on these challenges with a future project as I continue to learn how to better implement my ideas into the data science work flow.  \n",
    "\n"
   ]
  },
  {
   "cell_type": "code",
   "execution_count": null,
   "metadata": {},
   "outputs": [],
   "source": []
  }
 ],
 "metadata": {
  "kernelspec": {
   "display_name": "Python 3",
   "language": "python",
   "name": "python3"
  },
  "language_info": {
   "codemirror_mode": {
    "name": "ipython",
    "version": 3
   },
   "file_extension": ".py",
   "mimetype": "text/x-python",
   "name": "python",
   "nbconvert_exporter": "python",
   "pygments_lexer": "ipython3",
   "version": "3.7.3"
  }
 },
 "nbformat": 4,
 "nbformat_minor": 2
}
